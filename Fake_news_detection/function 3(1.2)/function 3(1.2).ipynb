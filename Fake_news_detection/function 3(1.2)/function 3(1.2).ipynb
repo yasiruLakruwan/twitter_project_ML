{
  "nbformat": 4,
  "nbformat_minor": 0,
  "metadata": {
    "colab": {
      "provenance": [],
      "gpuType": "T4"
    },
    "kernelspec": {
      "name": "python3",
      "display_name": "Python 3"
    },
    "language_info": {
      "name": "python"
    },
    "accelerator": "GPU"
  },
  "cells": [
    {
      "cell_type": "code",
      "execution_count": null,
      "metadata": {
        "id": "shn67fCAVej7"
      },
      "outputs": [],
      "source": [
        "import pandas as pd\n",
        "import numpy as np\n",
        "from matplotlib import pyplot as plt\n",
        "import seaborn as sns\n",
        "from sklearn.preprocessing import StandardScaler\n",
        "from sklearn.model_selection import train_test_split\n",
        "from tensorflow.keras.preprocessing.text import Tokenizer\n",
        "from tensorflow.keras.preprocessing.sequence import pad_sequences\n",
        "from tensorflow.keras.models import Model\n",
        "from tensorflow.keras.layers import Input, Embedding, LSTM, Dense, Dropout, concatenate, BatchNormalization\n",
        "from tensorflow.keras.utils import to_categorical\n",
        "from tensorflow.keras.callbacks import EarlyStopping\n",
        "from tensorflow.keras.regularizers import l2\n",
        "import requests\n",
        "import tensorflow as tf\n"
      ]
    },
    {
      "cell_type": "code",
      "source": [
        "# Load and preprocess the data\n",
        "data = pd.read_csv('/content/drive/MyDrive/Truth seek/Features_For_Traditional_ML_Techniques.csv')\n",
        "data = data.drop(columns=['Unnamed: 0', 'majority_target', 'statement', 'embeddings'])"
      ],
      "metadata": {
        "id": "Hl5ZxM8BVrZ9"
      },
      "execution_count": null,
      "outputs": []
    },
    {
      "cell_type": "code",
      "source": [
        "# Plot target variable distribution\n",
        "sns.countplot(x='BinaryNumTarget', data=data)\n",
        "plt.xlabel('BinaryNumTarget')\n",
        "plt.ylabel('Count')\n",
        "plt.title('Distribution of BinaryNumTarget')\n",
        "plt.show()"
      ],
      "metadata": {
        "colab": {
          "base_uri": "https://localhost:8080/",
          "height": 472
        },
        "id": "lVVTEXl0V2cb",
        "outputId": "3d16202a-0ac0-4f22-bf0f-3ea09c9aef51"
      },
      "execution_count": null,
      "outputs": [
        {
          "output_type": "display_data",
          "data": {
            "text/plain": [
              "<Figure size 640x480 with 1 Axes>"
            ],
            "image/png": "[encoded data removed]"
          },
          "metadata": {}
        }
      ]
    },
    {
      "cell_type": "code",
      "source": [
        "# Prepare tweet data for model\n",
        "max_words = 1000  # Max number of words to keep in Tokenizer\n",
        "max_seq_length = 100  # Max sequence length for padding\n"
      ],
      "metadata": {
        "id": "AMVTlRptV_pT"
      },
      "execution_count": null,
      "outputs": []
    },
    {
      "cell_type": "code",
      "source": [
        "import re\n",
        "\n",
        "def clean_text(text):\n",
        "    text = re.sub(r'\\d+', '', text)  # Remove digits\n",
        "    text = re.sub(r'[^\\w\\s]', '', text)  # Remove punctuation\n",
        "    text = re.sub(r'\\s+', ' ', text)  # Remove multiple spaces\n",
        "    text = text.lower().strip()  # Convert to lowercase and strip leading/trailing spaces\n",
        "    return text\n",
        "\n",
        "data['tweet'] = data['tweet'].apply(clean_text)\n"
      ],
      "metadata": {
        "id": "RCV3lduJnMg8"
      },
      "execution_count": null,
      "outputs": []
    },
    {
      "cell_type": "code",
      "source": [
        "tokenizer = Tokenizer(num_words=max_words)\n",
        "tokenizer.fit_on_texts(data['tweet'])\n",
        "sequences = tokenizer.texts_to_sequences(data['tweet'])\n",
        "word_index = tokenizer.word_index\n",
        "\n",
        "tweet_data = pad_sequences(sequences, maxlen=max_seq_length)"
      ],
      "metadata": {
        "id": "MebxfSFwWCsy"
      },
      "execution_count": null,
      "outputs": []
    },
    {
      "cell_type": "code",
      "source": [
        "# Target variable\n",
        "target = data['BinaryNumTarget'].values"
      ],
      "metadata": {
        "id": "e7FIn6wnaLEM"
      },
      "execution_count": null,
      "outputs": []
    },
    {
      "cell_type": "code",
      "source": [
        "# Train-test split\n",
        "X_train, X_test, y_train, y_test = train_test_split(tweet_data, target, test_size=0.2, random_state=42)"
      ],
      "metadata": {
        "id": "sDQeny-VWE5z"
      },
      "execution_count": null,
      "outputs": []
    },
    {
      "cell_type": "code",
      "source": [
        "# RNN Model Architecture\n",
        "text_input = Input(shape=(max_seq_length,))\n",
        "embedding_layer = Embedding(max_words, 100)(text_input)\n",
        "lstm_layer = LSTM(64, return_sequences=False)(embedding_layer)\n",
        "lstm_layer = Dropout(0.5)(lstm_layer)\n",
        "dense_layer = Dense(64, activation='relu')(lstm_layer)\n",
        "dense_layer = Dropout(0.5)(dense_layer)\n",
        "output_layer = Dense(1, activation='sigmoid')(lstm_layer)"
      ],
      "metadata": {
        "id": "4EndmI8DWPJT"
      },
      "execution_count": null,
      "outputs": []
    },
    {
      "cell_type": "code",
      "source": [
        "optimizer = tf.keras.optimizers.AdamW(learning_rate=0.00001)"
      ],
      "metadata": {
        "id": "iq9gqk9e-xsX"
      },
      "execution_count": null,
      "outputs": []
    },
    {
      "cell_type": "code",
      "source": [
        "model = Model(inputs=text_input, outputs=output_layer)\n",
        "model.compile(optimizer=optimizer, loss='binary_crossentropy', metrics=['accuracy'])"
      ],
      "metadata": {
        "id": "KF-L1FdVXdeD"
      },
      "execution_count": null,
      "outputs": []
    },
    {
      "cell_type": "code",
      "source": [
        "# Model Training\n",
        "callbacks = [EarlyStopping(patience=3, monitor='val_loss', restore_best_weights=True)]\n",
        "history = model.fit(X_train, y_train, epochs=50, batch_size=32,\n",
        "                    validation_split=0.2, callbacks=callbacks)\n"
      ],
      "metadata": {
        "colab": {
          "base_uri": "https://localhost:8080/"
        },
        "id": "BoK5pit8aVfj",
        "outputId": "a2a2c83e-98db-493f-9a91-d56d03a37a77"
      },
      "execution_count": null,
      "outputs": [
        {
          "output_type": "stream",
          "name": "stdout",
          "text": [
            "Epoch 1/50\n",
            "\u001b[1m2684/2684\u001b[0m \u001b[32m━━━━━━━━━━━━━━━━━━━━\u001b[0m\u001b[37m\u001b[0m \u001b[1m217s\u001b[0m 80ms/step - accuracy: 0.5360 - loss: 0.6906 - val_accuracy: 0.6359 - val_loss: 0.6705\n",
            "Epoch 2/50\n",
            "\u001b[1m2684/2684\u001b[0m \u001b[32m━━━━━━━━━━━━━━━━━━━━\u001b[0m\u001b[37m\u001b[0m \u001b[1m206s\u001b[0m 77ms/step - accuracy: 0.6792 - loss: 0.6367 - val_accuracy: 0.7698 - val_loss: 0.4926\n",
            "Epoch 3/50\n",
            "\u001b[1m2684/2684\u001b[0m \u001b[32m━━━━━━━━━━━━━━━━━━━━\u001b[0m\u001b[37m\u001b[0m \u001b[1m205s\u001b[0m 76ms/step - accuracy: 0.8290 - loss: 0.4649 - val_accuracy: 0.8528 - val_loss: 0.3971\n",
            "Epoch 4/50\n",
            "\u001b[1m2684/2684\u001b[0m \u001b[32m━━━━━━━━━━━━━━━━━━━━\u001b[0m\u001b[37m\u001b[0m \u001b[1m261s\u001b[0m 76ms/step - accuracy: 0.8700 - loss: 0.3777 - val_accuracy: 0.8825 - val_loss: 0.3333\n",
            "Epoch 5/50\n",
            "\u001b[1m2684/2684\u001b[0m \u001b[32m━━━━━━━━━━━━━━━━━━━━\u001b[0m\u001b[37m\u001b[0m \u001b[1m261s\u001b[0m 76ms/step - accuracy: 0.8896 - loss: 0.3217 - val_accuracy: 0.8939 - val_loss: 0.2950\n",
            "Epoch 6/50\n",
            "\u001b[1m2684/2684\u001b[0m \u001b[32m━━━━━━━━━━━━━━━━━━━━\u001b[0m\u001b[37m\u001b[0m \u001b[1m264s\u001b[0m 77ms/step - accuracy: 0.9001 - loss: 0.2859 - val_accuracy: 0.9006 - val_loss: 0.2676\n",
            "Epoch 7/50\n",
            "\u001b[1m2684/2684\u001b[0m \u001b[32m━━━━━━━━━━━━━━━━━━━━\u001b[0m\u001b[37m\u001b[0m \u001b[1m274s\u001b[0m 81ms/step - accuracy: 0.9095 - loss: 0.2583 - val_accuracy: 0.9068 - val_loss: 0.2488\n",
            "Epoch 8/50\n",
            "\u001b[1m2684/2684\u001b[0m \u001b[32m━━━━━━━━━━━━━━━━━━━━\u001b[0m\u001b[37m\u001b[0m \u001b[1m251s\u001b[0m 77ms/step - accuracy: 0.9149 - loss: 0.2401 - val_accuracy: 0.9110 - val_loss: 0.2371\n",
            "Epoch 9/50\n",
            "\u001b[1m2684/2684\u001b[0m \u001b[32m━━━━━━━━━━━━━━━━━━━━\u001b[0m\u001b[37m\u001b[0m \u001b[1m208s\u001b[0m 77ms/step - accuracy: 0.9181 - loss: 0.2287 - val_accuracy: 0.9135 - val_loss: 0.2296\n",
            "Epoch 10/50\n",
            "\u001b[1m2684/2684\u001b[0m \u001b[32m━━━━━━━━━━━━━━━━━━━━\u001b[0m\u001b[37m\u001b[0m \u001b[1m277s\u001b[0m 83ms/step - accuracy: 0.9208 - loss: 0.2217 - val_accuracy: 0.9168 - val_loss: 0.2228\n",
            "Epoch 11/50\n",
            "\u001b[1m2684/2684\u001b[0m \u001b[32m━━━━━━━━━━━━━━━━━━━━\u001b[0m\u001b[37m\u001b[0m \u001b[1m250s\u001b[0m 79ms/step - accuracy: 0.9238 - loss: 0.2101 - val_accuracy: 0.9177 - val_loss: 0.2183\n",
            "Epoch 12/50\n",
            "\u001b[1m2684/2684\u001b[0m \u001b[32m━━━━━━━━━━━━━━━━━━━━\u001b[0m\u001b[37m\u001b[0m \u001b[1m260s\u001b[0m 78ms/step - accuracy: 0.9240 - loss: 0.2091 - val_accuracy: 0.9196 - val_loss: 0.2153\n",
            "Epoch 13/50\n",
            "\u001b[1m2684/2684\u001b[0m \u001b[32m━━━━━━━━━━━━━━━━━━━━\u001b[0m\u001b[37m\u001b[0m \u001b[1m264s\u001b[0m 78ms/step - accuracy: 0.9259 - loss: 0.2066 - val_accuracy: 0.9202 - val_loss: 0.2101\n",
            "Epoch 14/50\n",
            "\u001b[1m2684/2684\u001b[0m \u001b[32m━━━━━━━━━━━━━━━━━━━━\u001b[0m\u001b[37m\u001b[0m \u001b[1m259s\u001b[0m 78ms/step - accuracy: 0.9285 - loss: 0.1978 - val_accuracy: 0.9214 - val_loss: 0.2075\n",
            "Epoch 15/50\n",
            "\u001b[1m2684/2684\u001b[0m \u001b[32m━━━━━━━━━━━━━━━━━━━━\u001b[0m\u001b[37m\u001b[0m \u001b[1m270s\u001b[0m 80ms/step - accuracy: 0.9298 - loss: 0.1954 - val_accuracy: 0.9223 - val_loss: 0.2053\n",
            "Epoch 16/50\n",
            "\u001b[1m2684/2684\u001b[0m \u001b[32m━━━━━━━━━━━━━━━━━━━━\u001b[0m\u001b[37m\u001b[0m \u001b[1m256s\u001b[0m 78ms/step - accuracy: 0.9291 - loss: 0.1943 - val_accuracy: 0.9226 - val_loss: 0.2047\n",
            "Epoch 17/50\n",
            "\u001b[1m2684/2684\u001b[0m \u001b[32m━━━━━━━━━━━━━━━━━━━━\u001b[0m\u001b[37m\u001b[0m \u001b[1m266s\u001b[0m 80ms/step - accuracy: 0.9307 - loss: 0.1907 - val_accuracy: 0.9236 - val_loss: 0.2025\n",
            "Epoch 18/50\n",
            "\u001b[1m2684/2684\u001b[0m \u001b[32m━━━━━━━━━━━━━━━━━━━━\u001b[0m\u001b[37m\u001b[0m \u001b[1m257s\u001b[0m 78ms/step - accuracy: 0.9306 - loss: 0.1907 - val_accuracy: 0.9242 - val_loss: 0.2003\n",
            "Epoch 19/50\n",
            "\u001b[1m2684/2684\u001b[0m \u001b[32m━━━━━━━━━━━━━━━━━━━━\u001b[0m\u001b[37m\u001b[0m \u001b[1m265s\u001b[0m 79ms/step - accuracy: 0.9295 - loss: 0.1909 - val_accuracy: 0.9246 - val_loss: 0.1988\n",
            "Epoch 20/50\n",
            "\u001b[1m2684/2684\u001b[0m \u001b[32m━━━━━━━━━━━━━━━━━━━━\u001b[0m\u001b[37m\u001b[0m \u001b[1m258s\u001b[0m 78ms/step - accuracy: 0.9330 - loss: 0.1853 - val_accuracy: 0.9246 - val_loss: 0.1988\n",
            "Epoch 21/50\n",
            "\u001b[1m2684/2684\u001b[0m \u001b[32m━━━━━━━━━━━━━━━━━━━━\u001b[0m\u001b[37m\u001b[0m \u001b[1m263s\u001b[0m 78ms/step - accuracy: 0.9334 - loss: 0.1835 - val_accuracy: 0.9256 - val_loss: 0.1964\n",
            "Epoch 22/50\n",
            "\u001b[1m2684/2684\u001b[0m \u001b[32m━━━━━━━━━━━━━━━━━━━━\u001b[0m\u001b[37m\u001b[0m \u001b[1m261s\u001b[0m 78ms/step - accuracy: 0.9322 - loss: 0.1841 - val_accuracy: 0.9264 - val_loss: 0.1956\n",
            "Epoch 23/50\n",
            "\u001b[1m2684/2684\u001b[0m \u001b[32m━━━━━━━━━━━━━━━━━━━━\u001b[0m\u001b[37m\u001b[0m \u001b[1m262s\u001b[0m 78ms/step - accuracy: 0.9330 - loss: 0.1843 - val_accuracy: 0.9266 - val_loss: 0.1950\n",
            "Epoch 24/50\n",
            "\u001b[1m2684/2684\u001b[0m \u001b[32m━━━━━━━━━━━━━━━━━━━━\u001b[0m\u001b[37m\u001b[0m \u001b[1m214s\u001b[0m 80ms/step - accuracy: 0.9340 - loss: 0.1802 - val_accuracy: 0.9260 - val_loss: 0.1948\n",
            "Epoch 25/50\n",
            "\u001b[1m2684/2684\u001b[0m \u001b[32m━━━━━━━━━━━━━━━━━━━━\u001b[0m\u001b[37m\u001b[0m \u001b[1m222s\u001b[0m 83ms/step - accuracy: 0.9327 - loss: 0.1819 - val_accuracy: 0.9263 - val_loss: 0.1939\n",
            "Epoch 26/50\n",
            "\u001b[1m2684/2684\u001b[0m \u001b[32m━━━━━━━━━━━━━━━━━━━━\u001b[0m\u001b[37m\u001b[0m \u001b[1m213s\u001b[0m 79ms/step - accuracy: 0.9339 - loss: 0.1802 - val_accuracy: 0.9270 - val_loss: 0.1921\n",
            "Epoch 27/50\n",
            "\u001b[1m2684/2684\u001b[0m \u001b[32m━━━━━━━━━━━━━━━━━━━━\u001b[0m\u001b[37m\u001b[0m \u001b[1m220s\u001b[0m 82ms/step - accuracy: 0.9339 - loss: 0.1793 - val_accuracy: 0.9277 - val_loss: 0.1924\n",
            "Epoch 28/50\n",
            "\u001b[1m2684/2684\u001b[0m \u001b[32m━━━━━━━━━━━━━━━━━━━━\u001b[0m\u001b[37m\u001b[0m \u001b[1m212s\u001b[0m 79ms/step - accuracy: 0.9339 - loss: 0.1797 - val_accuracy: 0.9283 - val_loss: 0.1921\n",
            "Epoch 29/50\n",
            "\u001b[1m2684/2684\u001b[0m \u001b[32m━━━━━━━━━━━━━━━━━━━━\u001b[0m\u001b[37m\u001b[0m \u001b[1m261s\u001b[0m 79ms/step - accuracy: 0.9352 - loss: 0.1774 - val_accuracy: 0.9278 - val_loss: 0.1908\n",
            "Epoch 30/50\n",
            "\u001b[1m2684/2684\u001b[0m \u001b[32m━━━━━━━━━━━━━━━━━━━━\u001b[0m\u001b[37m\u001b[0m \u001b[1m264s\u001b[0m 79ms/step - accuracy: 0.9354 - loss: 0.1767 - val_accuracy: 0.9283 - val_loss: 0.1898\n",
            "Epoch 31/50\n",
            "\u001b[1m2684/2684\u001b[0m \u001b[32m━━━━━━━━━━━━━━━━━━━━\u001b[0m\u001b[37m\u001b[0m \u001b[1m259s\u001b[0m 78ms/step - accuracy: 0.9353 - loss: 0.1787 - val_accuracy: 0.9287 - val_loss: 0.1902\n",
            "Epoch 32/50\n",
            "\u001b[1m2684/2684\u001b[0m \u001b[32m━━━━━━━━━━━━━━━━━━━━\u001b[0m\u001b[37m\u001b[0m \u001b[1m212s\u001b[0m 79ms/step - accuracy: 0.9379 - loss: 0.1737 - val_accuracy: 0.9277 - val_loss: 0.1892\n",
            "Epoch 33/50\n",
            "\u001b[1m2684/2684\u001b[0m \u001b[32m━━━━━━━━━━━━━━━━━━━━\u001b[0m\u001b[37m\u001b[0m \u001b[1m212s\u001b[0m 79ms/step - accuracy: 0.9356 - loss: 0.1768 - val_accuracy: 0.9287 - val_loss: 0.1892\n",
            "Epoch 34/50\n",
            "\u001b[1m2684/2684\u001b[0m \u001b[32m━━━━━━━━━━━━━━━━━━━━\u001b[0m\u001b[37m\u001b[0m \u001b[1m210s\u001b[0m 78ms/step - accuracy: 0.9365 - loss: 0.1752 - val_accuracy: 0.9293 - val_loss: 0.1881\n",
            "Epoch 35/50\n",
            "\u001b[1m2684/2684\u001b[0m \u001b[32m━━━━━━━━━━━━━━━━━━━━\u001b[0m\u001b[37m\u001b[0m \u001b[1m264s\u001b[0m 79ms/step - accuracy: 0.9376 - loss: 0.1722 - val_accuracy: 0.9270 - val_loss: 0.1887\n",
            "Epoch 36/50\n",
            "\u001b[1m2684/2684\u001b[0m \u001b[32m━━━━━━━━━━━━━━━━━━━━\u001b[0m\u001b[37m\u001b[0m \u001b[1m263s\u001b[0m 79ms/step - accuracy: 0.9356 - loss: 0.1745 - val_accuracy: 0.9272 - val_loss: 0.1887\n",
            "Epoch 37/50\n",
            "\u001b[1m2684/2684\u001b[0m \u001b[32m━━━━━━━━━━━━━━━━━━━━\u001b[0m\u001b[37m\u001b[0m \u001b[1m210s\u001b[0m 78ms/step - accuracy: 0.9361 - loss: 0.1750 - val_accuracy: 0.9292 - val_loss: 0.1872\n",
            "Epoch 38/50\n",
            "\u001b[1m2684/2684\u001b[0m \u001b[32m━━━━━━━━━━━━━━━━━━━━\u001b[0m\u001b[37m\u001b[0m \u001b[1m266s\u001b[0m 80ms/step - accuracy: 0.9371 - loss: 0.1746 - val_accuracy: 0.9293 - val_loss: 0.1871\n",
            "Epoch 39/50\n",
            "\u001b[1m2684/2684\u001b[0m \u001b[32m━━━━━━━━━━━━━━━━━━━━\u001b[0m\u001b[37m\u001b[0m \u001b[1m222s\u001b[0m 83ms/step - accuracy: 0.9384 - loss: 0.1698 - val_accuracy: 0.9291 - val_loss: 0.1869\n",
            "Epoch 40/50\n",
            "\u001b[1m2684/2684\u001b[0m \u001b[32m━━━━━━━━━━━━━━━━━━━━\u001b[0m\u001b[37m\u001b[0m \u001b[1m254s\u001b[0m 80ms/step - accuracy: 0.9361 - loss: 0.1724 - val_accuracy: 0.9297 - val_loss: 0.1859\n",
            "Epoch 41/50\n",
            "\u001b[1m2684/2684\u001b[0m \u001b[32m━━━━━━━━━━━━━━━━━━━━\u001b[0m\u001b[37m\u001b[0m \u001b[1m261s\u001b[0m 79ms/step - accuracy: 0.9379 - loss: 0.1715 - val_accuracy: 0.9282 - val_loss: 0.1868\n",
            "Epoch 42/50\n",
            "\u001b[1m2684/2684\u001b[0m \u001b[32m━━━━━━━━━━━━━━━━━━━━\u001b[0m\u001b[37m\u001b[0m \u001b[1m262s\u001b[0m 79ms/step - accuracy: 0.9390 - loss: 0.1700 - val_accuracy: 0.9293 - val_loss: 0.1854\n",
            "Epoch 43/50\n",
            "\u001b[1m2684/2684\u001b[0m \u001b[32m━━━━━━━━━━━━━━━━━━━━\u001b[0m\u001b[37m\u001b[0m \u001b[1m261s\u001b[0m 79ms/step - accuracy: 0.9379 - loss: 0.1709 - val_accuracy: 0.9293 - val_loss: 0.1853\n",
            "Epoch 44/50\n",
            "\u001b[1m2684/2684\u001b[0m \u001b[32m━━━━━━━━━━━━━━━━━━━━\u001b[0m\u001b[37m\u001b[0m \u001b[1m262s\u001b[0m 79ms/step - accuracy: 0.9373 - loss: 0.1712 - val_accuracy: 0.9295 - val_loss: 0.1848\n",
            "Epoch 45/50\n",
            "\u001b[1m2684/2684\u001b[0m \u001b[32m━━━━━━━━━━━━━━━━━━━━\u001b[0m\u001b[37m\u001b[0m \u001b[1m271s\u001b[0m 83ms/step - accuracy: 0.9388 - loss: 0.1672 - val_accuracy: 0.9292 - val_loss: 0.1850\n",
            "Epoch 46/50\n",
            "\u001b[1m2684/2684\u001b[0m \u001b[32m━━━━━━━━━━━━━━━━━━━━\u001b[0m\u001b[37m\u001b[0m \u001b[1m255s\u001b[0m 80ms/step - accuracy: 0.9394 - loss: 0.1662 - val_accuracy: 0.9294 - val_loss: 0.1850\n",
            "Epoch 47/50\n",
            "\u001b[1m2684/2684\u001b[0m \u001b[32m━━━━━━━━━━━━━━━━━━━━\u001b[0m\u001b[37m\u001b[0m \u001b[1m264s\u001b[0m 81ms/step - accuracy: 0.9388 - loss: 0.1658 - val_accuracy: 0.9302 - val_loss: 0.1838\n",
            "Epoch 48/50\n",
            "\u001b[1m2684/2684\u001b[0m \u001b[32m━━━━━━━━━━━━━━━━━━━━\u001b[0m\u001b[37m\u001b[0m \u001b[1m283s\u001b[0m 88ms/step - accuracy: 0.9401 - loss: 0.1624 - val_accuracy: 0.9304 - val_loss: 0.1845\n",
            "Epoch 49/50\n",
            "\u001b[1m2684/2684\u001b[0m \u001b[32m━━━━━━━━━━━━━━━━━━━━\u001b[0m\u001b[37m\u001b[0m \u001b[1m245s\u001b[0m 82ms/step - accuracy: 0.9405 - loss: 0.1656 - val_accuracy: 0.9299 - val_loss: 0.1841\n",
            "Epoch 50/50\n",
            "\u001b[1m2684/2684\u001b[0m \u001b[32m━━━━━━━━━━━━━━━━━━━━\u001b[0m\u001b[37m\u001b[0m \u001b[1m256s\u001b[0m 80ms/step - accuracy: 0.9400 - loss: 0.1631 - val_accuracy: 0.9305 - val_loss: 0.1837\n"
          ]
        }
      ]
    },
    {
      "cell_type": "code",
      "source": [
        "# Print validation accuracy for each epoch\n",
        "val_accuracy = history.history['val_accuracy']\n",
        "print(\"Validation Accuracy for each epoch:\")\n",
        "for epoch, accuracy in enumerate(val_accuracy, 1):\n",
        "    print(f\"Epoch {epoch}: {accuracy:.4f}\")\n",
        "\n",
        "# Print final validation accuracy\n",
        "final_val_accuracy = val_accuracy[-1]\n",
        "print(f'Final Validation Accuracy: {final_val_accuracy:.4f}')\n",
        "\n",
        "# Evaluate the model\n",
        "loss, accuracy = model.evaluate(X_test, y_test)\n",
        "print(f'Test Accuracy: {accuracy * 100:.2f}%')"
      ],
      "metadata": {
        "colab": {
          "base_uri": "https://localhost:8080/"
        },
        "id": "bdiTibdFaXSD",
        "outputId": "35a549d8-68b1-4825-899d-d945248ef9ce"
      },
      "execution_count": null,
      "outputs": [
        {
          "output_type": "stream",
          "name": "stdout",
          "text": [
            "Validation Accuracy for each epoch:\n",
            "Epoch 1: 0.6359\n",
            "Epoch 2: 0.7698\n",
            "Epoch 3: 0.8528\n",
            "Epoch 4: 0.8825\n",
            "Epoch 5: 0.8939\n",
            "Epoch 6: 0.9006\n",
            "Epoch 7: 0.9068\n",
            "Epoch 8: 0.9110\n",
            "Epoch 9: 0.9135\n",
            "Epoch 10: 0.9168\n",
            "Epoch 11: 0.9177\n",
            "Epoch 12: 0.9196\n",
            "Epoch 13: 0.9202\n",
            "Epoch 14: 0.9214\n",
            "Epoch 15: 0.9223\n",
            "Epoch 16: 0.9226\n",
            "Epoch 17: 0.9236\n",
            "Epoch 18: 0.9242\n",
            "Epoch 19: 0.9246\n",
            "Epoch 20: 0.9246\n",
            "Epoch 21: 0.9256\n",
            "Epoch 22: 0.9264\n",
            "Epoch 23: 0.9266\n",
            "Epoch 24: 0.9260\n",
            "Epoch 25: 0.9263\n",
            "Epoch 26: 0.9270\n",
            "Epoch 27: 0.9277\n",
            "Epoch 28: 0.9283\n",
            "Epoch 29: 0.9278\n",
            "Epoch 30: 0.9283\n",
            "Epoch 31: 0.9287\n",
            "Epoch 32: 0.9277\n",
            "Epoch 33: 0.9287\n",
            "Epoch 34: 0.9293\n",
            "Epoch 35: 0.9270\n",
            "Epoch 36: 0.9272\n",
            "Epoch 37: 0.9292\n",
            "Epoch 38: 0.9293\n",
            "Epoch 39: 0.9291\n",
            "Epoch 40: 0.9297\n",
            "Epoch 41: 0.9282\n",
            "Epoch 42: 0.9293\n",
            "Epoch 43: 0.9293\n",
            "Epoch 44: 0.9295\n",
            "Epoch 45: 0.9292\n",
            "Epoch 46: 0.9294\n",
            "Epoch 47: 0.9302\n",
            "Epoch 48: 0.9304\n",
            "Epoch 49: 0.9299\n",
            "Epoch 50: 0.9305\n",
            "Final Validation Accuracy: 0.9305\n",
            "\u001b[1m839/839\u001b[0m \u001b[32m━━━━━━━━━━━━━━━━━━━━\u001b[0m\u001b[37m\u001b[0m \u001b[1m18s\u001b[0m 22ms/step - accuracy: 0.9356 - loss: 0.1751\n",
            "Test Accuracy: 93.45%\n"
          ]
        }
      ]
    },
    {
      "cell_type": "code",
      "source": [
        "# Define the function to get relevant news URLs\n",
        "def get_relevant_urls(tweet_text):\n",
        "    api_key = '06cba0dcd3d84dc3bc34aac90e62ba89'  # Replace with your actual NewsAPI.org API key\n",
        "    url = f'https://newsapi.org/v2/everything?q={tweet_text}&sortBy=relevancy&apiKey={api_key}'\n",
        "\n",
        "    response = requests.get(url)\n",
        "    response_data = response.json()\n",
        "\n",
        "    try:\n",
        "        articles = response_data['articles']\n",
        "    except KeyError:\n",
        "        print(\"Error: The 'articles' key was not found in the API response.\")\n",
        "        return []\n",
        "\n",
        "    urls = [article.get('url', '') for article in articles]\n",
        "    return urls"
      ],
      "metadata": {
        "id": "nYq5t9yGaafq"
      },
      "execution_count": null,
      "outputs": []
    },
    {
      "cell_type": "code",
      "source": [
        "# Example for new texts\n",
        "new_texts = [\n",
        "  \"Sri Lanka faces a crucial challenge as they head into the second Test against England on Thursday at Lord’s, a venue that has often served as an unlikely home away from home for the visiting side.\"\n",
        " ]"
      ],
      "metadata": {
        "id": "KUIAMTUAl595"
      },
      "execution_count": null,
      "outputs": []
    },
    {
      "cell_type": "code",
      "source": [
        "# Preprocess the new texts\n",
        "new_sequences = tokenizer.texts_to_sequences(new_texts)\n",
        "new_data = pad_sequences(new_sequences, maxlen=max_seq_length)"
      ],
      "metadata": {
        "id": "jsHzBI-Rl6WZ"
      },
      "execution_count": null,
      "outputs": []
    },
    {
      "cell_type": "code",
      "source": [
        "# Get predictions and news URLs\n",
        "new_predictions = model.predict(new_data)\n",
        "predicted_classes = (new_predictions > 0.5).astype(int)"
      ],
      "metadata": {
        "colab": {
          "base_uri": "https://localhost:8080/"
        },
        "id": "9xj44sVPl8T2",
        "outputId": "fbbfed98-624f-42de-d993-d84a35d368a6"
      },
      "execution_count": null,
      "outputs": [
        {
          "output_type": "stream",
          "name": "stdout",
          "text": [
            "\u001b[1m1/1\u001b[0m \u001b[32m━━━━━━━━━━━━━━━━━━━━\u001b[0m\u001b[37m\u001b[0m \u001b[1m0s\u001b[0m 50ms/step\n"
          ]
        }
      ]
    },
    {
      "cell_type": "code",
      "source": [
        "for text, prediction in zip(new_texts, predicted_classes):\n",
        "    print(f\"Tweet: {text}\")\n",
        "    print(f\"Prediction: {'Positive' if prediction == 1 else 'Negative'}\")\n",
        "    urls = get_relevant_urls(text)\n",
        "    print(f\"Relevant News URLs: {urls}\")\n",
        "    print()"
      ],
      "metadata": {
        "colab": {
          "base_uri": "https://localhost:8080/"
        },
        "id": "nphBS3J6l-jg",
        "outputId": "c80e272c-9222-4a69-a218-86d1ca5b9b5e"
      },
      "execution_count": null,
      "outputs": [
        {
          "output_type": "stream",
          "name": "stdout",
          "text": [
            "Tweet: Sri Lanka faces a crucial challenge as they head into the second Test against England on Thursday at Lord’s, a venue that has often served as an unlikely home away from home for the visiting side.\n",
            "Prediction: Negative\n",
            "Relevant News URLs: []\n",
            "\n"
          ]
        }
      ]
    },
    {
      "cell_type": "code",
      "source": [
        "import matplotlib.pyplot as plt\n",
        "\n",
        "plt.figure(figsize=(12, 5))\n",
        "plt.subplot(1, 2, 1)\n",
        "plt.plot(history.history['accuracy'])\n",
        "plt.plot(history.history['val_accuracy'])\n",
        "plt.title('Model Accuracy')\n",
        "plt.ylabel('Accuracy')\n",
        "plt.xlabel('Epoch')\n",
        "plt.legend(['Train', 'Validation'], loc='upper left')\n",
        "\n",
        "plt.subplot(1, 2, 2)\n",
        "plt.plot(history.history['loss'])\n",
        "plt.plot(history.history['val_loss'])\n",
        "plt.title('Model Loss')\n",
        "plt.ylabel('Loss')\n",
        "plt.xlabel('Epoch')\n",
        "plt.legend(['Train', 'Validation'], loc='upper left')\n",
        "\n",
        "plt.show()"
      ],
      "metadata": {
        "colab": {
          "base_uri": "https://localhost:8080/",
          "height": 487
        },
        "id": "zgkaDzKImAwg",
        "outputId": "1ccc813b-4964-446f-f508-664fa827642f"
      },
      "execution_count": null,
      "outputs": [
        {
          "output_type": "display_data",
          "data": {
            "text/plain": [
              "<Figure size 1200x500 with 2 Axes>"
            ],
            "image/png": "[encoded data removed]"
          },
          "metadata": {}
        }
      ]
    },
    {
      "cell_type": "code",
      "source": [
        "from sklearn.metrics import confusion_matrix, classification_report\n",
        "import seaborn as sns\n",
        "import matplotlib.pyplot as plt\n",
        "\n",
        "# Step 1: Make predictions on the test set\n",
        "y_pred_prob = model.predict(X_test)\n",
        "\n",
        "# Step 2: Convert probabilities to binary labels\n",
        "y_pred = (y_pred_prob > 0.5).astype(int)\n",
        "\n",
        "# Step 3: Generate the confusion matrix\n",
        "conf_matrix = confusion_matrix(y_test, y_pred)\n",
        "\n",
        "# Step 4: Plot the confusion matrix\n",
        "plt.figure(figsize=(8, 6))\n",
        "sns.heatmap(conf_matrix, annot=True, fmt='d', cmap='Blues', xticklabels=['Negative', 'Positive'], yticklabels=['Negative', 'Positive'])\n",
        "plt.xlabel('Predicted Label')\n",
        "plt.ylabel('True Label')\n",
        "plt.title('Confusion Matrix')\n",
        "plt.show()\n",
        "\n",
        "# Optional: Print a classification report for detailed metrics\n",
        "print(classification_report(y_test, y_pred, target_names=['Negative', 'Positive']))\n"
      ],
      "metadata": {
        "id": "HiOAaDLQmwch",
        "colab": {
          "base_uri": "https://localhost:8080/",
          "height": 749
        },
        "outputId": "c28ae21c-d21b-4fd6-e9d2-ac0328876808"
      },
      "execution_count": null,
      "outputs": [
        {
          "output_type": "stream",
          "name": "stdout",
          "text": [
            "\u001b[1m839/839\u001b[0m \u001b[32m━━━━━━━━━━━━━━━━━━━━\u001b[0m\u001b[37m\u001b[0m \u001b[1m17s\u001b[0m 20ms/step\n"
          ]
        },
        {
          "output_type": "display_data",
          "data": {
            "text/plain": [
              "<Figure size 800x600 with 2 Axes>"
            ],
            "image/png": "[encoded data removed]"
          },
          "metadata": {}
        },
        {
          "output_type": "stream",
          "name": "stdout",
          "text": [
            "              precision    recall  f1-score   support\n",
            "\n",
            "    Negative       0.93      0.93      0.93     13076\n",
            "    Positive       0.94      0.94      0.94     13764\n",
            "\n",
            "    accuracy                           0.93     26840\n",
            "   macro avg       0.93      0.93      0.93     26840\n",
            "weighted avg       0.93      0.93      0.93     26840\n",
            "\n"
          ]
        }
      ]
    },
    {
      "cell_type": "code",
      "source": [
        "model.save('verity_function3.h5')\n"
      ],
      "metadata": {
        "colab": {
          "base_uri": "https://localhost:8080/"
        },
        "id": "4jdoagZxv2GA",
        "outputId": "02c6ab57-ec1a-4179-8152-34bba8d6f290"
      },
      "execution_count": null,
      "outputs": [
        {
          "output_type": "stream",
          "name": "stderr",
          "text": [
            "WARNING:absl:You are saving your model as an HDF5 file via `model.save()` or `keras.saving.save_model(model)`. This file format is considered legacy. We recommend using instead the native Keras format, e.g. `model.save('my_model.keras')` or `keras.saving.save_model(model, 'my_model.keras')`. \n"
          ]
        }
      ]
    },
    {
      "cell_type": "code",
      "source": [
        "from tensorflow.keras.models import load_model\n",
        "\n",
        "# Load the saved model\n",
        "model2 = load_model('/content/verity_function3.h5')\n"
      ],
      "metadata": {
        "colab": {
          "base_uri": "https://localhost:8080/"
        },
        "id": "i1FR6lBqFiBT",
        "outputId": "893a3fa3-fe8d-4bce-b223-d294c28fddc4"
      },
      "execution_count": null,
      "outputs": [
        {
          "output_type": "stream",
          "name": "stderr",
          "text": [
            "WARNING:absl:Compiled the loaded model, but the compiled metrics have yet to be built. `model.compile_metrics` will be empty until you train or evaluate the model.\n"
          ]
        }
      ]
    },
    {
      "cell_type": "code",
      "source": [
        "# Load dataset from a local CSV file\n",
        "custom_data = pd.read_csv('/content/drive/MyDrive/Truth seek/Function3_data.csv')\n",
        "\n",
        "# Display the first few rows to check if it's loaded correctly\n",
        "custom_data.head()"
      ],
      "metadata": {
        "colab": {
          "base_uri": "https://localhost:8080/",
          "height": 672
        },
        "id": "7UgnjZCBFpX6",
        "outputId": "5a09fd22-0cc9-4665-a5fb-facb86b85675"
      },
      "execution_count": null,
      "outputs": [
        {
          "output_type": "execute_result",
          "data": {
            "text/plain": [
              "                                             heading  \\\n",
              "0  New largest dinosaur species found in Australi...   \n",
              "1  SAITM issue: President to discuss with stakeho...   \n",
              "2  Intern’l responsibilities crucial for developm...   \n",
              "3        Five remanded over assault on Sri Lankan HC   \n",
              "4     Banners with LTTE chief's pic land duo in jail   \n",
              "\n",
              "                                             content  label  Word count  \\\n",
              "0  Scientists in Australia lack declassify a old ...      1       379.0   \n",
              "1  President Maithripala Sirisena disinherit summ...      1       117.0   \n",
              "2  Norwegian Prime Minister Erna Solberg said tod...      1       251.0   \n",
              "3  Five people , who differ arrested for allegedl...      1       126.0   \n",
              "4  Two nonmember of a fringe Tamil nationalist pa...      1       169.0   \n",
              "\n",
              "   Max word length  Min word length  Average word length  present_verbs  \\\n",
              "0             16.0              1.0             5.242744           47.0   \n",
              "1             20.0              1.0             5.683761           22.0   \n",
              "2             16.0              1.0             5.840637           38.0   \n",
              "3             14.0              1.0             5.214286           17.0   \n",
              "4             12.0              1.0             5.313609           23.0   \n",
              "\n",
              "   past_verbs  adjectives  ...     PERSON   ORDINAL       TIME      NORP  \\\n",
              "0         0.0        40.0  ...   5.405405  2.702703        NaN       NaN   \n",
              "1         0.0         6.0  ...  25.000000       NaN  12.500000       NaN   \n",
              "2         0.0        27.0  ...  25.000000       NaN        NaN  5.000000   \n",
              "3         0.0         6.0  ...  17.391304       NaN   4.347826       NaN   \n",
              "4         0.0        11.0  ...  25.000000  3.571429        NaN  3.571429   \n",
              "\n",
              "        FAC  WORK_OF_ART  MONEY  PERCENT  LAW  LANGUAGE  \n",
              "0       NaN          NaN    NaN      NaN  NaN       NaN  \n",
              "1       NaN          NaN    NaN      NaN  NaN       NaN  \n",
              "2       NaN          NaN    NaN      NaN  NaN       NaN  \n",
              "3       NaN          NaN    NaN      NaN  NaN       NaN  \n",
              "4  3.571429          NaN    NaN      NaN  NaN       NaN  \n",
              "\n",
              "[5 rows x 37 columns]"
            ],
            "text/html": [
              "\n",
              "  <div id=\"df-d14f2113-18a7-4cb5-8d19-811b04148eb8\" class=\"colab-df-container\">\n",
              "    <div>\n",
              "<style scoped>\n",
              "    .dataframe tbody tr th:only-of-type {\n",
              "        vertical-align: middle;\n",
              "    }\n",
              "\n",
              "    .dataframe tbody tr th {\n",
              "        vertical-align: top;\n",
              "    }\n",
              "\n",
              "    .dataframe thead th {\n",
              "        text-align: right;\n",
              "    }\n",
              "</style>\n",
              "<table border=\"1\" class=\"dataframe\">\n",
              "  <thead>\n",
              "    <tr style=\"text-align: right;\">\n",
              "      <th></th>\n",
              "      <th>heading</th>\n",
              "      <th>content</th>\n",
              "      <th>label</th>\n",
              "      <th>Word count</th>\n",
              "      <th>Max word length</th>\n",
              "      <th>Min word length</th>\n",
              "      <th>Average word length</th>\n",
              "      <th>present_verbs</th>\n",
              "      <th>past_verbs</th>\n",
              "      <th>adjectives</th>\n",
              "      <th>...</th>\n",
              "      <th>PERSON</th>\n",
              "      <th>ORDINAL</th>\n",
              "      <th>TIME</th>\n",
              "      <th>NORP</th>\n",
              "      <th>FAC</th>\n",
              "      <th>WORK_OF_ART</th>\n",
              "      <th>MONEY</th>\n",
              "      <th>PERCENT</th>\n",
              "      <th>LAW</th>\n",
              "      <th>LANGUAGE</th>\n",
              "    </tr>\n",
              "  </thead>\n",
              "  <tbody>\n",
              "    <tr>\n",
              "      <th>0</th>\n",
              "      <td>New largest dinosaur species found in Australi...</td>\n",
              "      <td>Scientists in Australia lack declassify a old ...</td>\n",
              "      <td>1</td>\n",
              "      <td>379.0</td>\n",
              "      <td>16.0</td>\n",
              "      <td>1.0</td>\n",
              "      <td>5.242744</td>\n",
              "      <td>47.0</td>\n",
              "      <td>0.0</td>\n",
              "      <td>40.0</td>\n",
              "      <td>...</td>\n",
              "      <td>5.405405</td>\n",
              "      <td>2.702703</td>\n",
              "      <td>NaN</td>\n",
              "      <td>NaN</td>\n",
              "      <td>NaN</td>\n",
              "      <td>NaN</td>\n",
              "      <td>NaN</td>\n",
              "      <td>NaN</td>\n",
              "      <td>NaN</td>\n",
              "      <td>NaN</td>\n",
              "    </tr>\n",
              "    <tr>\n",
              "      <th>1</th>\n",
              "      <td>SAITM issue: President to discuss with stakeho...</td>\n",
              "      <td>President Maithripala Sirisena disinherit summ...</td>\n",
              "      <td>1</td>\n",
              "      <td>117.0</td>\n",
              "      <td>20.0</td>\n",
              "      <td>1.0</td>\n",
              "      <td>5.683761</td>\n",
              "      <td>22.0</td>\n",
              "      <td>0.0</td>\n",
              "      <td>6.0</td>\n",
              "      <td>...</td>\n",
              "      <td>25.000000</td>\n",
              "      <td>NaN</td>\n",
              "      <td>12.500000</td>\n",
              "      <td>NaN</td>\n",
              "      <td>NaN</td>\n",
              "      <td>NaN</td>\n",
              "      <td>NaN</td>\n",
              "      <td>NaN</td>\n",
              "      <td>NaN</td>\n",
              "      <td>NaN</td>\n",
              "    </tr>\n",
              "    <tr>\n",
              "      <th>2</th>\n",
              "      <td>Intern’l responsibilities crucial for developm...</td>\n",
              "      <td>Norwegian Prime Minister Erna Solberg said tod...</td>\n",
              "      <td>1</td>\n",
              "      <td>251.0</td>\n",
              "      <td>16.0</td>\n",
              "      <td>1.0</td>\n",
              "      <td>5.840637</td>\n",
              "      <td>38.0</td>\n",
              "      <td>0.0</td>\n",
              "      <td>27.0</td>\n",
              "      <td>...</td>\n",
              "      <td>25.000000</td>\n",
              "      <td>NaN</td>\n",
              "      <td>NaN</td>\n",
              "      <td>5.000000</td>\n",
              "      <td>NaN</td>\n",
              "      <td>NaN</td>\n",
              "      <td>NaN</td>\n",
              "      <td>NaN</td>\n",
              "      <td>NaN</td>\n",
              "      <td>NaN</td>\n",
              "    </tr>\n",
              "    <tr>\n",
              "      <th>3</th>\n",
              "      <td>Five remanded over assault on Sri Lankan HC</td>\n",
              "      <td>Five people , who differ arrested for allegedl...</td>\n",
              "      <td>1</td>\n",
              "      <td>126.0</td>\n",
              "      <td>14.0</td>\n",
              "      <td>1.0</td>\n",
              "      <td>5.214286</td>\n",
              "      <td>17.0</td>\n",
              "      <td>0.0</td>\n",
              "      <td>6.0</td>\n",
              "      <td>...</td>\n",
              "      <td>17.391304</td>\n",
              "      <td>NaN</td>\n",
              "      <td>4.347826</td>\n",
              "      <td>NaN</td>\n",
              "      <td>NaN</td>\n",
              "      <td>NaN</td>\n",
              "      <td>NaN</td>\n",
              "      <td>NaN</td>\n",
              "      <td>NaN</td>\n",
              "      <td>NaN</td>\n",
              "    </tr>\n",
              "    <tr>\n",
              "      <th>4</th>\n",
              "      <td>Banners with LTTE chief's pic land duo in jail</td>\n",
              "      <td>Two nonmember of a fringe Tamil nationalist pa...</td>\n",
              "      <td>1</td>\n",
              "      <td>169.0</td>\n",
              "      <td>12.0</td>\n",
              "      <td>1.0</td>\n",
              "      <td>5.313609</td>\n",
              "      <td>23.0</td>\n",
              "      <td>0.0</td>\n",
              "      <td>11.0</td>\n",
              "      <td>...</td>\n",
              "      <td>25.000000</td>\n",
              "      <td>3.571429</td>\n",
              "      <td>NaN</td>\n",
              "      <td>3.571429</td>\n",
              "      <td>3.571429</td>\n",
              "      <td>NaN</td>\n",
              "      <td>NaN</td>\n",
              "      <td>NaN</td>\n",
              "      <td>NaN</td>\n",
              "      <td>NaN</td>\n",
              "    </tr>\n",
              "  </tbody>\n",
              "</table>\n",
              "<p>5 rows × 37 columns</p>\n",
              "</div>\n",
              "    <div class=\"colab-df-buttons\">\n",
              "\n",
              "  <div class=\"colab-df-container\">\n",
              "    <button class=\"colab-df-convert\" onclick=\"convertToInteractive('df-d14f2113-18a7-4cb5-8d19-811b04148eb8')\"\n",
              "            title=\"Convert this dataframe to an interactive table.\"\n",
              "            style=\"display:none;\">\n",
              "\n",
              "  <svg xmlns=\"http://www.w3.org/2000/svg\" height=\"24px\" viewBox=\"0 -960 960 960\">\n",
              "    <path d=\"M120-120v-720h720v720H120Zm60-500h600v-160H180v160Zm220 220h160v-160H400v160Zm0 220h160v-160H400v160ZM180-400h160v-160H180v160Zm440 0h160v-160H620v160ZM180-180h160v-160H180v160Zm440 0h160v-160H620v160Z\"/>\n",
              "  </svg>\n",
              "    </button>\n",
              "\n",
              "  <style>\n",
              "    .colab-df-container {\n",
              "      display:flex;\n",
              "      gap: 12px;\n",
              "    }\n",
              "\n",
              "    .colab-df-convert {\n",
              "      background-color: #E8F0FE;\n",
              "      border: none;\n",
              "      border-radius: 50%;\n",
              "      cursor: pointer;\n",
              "      display: none;\n",
              "      fill: #1967D2;\n",
              "      height: 32px;\n",
              "      padding: 0 0 0 0;\n",
              "      width: 32px;\n",
              "    }\n",
              "\n",
              "    .colab-df-convert:hover {\n",
              "      background-color: #E2EBFA;\n",
              "      box-shadow: 0px 1px 2px rgba(60, 64, 67, 0.3), 0px 1px 3px 1px rgba(60, 64, 67, 0.15);\n",
              "      fill: #174EA6;\n",
              "    }\n",
              "\n",
              "    .colab-df-buttons div {\n",
              "      margin-bottom: 4px;\n",
              "    }\n",
              "\n",
              "    [theme=dark] .colab-df-convert {\n",
              "      background-color: #3B4455;\n",
              "      fill: #D2E3FC;\n",
              "    }\n",
              "\n",
              "    [theme=dark] .colab-df-convert:hover {\n",
              "      background-color: #434B5C;\n",
              "      box-shadow: 0px 1px 3px 1px rgba(0, 0, 0, 0.15);\n",
              "      filter: drop-shadow(0px 1px 2px rgba(0, 0, 0, 0.3));\n",
              "      fill: #FFFFFF;\n",
              "    }\n",
              "  </style>\n",
              "\n",
              "    <script>\n",
              "      const buttonEl =\n",
              "        document.querySelector('#df-d14f2113-18a7-4cb5-8d19-811b04148eb8 button.colab-df-convert');\n",
              "      buttonEl.style.display =\n",
              "        google.colab.kernel.accessAllowed ? 'block' : 'none';\n",
              "\n",
              "      async function convertToInteractive(key) {\n",
              "        const element = document.querySelector('#df-d14f2113-18a7-4cb5-8d19-811b04148eb8');\n",
              "        const dataTable =\n",
              "          await google.colab.kernel.invokeFunction('convertToInteractive',\n",
              "                                                    [key], {});\n",
              "        if (!dataTable) return;\n",
              "\n",
              "        const docLinkHtml = 'Like what you see? Visit the ' +\n",
              "          '<a target=\"_blank\" href=https://colab.research.google.com/notebooks/data_table.ipynb>data table notebook</a>'\n",
              "          + ' to learn more about interactive tables.';\n",
              "        element.innerHTML = '';\n",
              "        dataTable['output_type'] = 'display_data';\n",
              "        await google.colab.output.renderOutput(dataTable, element);\n",
              "        const docLink = document.createElement('div');\n",
              "        docLink.innerHTML = docLinkHtml;\n",
              "        element.appendChild(docLink);\n",
              "      }\n",
              "    </script>\n",
              "  </div>\n",
              "\n",
              "\n",
              "<div id=\"df-47cd3071-73ad-4bf4-b1f5-f5663d1ebfc1\">\n",
              "  <button class=\"colab-df-quickchart\" onclick=\"quickchart('df-47cd3071-73ad-4bf4-b1f5-f5663d1ebfc1')\"\n",
              "            title=\"Suggest charts\"\n",
              "            style=\"display:none;\">\n",
              "\n",
              "<svg xmlns=\"http://www.w3.org/2000/svg\" height=\"24px\"viewBox=\"0 0 24 24\"\n",
              "     width=\"24px\">\n",
              "    <g>\n",
              "        <path d=\"M19 3H5c-1.1 0-2 .9-2 2v14c0 1.1.9 2 2 2h14c1.1 0 2-.9 2-2V5c0-1.1-.9-2-2-2zM9 17H7v-7h2v7zm4 0h-2V7h2v10zm4 0h-2v-4h2v4z\"/>\n",
              "    </g>\n",
              "</svg>\n",
              "  </button>\n",
              "\n",
              "<style>\n",
              "  .colab-df-quickchart {\n",
              "      --bg-color: #E8F0FE;\n",
              "      --fill-color: #1967D2;\n",
              "      --hover-bg-color: #E2EBFA;\n",
              "      --hover-fill-color: #174EA6;\n",
              "      --disabled-fill-color: #AAA;\n",
              "      --disabled-bg-color: #DDD;\n",
              "  }\n",
              "\n",
              "  [theme=dark] .colab-df-quickchart {\n",
              "      --bg-color: #3B4455;\n",
              "      --fill-color: #D2E3FC;\n",
              "      --hover-bg-color: #434B5C;\n",
              "      --hover-fill-color: #FFFFFF;\n",
              "      --disabled-bg-color: #3B4455;\n",
              "      --disabled-fill-color: #666;\n",
              "  }\n",
              "\n",
              "  .colab-df-quickchart {\n",
              "    background-color: var(--bg-color);\n",
              "    border: none;\n",
              "    border-radius: 50%;\n",
              "    cursor: pointer;\n",
              "    display: none;\n",
              "    fill: var(--fill-color);\n",
              "    height: 32px;\n",
              "    padding: 0;\n",
              "    width: 32px;\n",
              "  }\n",
              "\n",
              "  .colab-df-quickchart:hover {\n",
              "    background-color: var(--hover-bg-color);\n",
              "    box-shadow: 0 1px 2px rgba(60, 64, 67, 0.3), 0 1px 3px 1px rgba(60, 64, 67, 0.15);\n",
              "    fill: var(--button-hover-fill-color);\n",
              "  }\n",
              "\n",
              "  .colab-df-quickchart-complete:disabled,\n",
              "  .colab-df-quickchart-complete:disabled:hover {\n",
              "    background-color: var(--disabled-bg-color);\n",
              "    fill: var(--disabled-fill-color);\n",
              "    box-shadow: none;\n",
              "  }\n",
              "\n",
              "  .colab-df-spinner {\n",
              "    border: 2px solid var(--fill-color);\n",
              "    border-color: transparent;\n",
              "    border-bottom-color: var(--fill-color);\n",
              "    animation:\n",
              "      spin 1s steps(1) infinite;\n",
              "  }\n",
              "\n",
              "  @keyframes spin {\n",
              "    0% {\n",
              "      border-color: transparent;\n",
              "      border-bottom-color: var(--fill-color);\n",
              "      border-left-color: var(--fill-color);\n",
              "    }\n",
              "    20% {\n",
              "      border-color: transparent;\n",
              "      border-left-color: var(--fill-color);\n",
              "      border-top-color: var(--fill-color);\n",
              "    }\n",
              "    30% {\n",
              "      border-color: transparent;\n",
              "      border-left-color: var(--fill-color);\n",
              "      border-top-color: var(--fill-color);\n",
              "      border-right-color: var(--fill-color);\n",
              "    }\n",
              "    40% {\n",
              "      border-color: transparent;\n",
              "      border-right-color: var(--fill-color);\n",
              "      border-top-color: var(--fill-color);\n",
              "    }\n",
              "    60% {\n",
              "      border-color: transparent;\n",
              "      border-right-color: var(--fill-color);\n",
              "    }\n",
              "    80% {\n",
              "      border-color: transparent;\n",
              "      border-right-color: var(--fill-color);\n",
              "      border-bottom-color: var(--fill-color);\n",
              "    }\n",
              "    90% {\n",
              "      border-color: transparent;\n",
              "      border-bottom-color: var(--fill-color);\n",
              "    }\n",
              "  }\n",
              "</style>\n",
              "\n",
              "  <script>\n",
              "    async function quickchart(key) {\n",
              "      const quickchartButtonEl =\n",
              "        document.querySelector('#' + key + ' button');\n",
              "      quickchartButtonEl.disabled = true;  // To prevent multiple clicks.\n",
              "      quickchartButtonEl.classList.add('colab-df-spinner');\n",
              "      try {\n",
              "        const charts = await google.colab.kernel.invokeFunction(\n",
              "            'suggestCharts', [key], {});\n",
              "      } catch (error) {\n",
              "        console.error('Error during call to suggestCharts:', error);\n",
              "      }\n",
              "      quickchartButtonEl.classList.remove('colab-df-spinner');\n",
              "      quickchartButtonEl.classList.add('colab-df-quickchart-complete');\n",
              "    }\n",
              "    (() => {\n",
              "      let quickchartButtonEl =\n",
              "        document.querySelector('#df-47cd3071-73ad-4bf4-b1f5-f5663d1ebfc1 button');\n",
              "      quickchartButtonEl.style.display =\n",
              "        google.colab.kernel.accessAllowed ? 'block' : 'none';\n",
              "    })();\n",
              "  </script>\n",
              "</div>\n",
              "\n",
              "    </div>\n",
              "  </div>\n"
            ],
            "application/vnd.google.colaboratory.intrinsic+json": {
              "type": "dataframe",
              "variable_name": "custom_data"
            }
          },
          "metadata": {},
          "execution_count": 72
        }
      ]
    },
    {
      "cell_type": "code",
      "source": [
        "# Clean and preprocess the data\n",
        "def clean_text(text):\n",
        "    text = re.sub(r'\\d+', '', text)  # Remove digits\n",
        "    text = re.sub(r'[^\\w\\s]', '', text)  # Remove punctuation\n",
        "    text = re.sub(r'\\s+', ' ', text)  # Remove multiple spaces\n",
        "    text = text.lower().strip()  # Convert to lowercase and strip leading/trailing spaces\n",
        "    return text\n",
        "\n",
        "custom_data['content'] = custom_data['content'].apply(clean_text)\n"
      ],
      "metadata": {
        "id": "aeqx8x4hOP6x"
      },
      "execution_count": null,
      "outputs": []
    },
    {
      "cell_type": "code",
      "source": [
        "# Tokenizer and padding\n",
        "tokenizer = Tokenizer(num_words=max_words)\n",
        "tokenizer.fit_on_texts(custom_data['content'])\n",
        "sequences = tokenizer.texts_to_sequences(custom_data['content'])\n",
        "tweet_data = pad_sequences(sequences, maxlen=max_seq_length)\n",
        "\n",
        "# Target variable\n",
        "target = custom_data['label'].values"
      ],
      "metadata": {
        "id": "yIuXI5IYaDGv"
      },
      "execution_count": null,
      "outputs": []
    },
    {
      "cell_type": "code",
      "source": [
        "from sklearn.model_selection import train_test_split\n",
        "\n",
        "# Train-test split\n",
        "X_train, X_test, y_train, y_test = train_test_split(tweet_data, target, test_size=0.2, random_state=42)\n"
      ],
      "metadata": {
        "id": "E4feWP4GaORu"
      },
      "execution_count": null,
      "outputs": []
    },
    {
      "cell_type": "code",
      "source": [
        "from tensorflow.keras.models import load_model\n",
        "\n",
        "# Load the pre-trained model\n",
        "model = load_model('verity_function3.h5')\n"
      ],
      "metadata": {
        "colab": {
          "base_uri": "https://localhost:8080/"
        },
        "id": "gSRnvAmRbkcb",
        "outputId": "12c1857c-610a-4711-8bcb-a9801399c8ce"
      },
      "execution_count": null,
      "outputs": [
        {
          "output_type": "stream",
          "name": "stderr",
          "text": [
            "WARNING:absl:Compiled the loaded model, but the compiled metrics have yet to be built. `model.compile_metrics` will be empty until you train or evaluate the model.\n"
          ]
        }
      ]
    },
    {
      "cell_type": "code",
      "source": [
        "optimizer = tf.keras.optimizers.Adam(learning_rate=0.00001)"
      ],
      "metadata": {
        "id": "5SJyKOdRb4eT"
      },
      "execution_count": null,
      "outputs": []
    },
    {
      "cell_type": "code",
      "source": [
        "from tensorflow.keras.callbacks import EarlyStopping\n",
        "\n",
        "# Compile the model (ensure it uses the same configuration as before)\n",
        "model.compile(optimizer='adam', loss='mean_squared_error', metrics=['accuracy'])  # Change to a less suitable loss function\n",
        "\n",
        "# Train the model with custom data\n",
        "callbacks = [EarlyStopping(patience=3, monitor='val_loss', restore_best_weights=True)]\n",
        "history = model.fit(X_train, y_train, epochs=10, batch_size=64,\n",
        "                    validation_split=0.2, callbacks=callbacks)\n"
      ],
      "metadata": {
        "colab": {
          "base_uri": "https://localhost:8080/"
        },
        "id": "3tQNiH3iaP_G",
        "outputId": "6bae3536-391c-44a1-cf88-9630b96dc9f5"
      },
      "execution_count": null,
      "outputs": [
        {
          "output_type": "stream",
          "name": "stdout",
          "text": [
            "Epoch 1/10\n",
            "\u001b[1m14/14\u001b[0m \u001b[32m━━━━━━━━━━━━━━━━━━━━\u001b[0m\u001b[37m\u001b[0m \u001b[1m6s\u001b[0m 154ms/step - accuracy: 0.9932 - loss: 0.0064 - val_accuracy: 0.9954 - val_loss: 0.0041\n",
            "Epoch 2/10\n",
            "\u001b[1m14/14\u001b[0m \u001b[32m━━━━━━━━━━━━━━━━━━━━\u001b[0m\u001b[37m\u001b[0m \u001b[1m2s\u001b[0m 127ms/step - accuracy: 0.9969 - loss: 0.0031 - val_accuracy: 0.9954 - val_loss: 0.0041\n",
            "Epoch 3/10\n",
            "\u001b[1m14/14\u001b[0m \u001b[32m━━━━━━━━━━━━━━━━━━━━\u001b[0m\u001b[37m\u001b[0m \u001b[1m4s\u001b[0m 261ms/step - accuracy: 0.9921 - loss: 0.0073 - val_accuracy: 0.9954 - val_loss: 0.0041\n",
            "Epoch 4/10\n",
            "\u001b[1m14/14\u001b[0m \u001b[32m━━━━━━━━━━━━━━━━━━━━\u001b[0m\u001b[37m\u001b[0m \u001b[1m3s\u001b[0m 207ms/step - accuracy: 0.9945 - loss: 0.0045 - val_accuracy: 0.9954 - val_loss: 0.0041\n",
            "Epoch 5/10\n",
            "\u001b[1m14/14\u001b[0m \u001b[32m━━━━━━━━━━━━━━━━━━━━\u001b[0m\u001b[37m\u001b[0m \u001b[1m4s\u001b[0m 126ms/step - accuracy: 0.9957 - loss: 0.0036 - val_accuracy: 0.9954 - val_loss: 0.0041\n"
          ]
        }
      ]
    },
    {
      "cell_type": "code",
      "source": [
        "from sklearn.metrics import confusion_matrix, classification_report\n",
        "import seaborn as sns\n",
        "import matplotlib.pyplot as plt\n",
        "\n",
        "# Evaluate the model\n",
        "loss, accuracy = model.evaluate(X_test, y_test)\n",
        "print(f'Test Accuracy: {accuracy * 100:.2f}%')"
      ],
      "metadata": {
        "colab": {
          "base_uri": "https://localhost:8080/"
        },
        "id": "-Ku5eh67cGMS",
        "outputId": "6649bde6-43ed-45ff-cd95-84481144cce0"
      },
      "execution_count": null,
      "outputs": [
        {
          "output_type": "stream",
          "name": "stdout",
          "text": [
            "\u001b[1m9/9\u001b[0m \u001b[32m━━━━━━━━━━━━━━━━━━━━\u001b[0m\u001b[37m\u001b[0m \u001b[1m0s\u001b[0m 18ms/step - accuracy: 0.9922 - loss: 0.0249\n",
            "Test Accuracy: 98.90%\n"
          ]
        }
      ]
    },
    {
      "cell_type": "code",
      "source": [
        "# Make predictions on the test set\n",
        "y_pred_prob = model.predict(X_test)\n",
        "y_pred = (y_pred_prob > 0.5).astype(int)\n",
        "\n",
        "# Generate the confusion matrix\n",
        "conf_matrix = confusion_matrix(y_test, y_pred)\n"
      ],
      "metadata": {
        "colab": {
          "base_uri": "https://localhost:8080/"
        },
        "id": "hKlcvc6pcZoU",
        "outputId": "f54bbb23-51a2-4835-99df-3189afd1f920"
      },
      "execution_count": null,
      "outputs": [
        {
          "output_type": "stream",
          "name": "stdout",
          "text": [
            "\u001b[1m9/9\u001b[0m \u001b[32m━━━━━━━━━━━━━━━━━━━━\u001b[0m\u001b[37m\u001b[0m \u001b[1m1s\u001b[0m 49ms/step\n"
          ]
        }
      ]
    },
    {
      "cell_type": "code",
      "source": [
        "# Plot the confusion matrix\n",
        "plt.figure(figsize=(8, 6))\n",
        "sns.heatmap(conf_matrix, annot=True, fmt='d', cmap='Blues', xticklabels=['Negative', 'Positive'], yticklabels=['Negative', 'Positive'])\n",
        "plt.xlabel('Predicted Label')\n",
        "plt.ylabel('True Label')\n",
        "plt.title('Confusion Matrix')\n",
        "plt.show()\n",
        "\n",
        "# Print a classification report\n",
        "print(classification_report(y_test, y_pred, target_names=['Negative', 'Positive']))\n"
      ],
      "metadata": {
        "colab": {
          "base_uri": "https://localhost:8080/",
          "height": 730
        },
        "id": "zBpjTIn0cc7q",
        "outputId": "7b2fce6f-d61d-4b31-f489-599a48d2899e"
      },
      "execution_count": null,
      "outputs": [
        {
          "output_type": "display_data",
          "data": {
            "text/plain": [
              "<Figure size 800x600 with 2 Axes>"
            ],
            "image/png": "[encoded data removed]"
          },
          "metadata": {}
        },
        {
          "output_type": "stream",
          "name": "stdout",
          "text": [
            "              precision    recall  f1-score   support\n",
            "\n",
            "    Negative       0.98      1.00      0.99       173\n",
            "    Positive       1.00      0.97      0.98        99\n",
            "\n",
            "    accuracy                           0.99       272\n",
            "   macro avg       0.99      0.98      0.99       272\n",
            "weighted avg       0.99      0.99      0.99       272\n",
            "\n"
          ]
        }
      ]
    },
    {
      "cell_type": "code",
      "source": [
        "# Save the retrained model\n",
        "model.save('verity_function3_retrained.h5')"
      ],
      "metadata": {
        "colab": {
          "base_uri": "https://localhost:8080/"
        },
        "id": "tGcE-gxPbYwM",
        "outputId": "fdb00503-8a14-4044-ff3d-f88214d73ea4"
      },
      "execution_count": null,
      "outputs": [
        {
          "output_type": "stream",
          "name": "stderr",
          "text": [
            "WARNING:absl:You are saving your model as an HDF5 file via `model.save()` or `keras.saving.save_model(model)`. This file format is considered legacy. We recommend using instead the native Keras format, e.g. `model.save('my_model.keras')` or `keras.saving.save_model(model, 'my_model.keras')`. \n"
          ]
        }
      ]
    },
    {
      "cell_type": "code",
      "source": [],
      "metadata": {
        "id": "jbcyQKqYdLM3"
      },
      "execution_count": null,
      "outputs": []
    }
  ]
}