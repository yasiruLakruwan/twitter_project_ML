{
  "nbformat": 4,
  "nbformat_minor": 0,
  "metadata": {
    "colab": {
      "provenance": [],
      "gpuType": "T4"
    },
    "kernelspec": {
      "name": "python3",
      "display_name": "Python 3"
    },
    "language_info": {
      "name": "python"
    },
    "accelerator": "GPU"
  },
  "cells": [
    {
      "cell_type": "code",
      "execution_count": 26,
      "metadata": {
        "id": "shn67fCAVej7"
      },
      "outputs": [],
      "source": [
        "import pandas as pd\n",
        "import numpy as np\n",
        "from matplotlib import pyplot as plt\n",
        "import seaborn as sns\n",
        "from sklearn.preprocessing import StandardScaler\n",
        "from sklearn.model_selection import train_test_split\n",
        "from tensorflow.keras.preprocessing.text import Tokenizer\n",
        "from tensorflow.keras.preprocessing.sequence import pad_sequences\n",
        "from tensorflow.keras.models import Model\n",
        "from tensorflow.keras.layers import Input, Embedding, LSTM, Dense, Dropout, concatenate, BatchNormalization\n",
        "from tensorflow.keras.utils import to_categorical\n",
        "from tensorflow.keras.callbacks import EarlyStopping\n",
        "from tensorflow.keras.regularizers import l2\n",
        "import requests\n",
        "import tensorflow as tf\n"
      ]
    },
    {
      "cell_type": "code",
      "source": [
        "# Load and preprocess the data\n",
        "data = pd.read_csv('/content/drive/MyDrive/Truth seek/Features_For_Traditional_ML_Techniques.csv')\n",
        "data = data.drop(columns=['Unnamed: 0', 'majority_target', 'statement', 'embeddings'])"
      ],
      "metadata": {
        "id": "Hl5ZxM8BVrZ9"
      },
      "execution_count": 27,
      "outputs": []
    },
    {
      "cell_type": "code",
      "source": [
        "# Plot target variable distribution\n",
        "sns.countplot(x='BinaryNumTarget', data=data)\n",
        "plt.xlabel('BinaryNumTarget')\n",
        "plt.ylabel('Count')\n",
        "plt.title('Distribution of BinaryNumTarget')\n",
        "plt.show()"
      ],
      "metadata": {
        "colab": {
          "base_uri": "https://localhost:8080/",
          "height": 472
        },
        "id": "lVVTEXl0V2cb",
        "outputId": "162ef4d7-a27b-40cf-e11d-970c223c1d8d"
      },
      "execution_count": 28,
      "outputs": [
        {
          "output_type": "display_data",
          "data": {
            "text/plain": [
              "<Figure size 640x480 with 1 Axes>"
            ],
            "image/png": "[encoded data removed]"
          },
          "metadata": {}
        }
      ]
    },
    {
      "cell_type": "code",
      "source": [
        "# Prepare tweet data for model\n",
        "max_words = 1000  # Max number of words to keep in Tokenizer\n",
        "max_seq_length = 100  # Max sequence length for padding\n"
      ],
      "metadata": {
        "id": "AMVTlRptV_pT"
      },
      "execution_count": 29,
      "outputs": []
    },
    {
      "cell_type": "code",
      "source": [
        "import re\n",
        "\n",
        "def clean_text(text):\n",
        "    text = re.sub(r'\\d+', '', text)  # Remove digits\n",
        "    text = re.sub(r'[^\\w\\s]', '', text)  # Remove punctuation\n",
        "    text = re.sub(r'\\s+', ' ', text)  # Remove multiple spaces\n",
        "    text = text.lower().strip()  # Convert to lowercase and strip leading/trailing spaces\n",
        "    return text\n",
        "\n",
        "data['tweet'] = data['tweet'].apply(clean_text)\n"
      ],
      "metadata": {
        "id": "RCV3lduJnMg8"
      },
      "execution_count": 30,
      "outputs": []
    },
    {
      "cell_type": "code",
      "source": [
        "tokenizer = Tokenizer(num_words=max_words)\n",
        "tokenizer.fit_on_texts(data['tweet'])\n",
        "sequences = tokenizer.texts_to_sequences(data['tweet'])\n",
        "word_index = tokenizer.word_index\n",
        "\n",
        "tweet_data = pad_sequences(sequences, maxlen=max_seq_length)"
      ],
      "metadata": {
        "id": "MebxfSFwWCsy"
      },
      "execution_count": 31,
      "outputs": []
    },
    {
      "cell_type": "code",
      "source": [
        "# Target variable\n",
        "target = data['BinaryNumTarget'].values"
      ],
      "metadata": {
        "id": "e7FIn6wnaLEM"
      },
      "execution_count": 32,
      "outputs": []
    },
    {
      "cell_type": "code",
      "source": [
        "# Train-test split\n",
        "X_train, X_test, y_train, y_test = train_test_split(tweet_data, target, test_size=0.2, random_state=42)"
      ],
      "metadata": {
        "id": "sDQeny-VWE5z"
      },
      "execution_count": 33,
      "outputs": []
    },
    {
      "cell_type": "code",
      "source": [
        "# RNN Model Architecture\n",
        "text_input = Input(shape=(max_seq_length,))\n",
        "embedding_layer = Embedding(max_words, 100)(text_input)\n",
        "lstm_layer = LSTM(64, return_sequences=False)(embedding_layer)\n",
        "lstm_layer = Dropout(0.5)(lstm_layer)\n",
        "dense_layer = Dense(64, activation='relu')(lstm_layer)\n",
        "dense_layer = Dropout(0.5)(dense_layer)\n",
        "output_layer = Dense(1, activation='sigmoid')(lstm_layer)"
      ],
      "metadata": {
        "id": "4EndmI8DWPJT"
      },
      "execution_count": 34,
      "outputs": []
    },
    {
      "cell_type": "code",
      "source": [
        "optimizer = tf.keras.optimizers.AdamW(learning_rate=0.00001)"
      ],
      "metadata": {
        "id": "iq9gqk9e-xsX"
      },
      "execution_count": 35,
      "outputs": []
    },
    {
      "cell_type": "code",
      "source": [
        "model = Model(inputs=text_input, outputs=output_layer)\n",
        "model.compile(optimizer=optimizer, loss='binary_crossentropy', metrics=['accuracy'])"
      ],
      "metadata": {
        "id": "KF-L1FdVXdeD"
      },
      "execution_count": 36,
      "outputs": []
    },
    {
      "cell_type": "code",
      "source": [
        "# Model Training\n",
        "callbacks = [EarlyStopping(patience=3, monitor='val_loss', restore_best_weights=True)]\n",
        "history = model.fit(X_train, y_train, epochs=50, batch_size=32,\n",
        "                    validation_split=0.2, callbacks=callbacks)\n"
      ],
      "metadata": {
        "colab": {
          "base_uri": "https://localhost:8080/"
        },
        "id": "BoK5pit8aVfj",
        "outputId": "e399ec6e-a823-4cd3-89f5-ac431442dba5"
      },
      "execution_count": 37,
      "outputs": [
        {
          "output_type": "stream",
          "name": "stdout",
          "text": [
            "Epoch 1/50\n",
            "\u001b[1m2684/2684\u001b[0m \u001b[32m━━━━━━━━━━━━━━━━━━━━\u001b[0m\u001b[37m\u001b[0m \u001b[1m204s\u001b[0m 74ms/step - accuracy: 0.5409 - loss: 0.6891 - val_accuracy: 0.6729 - val_loss: 0.6570\n",
            "Epoch 2/50\n",
            "\u001b[1m2684/2684\u001b[0m \u001b[32m━━━━━━━━━━━━━━━━━━━━\u001b[0m\u001b[37m\u001b[0m \u001b[1m197s\u001b[0m 73ms/step - accuracy: 0.7193 - loss: 0.6064 - val_accuracy: 0.8011 - val_loss: 0.4625\n",
            "Epoch 3/50\n",
            "\u001b[1m2684/2684\u001b[0m \u001b[32m━━━━━━━━━━━━━━━━━━━━\u001b[0m\u001b[37m\u001b[0m \u001b[1m202s\u001b[0m 73ms/step - accuracy: 0.8445 - loss: 0.4377 - val_accuracy: 0.8635 - val_loss: 0.3671\n",
            "Epoch 4/50\n",
            "\u001b[1m2684/2684\u001b[0m \u001b[32m━━━━━━━━━━━━━━━━━━━━\u001b[0m\u001b[37m\u001b[0m \u001b[1m192s\u001b[0m 72ms/step - accuracy: 0.8792 - loss: 0.3463 - val_accuracy: 0.8876 - val_loss: 0.3067\n",
            "Epoch 5/50\n",
            "\u001b[1m2684/2684\u001b[0m \u001b[32m━━━━━━━━━━━━━━━━━━━━\u001b[0m\u001b[37m\u001b[0m \u001b[1m211s\u001b[0m 75ms/step - accuracy: 0.8925 - loss: 0.2977 - val_accuracy: 0.8952 - val_loss: 0.2809\n",
            "Epoch 6/50\n",
            "\u001b[1m2684/2684\u001b[0m \u001b[32m━━━━━━━━━━━━━━━━━━━━\u001b[0m\u001b[37m\u001b[0m \u001b[1m195s\u001b[0m 72ms/step - accuracy: 0.9019 - loss: 0.2708 - val_accuracy: 0.9021 - val_loss: 0.2655\n",
            "Epoch 7/50\n",
            "\u001b[1m2684/2684\u001b[0m \u001b[32m━━━━━━━━━━━━━━━━━━━━\u001b[0m\u001b[37m\u001b[0m \u001b[1m196s\u001b[0m 73ms/step - accuracy: 0.9097 - loss: 0.2545 - val_accuracy: 0.9071 - val_loss: 0.2527\n",
            "Epoch 8/50\n",
            "\u001b[1m2684/2684\u001b[0m \u001b[32m━━━━━━━━━━━━━━━━━━━━\u001b[0m\u001b[37m\u001b[0m \u001b[1m195s\u001b[0m 73ms/step - accuracy: 0.9131 - loss: 0.2456 - val_accuracy: 0.9109 - val_loss: 0.2430\n",
            "Epoch 9/50\n",
            "\u001b[1m2684/2684\u001b[0m \u001b[32m━━━━━━━━━━━━━━━━━━━━\u001b[0m\u001b[37m\u001b[0m \u001b[1m210s\u001b[0m 76ms/step - accuracy: 0.9151 - loss: 0.2392 - val_accuracy: 0.9113 - val_loss: 0.2369\n",
            "Epoch 10/50\n",
            "\u001b[1m2684/2684\u001b[0m \u001b[32m━━━━━━━━━━━━━━━━━━━━\u001b[0m\u001b[37m\u001b[0m \u001b[1m197s\u001b[0m 73ms/step - accuracy: 0.9179 - loss: 0.2284 - val_accuracy: 0.9120 - val_loss: 0.2326\n",
            "Epoch 11/50\n",
            "\u001b[1m2684/2684\u001b[0m \u001b[32m━━━━━━━━━━━━━━━━━━━━\u001b[0m\u001b[37m\u001b[0m \u001b[1m196s\u001b[0m 73ms/step - accuracy: 0.9211 - loss: 0.2178 - val_accuracy: 0.9158 - val_loss: 0.2268\n",
            "Epoch 12/50\n",
            "\u001b[1m2684/2684\u001b[0m \u001b[32m━━━━━━━━━━━━━━━━━━━━\u001b[0m\u001b[37m\u001b[0m \u001b[1m203s\u001b[0m 73ms/step - accuracy: 0.9211 - loss: 0.2179 - val_accuracy: 0.9175 - val_loss: 0.2223\n",
            "Epoch 13/50\n",
            "\u001b[1m2684/2684\u001b[0m \u001b[32m━━━━━━━━━━━━━━━━━━━━\u001b[0m\u001b[37m\u001b[0m \u001b[1m202s\u001b[0m 73ms/step - accuracy: 0.9236 - loss: 0.2169 - val_accuracy: 0.9184 - val_loss: 0.2180\n",
            "Epoch 14/50\n",
            "\u001b[1m2684/2684\u001b[0m \u001b[32m━━━━━━━━━━━━━━━━━━━━\u001b[0m\u001b[37m\u001b[0m \u001b[1m200s\u001b[0m 73ms/step - accuracy: 0.9245 - loss: 0.2104 - val_accuracy: 0.9184 - val_loss: 0.2164\n",
            "Epoch 15/50\n",
            "\u001b[1m2684/2684\u001b[0m \u001b[32m━━━━━━━━━━━━━━━━━━━━\u001b[0m\u001b[37m\u001b[0m \u001b[1m200s\u001b[0m 72ms/step - accuracy: 0.9246 - loss: 0.2078 - val_accuracy: 0.9206 - val_loss: 0.2133\n",
            "Epoch 16/50\n",
            "\u001b[1m2684/2684\u001b[0m \u001b[32m━━━━━━━━━━━━━━━━━━━━\u001b[0m\u001b[37m\u001b[0m \u001b[1m195s\u001b[0m 73ms/step - accuracy: 0.9271 - loss: 0.2055 - val_accuracy: 0.9184 - val_loss: 0.2170\n",
            "Epoch 17/50\n",
            "\u001b[1m2684/2684\u001b[0m \u001b[32m━━━━━━━━━━━━━━━━━━━━\u001b[0m\u001b[37m\u001b[0m \u001b[1m204s\u001b[0m 74ms/step - accuracy: 0.9274 - loss: 0.1998 - val_accuracy: 0.9210 - val_loss: 0.2097\n",
            "Epoch 18/50\n",
            "\u001b[1m2684/2684\u001b[0m \u001b[32m━━━━━━━━━━━━━━━━━━━━\u001b[0m\u001b[37m\u001b[0m \u001b[1m194s\u001b[0m 72ms/step - accuracy: 0.9284 - loss: 0.1994 - val_accuracy: 0.9226 - val_loss: 0.2076\n",
            "Epoch 19/50\n",
            "\u001b[1m2684/2684\u001b[0m \u001b[32m━━━━━━━━━━━━━━━━━━━━\u001b[0m\u001b[37m\u001b[0m \u001b[1m200s\u001b[0m 71ms/step - accuracy: 0.9289 - loss: 0.1999 - val_accuracy: 0.9223 - val_loss: 0.2095\n",
            "Epoch 20/50\n",
            "\u001b[1m2684/2684\u001b[0m \u001b[32m━━━━━━━━━━━━━━━━━━━━\u001b[0m\u001b[37m\u001b[0m \u001b[1m202s\u001b[0m 71ms/step - accuracy: 0.9284 - loss: 0.1989 - val_accuracy: 0.9234 - val_loss: 0.2048\n",
            "Epoch 21/50\n",
            "\u001b[1m2684/2684\u001b[0m \u001b[32m━━━━━━━━━━━━━━━━━━━━\u001b[0m\u001b[37m\u001b[0m \u001b[1m194s\u001b[0m 72ms/step - accuracy: 0.9311 - loss: 0.1945 - val_accuracy: 0.9233 - val_loss: 0.2038\n",
            "Epoch 22/50\n",
            "\u001b[1m2684/2684\u001b[0m \u001b[32m━━━━━━━━━━━━━━━━━━━━\u001b[0m\u001b[37m\u001b[0m \u001b[1m206s\u001b[0m 74ms/step - accuracy: 0.9296 - loss: 0.1939 - val_accuracy: 0.9220 - val_loss: 0.2050\n",
            "Epoch 23/50\n",
            "\u001b[1m2684/2684\u001b[0m \u001b[32m━━━━━━━━━━━━━━━━━━━━\u001b[0m\u001b[37m\u001b[0m \u001b[1m197s\u001b[0m 72ms/step - accuracy: 0.9310 - loss: 0.1907 - val_accuracy: 0.9243 - val_loss: 0.2012\n",
            "Epoch 24/50\n",
            "\u001b[1m2684/2684\u001b[0m \u001b[32m━━━━━━━━━━━━━━━━━━━━\u001b[0m\u001b[37m\u001b[0m \u001b[1m205s\u001b[0m 73ms/step - accuracy: 0.9308 - loss: 0.1893 - val_accuracy: 0.9260 - val_loss: 0.2012\n",
            "Epoch 25/50\n",
            "\u001b[1m2684/2684\u001b[0m \u001b[32m━━━━━━━━━━━━━━━━━━━━\u001b[0m\u001b[37m\u001b[0m \u001b[1m210s\u001b[0m 76ms/step - accuracy: 0.9334 - loss: 0.1846 - val_accuracy: 0.9267 - val_loss: 0.1992\n",
            "Epoch 26/50\n",
            "\u001b[1m2684/2684\u001b[0m \u001b[32m━━━━━━━━━━━━━━━━━━━━\u001b[0m\u001b[37m\u001b[0m \u001b[1m255s\u001b[0m 74ms/step - accuracy: 0.9341 - loss: 0.1866 - val_accuracy: 0.9254 - val_loss: 0.1988\n",
            "Epoch 27/50\n",
            "\u001b[1m2684/2684\u001b[0m \u001b[32m━━━━━━━━━━━━━━━━━━━━\u001b[0m\u001b[37m\u001b[0m \u001b[1m195s\u001b[0m 73ms/step - accuracy: 0.9335 - loss: 0.1837 - val_accuracy: 0.9261 - val_loss: 0.1976\n",
            "Epoch 28/50\n",
            "\u001b[1m2684/2684\u001b[0m \u001b[32m━━━━━━━━━━━━━━━━━━━━\u001b[0m\u001b[37m\u001b[0m \u001b[1m205s\u001b[0m 74ms/step - accuracy: 0.9344 - loss: 0.1844 - val_accuracy: 0.9277 - val_loss: 0.1968\n",
            "Epoch 29/50\n",
            "\u001b[1m2684/2684\u001b[0m \u001b[32m━━━━━━━━━━━━━━━━━━━━\u001b[0m\u001b[37m\u001b[0m \u001b[1m204s\u001b[0m 75ms/step - accuracy: 0.9333 - loss: 0.1837 - val_accuracy: 0.9259 - val_loss: 0.1969\n",
            "Epoch 30/50\n",
            "\u001b[1m2684/2684\u001b[0m \u001b[32m━━━━━━━━━━━━━━━━━━━━\u001b[0m\u001b[37m\u001b[0m \u001b[1m198s\u001b[0m 73ms/step - accuracy: 0.9335 - loss: 0.1837 - val_accuracy: 0.9260 - val_loss: 0.1961\n",
            "Epoch 31/50\n",
            "\u001b[1m2684/2684\u001b[0m \u001b[32m━━━━━━━━━━━━━━━━━━━━\u001b[0m\u001b[37m\u001b[0m \u001b[1m200s\u001b[0m 73ms/step - accuracy: 0.9359 - loss: 0.1809 - val_accuracy: 0.9252 - val_loss: 0.1963\n",
            "Epoch 32/50\n",
            "\u001b[1m2684/2684\u001b[0m \u001b[32m━━━━━━━━━━━━━━━━━━━━\u001b[0m\u001b[37m\u001b[0m \u001b[1m193s\u001b[0m 72ms/step - accuracy: 0.9353 - loss: 0.1806 - val_accuracy: 0.9279 - val_loss: 0.1937\n",
            "Epoch 33/50\n",
            "\u001b[1m2684/2684\u001b[0m \u001b[32m━━━━━━━━━━━━━━━━━━━━\u001b[0m\u001b[37m\u001b[0m \u001b[1m195s\u001b[0m 73ms/step - accuracy: 0.9361 - loss: 0.1782 - val_accuracy: 0.9266 - val_loss: 0.1937\n",
            "Epoch 34/50\n",
            "\u001b[1m2684/2684\u001b[0m \u001b[32m━━━━━━━━━━━━━━━━━━━━\u001b[0m\u001b[37m\u001b[0m \u001b[1m202s\u001b[0m 73ms/step - accuracy: 0.9338 - loss: 0.1825 - val_accuracy: 0.9284 - val_loss: 0.1941\n",
            "Epoch 35/50\n",
            "\u001b[1m2684/2684\u001b[0m \u001b[32m━━━━━━━━━━━━━━━━━━━━\u001b[0m\u001b[37m\u001b[0m \u001b[1m204s\u001b[0m 73ms/step - accuracy: 0.9361 - loss: 0.1770 - val_accuracy: 0.9255 - val_loss: 0.1957\n"
          ]
        }
      ]
    },
    {
      "cell_type": "code",
      "source": [
        "# Print validation accuracy for each epoch\n",
        "val_accuracy = history.history['val_accuracy']\n",
        "print(\"Validation Accuracy for each epoch:\")\n",
        "for epoch, accuracy in enumerate(val_accuracy, 1):\n",
        "    print(f\"Epoch {epoch}: {accuracy:.4f}\")\n",
        "\n",
        "# Print final validation accuracy\n",
        "final_val_accuracy = val_accuracy[-1]\n",
        "print(f'Final Validation Accuracy: {final_val_accuracy:.4f}')\n",
        "\n",
        "# Evaluate the model\n",
        "loss, accuracy = model.evaluate(X_test, y_test)\n",
        "print(f'Test Accuracy: {accuracy * 100:.2f}%')"
      ],
      "metadata": {
        "colab": {
          "base_uri": "https://localhost:8080/"
        },
        "id": "bdiTibdFaXSD",
        "outputId": "bc4ce4fd-b32f-442c-dcec-04001caeb734"
      },
      "execution_count": 38,
      "outputs": [
        {
          "output_type": "stream",
          "name": "stdout",
          "text": [
            "Validation Accuracy for each epoch:\n",
            "Epoch 1: 0.6729\n",
            "Epoch 2: 0.8011\n",
            "Epoch 3: 0.8635\n",
            "Epoch 4: 0.8876\n",
            "Epoch 5: 0.8952\n",
            "Epoch 6: 0.9021\n",
            "Epoch 7: 0.9071\n",
            "Epoch 8: 0.9109\n",
            "Epoch 9: 0.9113\n",
            "Epoch 10: 0.9120\n",
            "Epoch 11: 0.9158\n",
            "Epoch 12: 0.9175\n",
            "Epoch 13: 0.9184\n",
            "Epoch 14: 0.9184\n",
            "Epoch 15: 0.9206\n",
            "Epoch 16: 0.9184\n",
            "Epoch 17: 0.9210\n",
            "Epoch 18: 0.9226\n",
            "Epoch 19: 0.9223\n",
            "Epoch 20: 0.9234\n",
            "Epoch 21: 0.9233\n",
            "Epoch 22: 0.9220\n",
            "Epoch 23: 0.9243\n",
            "Epoch 24: 0.9260\n",
            "Epoch 25: 0.9267\n",
            "Epoch 26: 0.9254\n",
            "Epoch 27: 0.9261\n",
            "Epoch 28: 0.9277\n",
            "Epoch 29: 0.9259\n",
            "Epoch 30: 0.9260\n",
            "Epoch 31: 0.9252\n",
            "Epoch 32: 0.9279\n",
            "Epoch 33: 0.9266\n",
            "Epoch 34: 0.9284\n",
            "Epoch 35: 0.9255\n",
            "Final Validation Accuracy: 0.9255\n",
            "\u001b[1m839/839\u001b[0m \u001b[32m━━━━━━━━━━━━━━━━━━━━\u001b[0m\u001b[37m\u001b[0m \u001b[1m17s\u001b[0m 19ms/step - accuracy: 0.9334 - loss: 0.1819\n",
            "Test Accuracy: 93.25%\n"
          ]
        }
      ]
    },
    {
      "cell_type": "code",
      "source": [
        "# Define the function to get relevant news URLs\n",
        "def get_relevant_urls(tweet_text):\n",
        "    api_key = '06cba0dcd3d84dc3bc34aac90e62ba89'  # Replace with your actual NewsAPI.org API key\n",
        "    url = f'https://newsapi.org/v2/everything?q={tweet_text}&sortBy=relevancy&apiKey={api_key}'\n",
        "\n",
        "    response = requests.get(url)\n",
        "    response_data = response.json()\n",
        "\n",
        "    try:\n",
        "        articles = response_data['articles']\n",
        "    except KeyError:\n",
        "        print(\"Error: The 'articles' key was not found in the API response.\")\n",
        "        return []\n",
        "\n",
        "    urls = [article.get('url', '') for article in articles]\n",
        "    return urls"
      ],
      "metadata": {
        "id": "nYq5t9yGaafq"
      },
      "execution_count": 39,
      "outputs": []
    },
    {
      "cell_type": "code",
      "source": [
        "# Example for new texts\n",
        "new_texts = [\n",
        "  \"Sri Lanka faces a crucial challenge as they head into the second Test against England on Thursday at Lord’s, a venue that has often served as an unlikely home away from home for the visiting side.\"\n",
        " ]"
      ],
      "metadata": {
        "id": "KUIAMTUAl595"
      },
      "execution_count": 40,
      "outputs": []
    },
    {
      "cell_type": "code",
      "source": [
        "# Preprocess the new texts\n",
        "new_sequences = tokenizer.texts_to_sequences(new_texts)\n",
        "new_data = pad_sequences(new_sequences, maxlen=max_seq_length)"
      ],
      "metadata": {
        "id": "jsHzBI-Rl6WZ"
      },
      "execution_count": 41,
      "outputs": []
    },
    {
      "cell_type": "code",
      "source": [
        "# Get predictions and news URLs\n",
        "new_predictions = model.predict(new_data)\n",
        "predicted_classes = (new_predictions > 0.5).astype(int)"
      ],
      "metadata": {
        "colab": {
          "base_uri": "https://localhost:8080/"
        },
        "id": "9xj44sVPl8T2",
        "outputId": "f6029216-a121-4d69-9020-5c33d300853f"
      },
      "execution_count": 42,
      "outputs": [
        {
          "output_type": "stream",
          "name": "stdout",
          "text": [
            "\u001b[1m1/1\u001b[0m \u001b[32m━━━━━━━━━━━━━━━━━━━━\u001b[0m\u001b[37m\u001b[0m \u001b[1m0s\u001b[0m 307ms/step\n"
          ]
        }
      ]
    },
    {
      "cell_type": "code",
      "source": [
        "for text, prediction in zip(new_texts, predicted_classes):\n",
        "    print(f\"Tweet: {text}\")\n",
        "    print(f\"Prediction: {'Positive' if prediction == 1 else 'Negative'}\")\n",
        "    urls = get_relevant_urls(text)\n",
        "    print(f\"Relevant News URLs: {urls}\")\n",
        "    print()"
      ],
      "metadata": {
        "colab": {
          "base_uri": "https://localhost:8080/"
        },
        "id": "nphBS3J6l-jg",
        "outputId": "20539d71-bfb1-4c7b-ddb2-ffec84d2b24b"
      },
      "execution_count": 43,
      "outputs": [
        {
          "output_type": "stream",
          "name": "stdout",
          "text": [
            "Tweet: Sri Lanka faces a crucial challenge as they head into the second Test against England on Thursday at Lord’s, a venue that has often served as an unlikely home away from home for the visiting side.\n",
            "Prediction: Negative\n",
            "Relevant News URLs: []\n",
            "\n"
          ]
        }
      ]
    },
    {
      "cell_type": "code",
      "source": [
        "import matplotlib.pyplot as plt\n",
        "\n",
        "plt.figure(figsize=(12, 5))\n",
        "plt.subplot(1, 2, 1)\n",
        "plt.plot(history.history['accuracy'])\n",
        "plt.plot(history.history['val_accuracy'])\n",
        "plt.title('Model Accuracy')\n",
        "plt.ylabel('Accuracy')\n",
        "plt.xlabel('Epoch')\n",
        "plt.legend(['Train', 'Validation'], loc='upper left')\n",
        "\n",
        "plt.subplot(1, 2, 2)\n",
        "plt.plot(history.history['loss'])\n",
        "plt.plot(history.history['val_loss'])\n",
        "plt.title('Model Loss')\n",
        "plt.ylabel('Loss')\n",
        "plt.xlabel('Epoch')\n",
        "plt.legend(['Train', 'Validation'], loc='upper left')\n",
        "\n",
        "plt.show()"
      ],
      "metadata": {
        "colab": {
          "base_uri": "https://localhost:8080/",
          "height": 455
        },
        "id": "zgkaDzKImAwg",
        "outputId": "d6a15c27-cbc2-4ea3-93d7-7323cd3d7b43"
      },
      "execution_count": 44,
      "outputs": [
        {
          "output_type": "display_data",
          "data": {
            "text/plain": [
              "<Figure size 1200x500 with 2 Axes>"
            ],
            "image/png": "[encoded data removed]"
          },
          "metadata": {}
        }
      ]
    },
    {
      "cell_type": "code",
      "source": [
        "from sklearn.metrics import confusion_matrix, classification_report\n",
        "import seaborn as sns\n",
        "import matplotlib.pyplot as plt\n",
        "\n",
        "# Step 1: Make predictions on the test set\n",
        "y_pred_prob = model.predict(X_test)\n",
        "\n",
        "# Step 2: Convert probabilities to binary labels\n",
        "y_pred = (y_pred_prob > 0.5).astype(int)\n",
        "\n",
        "# Step 3: Generate the confusion matrix\n",
        "conf_matrix = confusion_matrix(y_test, y_pred)\n",
        "\n",
        "# Step 4: Plot the confusion matrix\n",
        "plt.figure(figsize=(8, 6))\n",
        "sns.heatmap(conf_matrix, annot=True, fmt='d', cmap='Blues', xticklabels=['Negative', 'Positive'], yticklabels=['Negative', 'Positive'])\n",
        "plt.xlabel('Predicted Label')\n",
        "plt.ylabel('True Label')\n",
        "plt.title('Confusion Matrix')\n",
        "plt.show()\n",
        "\n",
        "# Optional: Print a classification report for detailed metrics\n",
        "print(classification_report(y_test, y_pred, target_names=['Negative', 'Positive']))\n"
      ],
      "metadata": {
        "id": "HiOAaDLQmwch",
        "colab": {
          "base_uri": "https://localhost:8080/",
          "height": 738
        },
        "outputId": "68f0627e-d2d4-40fc-a105-d34066dd4e8c"
      },
      "execution_count": 45,
      "outputs": [
        {
          "output_type": "stream",
          "name": "stdout",
          "text": [
            "\u001b[1m839/839\u001b[0m \u001b[32m━━━━━━━━━━━━━━━━━━━━\u001b[0m\u001b[37m\u001b[0m \u001b[1m16s\u001b[0m 18ms/step\n"
          ]
        },
        {
          "output_type": "display_data",
          "data": {
            "text/plain": [
              "<Figure size 800x600 with 2 Axes>"
            ],
            "image/png": "[encoded data removed]"
          },
          "metadata": {}
        },
        {
          "output_type": "stream",
          "name": "stdout",
          "text": [
            "              precision    recall  f1-score   support\n",
            "\n",
            "    Negative       0.93      0.93      0.93     13076\n",
            "    Positive       0.93      0.94      0.93     13764\n",
            "\n",
            "    accuracy                           0.93     26840\n",
            "   macro avg       0.93      0.93      0.93     26840\n",
            "weighted avg       0.93      0.93      0.93     26840\n",
            "\n"
          ]
        }
      ]
    },
    {
      "cell_type": "code",
      "source": [
        "model.save('verity_function3.h5')\n"
      ],
      "metadata": {
        "colab": {
          "base_uri": "https://localhost:8080/"
        },
        "id": "4jdoagZxv2GA",
        "outputId": "21bb4b37-fe51-4059-dbc1-e4faaf56ac29"
      },
      "execution_count": 46,
      "outputs": [
        {
          "output_type": "stream",
          "name": "stderr",
          "text": [
            "WARNING:absl:You are saving your model as an HDF5 file via `model.save()` or `keras.saving.save_model(model)`. This file format is considered legacy. We recommend using instead the native Keras format, e.g. `model.save('my_model.keras')` or `keras.saving.save_model(model, 'my_model.keras')`. \n"
          ]
        }
      ]
    },
    {
      "cell_type": "markdown",
      "source": [
        "Re training process"
      ],
      "metadata": {
        "id": "MXvT82CfGiKX"
      }
    },
    {
      "cell_type": "code",
      "source": [
        "from tensorflow.keras.models import load_model\n",
        "\n",
        "# Load the saved model\n",
        "model2 = load_model('/content/verity_function3.h5')\n"
      ],
      "metadata": {
        "colab": {
          "base_uri": "https://localhost:8080/"
        },
        "id": "i1FR6lBqFiBT",
        "outputId": "11f97463-7c09-47ee-ac12-d3e2d02116e6"
      },
      "execution_count": 190,
      "outputs": [
        {
          "output_type": "stream",
          "name": "stderr",
          "text": [
            "WARNING:absl:Compiled the loaded model, but the compiled metrics have yet to be built. `model.compile_metrics` will be empty until you train or evaluate the model.\n"
          ]
        }
      ]
    },
    {
      "cell_type": "code",
      "source": [
        "# Load dataset from a local CSV file\n",
        "custom_data = pd.read_csv('/content/drive/MyDrive/Truth seek/Function3_data.csv')\n",
        "\n",
        "# Display the first few rows to check if it's loaded correctly\n",
        "custom_data.head()"
      ],
      "metadata": {
        "colab": {
          "base_uri": "https://localhost:8080/",
          "height": 672
        },
        "id": "7UgnjZCBFpX6",
        "outputId": "b072684c-f9ad-43bb-88b9-e341ada69d92"
      },
      "execution_count": 191,
      "outputs": [
        {
          "output_type": "execute_result",
          "data": {
            "text/plain": [
              "                                             heading  \\\n",
              "0  New largest dinosaur species found in Australi...   \n",
              "1  SAITM issue: President to discuss with stakeho...   \n",
              "2  Intern’l responsibilities crucial for developm...   \n",
              "3        Five remanded over assault on Sri Lankan HC   \n",
              "4     Banners with LTTE chief's pic land duo in jail   \n",
              "\n",
              "                                             content  label  Word count  \\\n",
              "0  Scientists in Australia lack declassify a old ...      1       379.0   \n",
              "1  President Maithripala Sirisena disinherit summ...      1       117.0   \n",
              "2  Norwegian Prime Minister Erna Solberg said tod...      1       251.0   \n",
              "3  Five people , who differ arrested for allegedl...      1       126.0   \n",
              "4  Two nonmember of a fringe Tamil nationalist pa...      1       169.0   \n",
              "\n",
              "   Max word length  Min word length  Average word length  present_verbs  \\\n",
              "0             16.0              1.0             5.242744           47.0   \n",
              "1             20.0              1.0             5.683761           22.0   \n",
              "2             16.0              1.0             5.840637           38.0   \n",
              "3             14.0              1.0             5.214286           17.0   \n",
              "4             12.0              1.0             5.313609           23.0   \n",
              "\n",
              "   past_verbs  adjectives  ...     PERSON   ORDINAL       TIME      NORP  \\\n",
              "0         0.0        40.0  ...   5.405405  2.702703        NaN       NaN   \n",
              "1         0.0         6.0  ...  25.000000       NaN  12.500000       NaN   \n",
              "2         0.0        27.0  ...  25.000000       NaN        NaN  5.000000   \n",
              "3         0.0         6.0  ...  17.391304       NaN   4.347826       NaN   \n",
              "4         0.0        11.0  ...  25.000000  3.571429        NaN  3.571429   \n",
              "\n",
              "        FAC  WORK_OF_ART  MONEY  PERCENT  LAW  LANGUAGE  \n",
              "0       NaN          NaN    NaN      NaN  NaN       NaN  \n",
              "1       NaN          NaN    NaN      NaN  NaN       NaN  \n",
              "2       NaN          NaN    NaN      NaN  NaN       NaN  \n",
              "3       NaN          NaN    NaN      NaN  NaN       NaN  \n",
              "4  3.571429          NaN    NaN      NaN  NaN       NaN  \n",
              "\n",
              "[5 rows x 37 columns]"
            ],
            "text/html": [
              "\n",
              "  <div id=\"df-166a23ef-7046-4f1f-a680-48aa757f5921\" class=\"colab-df-container\">\n",
              "    <div>\n",
              "<style scoped>\n",
              "    .dataframe tbody tr th:only-of-type {\n",
              "        vertical-align: middle;\n",
              "    }\n",
              "\n",
              "    .dataframe tbody tr th {\n",
              "        vertical-align: top;\n",
              "    }\n",
              "\n",
              "    .dataframe thead th {\n",
              "        text-align: right;\n",
              "    }\n",
              "</style>\n",
              "<table border=\"1\" class=\"dataframe\">\n",
              "  <thead>\n",
              "    <tr style=\"text-align: right;\">\n",
              "      <th></th>\n",
              "      <th>heading</th>\n",
              "      <th>content</th>\n",
              "      <th>label</th>\n",
              "      <th>Word count</th>\n",
              "      <th>Max word length</th>\n",
              "      <th>Min word length</th>\n",
              "      <th>Average word length</th>\n",
              "      <th>present_verbs</th>\n",
              "      <th>past_verbs</th>\n",
              "      <th>adjectives</th>\n",
              "      <th>...</th>\n",
              "      <th>PERSON</th>\n",
              "      <th>ORDINAL</th>\n",
              "      <th>TIME</th>\n",
              "      <th>NORP</th>\n",
              "      <th>FAC</th>\n",
              "      <th>WORK_OF_ART</th>\n",
              "      <th>MONEY</th>\n",
              "      <th>PERCENT</th>\n",
              "      <th>LAW</th>\n",
              "      <th>LANGUAGE</th>\n",
              "    </tr>\n",
              "  </thead>\n",
              "  <tbody>\n",
              "    <tr>\n",
              "      <th>0</th>\n",
              "      <td>New largest dinosaur species found in Australi...</td>\n",
              "      <td>Scientists in Australia lack declassify a old ...</td>\n",
              "      <td>1</td>\n",
              "      <td>379.0</td>\n",
              "      <td>16.0</td>\n",
              "      <td>1.0</td>\n",
              "      <td>5.242744</td>\n",
              "      <td>47.0</td>\n",
              "      <td>0.0</td>\n",
              "      <td>40.0</td>\n",
              "      <td>...</td>\n",
              "      <td>5.405405</td>\n",
              "      <td>2.702703</td>\n",
              "      <td>NaN</td>\n",
              "      <td>NaN</td>\n",
              "      <td>NaN</td>\n",
              "      <td>NaN</td>\n",
              "      <td>NaN</td>\n",
              "      <td>NaN</td>\n",
              "      <td>NaN</td>\n",
              "      <td>NaN</td>\n",
              "    </tr>\n",
              "    <tr>\n",
              "      <th>1</th>\n",
              "      <td>SAITM issue: President to discuss with stakeho...</td>\n",
              "      <td>President Maithripala Sirisena disinherit summ...</td>\n",
              "      <td>1</td>\n",
              "      <td>117.0</td>\n",
              "      <td>20.0</td>\n",
              "      <td>1.0</td>\n",
              "      <td>5.683761</td>\n",
              "      <td>22.0</td>\n",
              "      <td>0.0</td>\n",
              "      <td>6.0</td>\n",
              "      <td>...</td>\n",
              "      <td>25.000000</td>\n",
              "      <td>NaN</td>\n",
              "      <td>12.500000</td>\n",
              "      <td>NaN</td>\n",
              "      <td>NaN</td>\n",
              "      <td>NaN</td>\n",
              "      <td>NaN</td>\n",
              "      <td>NaN</td>\n",
              "      <td>NaN</td>\n",
              "      <td>NaN</td>\n",
              "    </tr>\n",
              "    <tr>\n",
              "      <th>2</th>\n",
              "      <td>Intern’l responsibilities crucial for developm...</td>\n",
              "      <td>Norwegian Prime Minister Erna Solberg said tod...</td>\n",
              "      <td>1</td>\n",
              "      <td>251.0</td>\n",
              "      <td>16.0</td>\n",
              "      <td>1.0</td>\n",
              "      <td>5.840637</td>\n",
              "      <td>38.0</td>\n",
              "      <td>0.0</td>\n",
              "      <td>27.0</td>\n",
              "      <td>...</td>\n",
              "      <td>25.000000</td>\n",
              "      <td>NaN</td>\n",
              "      <td>NaN</td>\n",
              "      <td>5.000000</td>\n",
              "      <td>NaN</td>\n",
              "      <td>NaN</td>\n",
              "      <td>NaN</td>\n",
              "      <td>NaN</td>\n",
              "      <td>NaN</td>\n",
              "      <td>NaN</td>\n",
              "    </tr>\n",
              "    <tr>\n",
              "      <th>3</th>\n",
              "      <td>Five remanded over assault on Sri Lankan HC</td>\n",
              "      <td>Five people , who differ arrested for allegedl...</td>\n",
              "      <td>1</td>\n",
              "      <td>126.0</td>\n",
              "      <td>14.0</td>\n",
              "      <td>1.0</td>\n",
              "      <td>5.214286</td>\n",
              "      <td>17.0</td>\n",
              "      <td>0.0</td>\n",
              "      <td>6.0</td>\n",
              "      <td>...</td>\n",
              "      <td>17.391304</td>\n",
              "      <td>NaN</td>\n",
              "      <td>4.347826</td>\n",
              "      <td>NaN</td>\n",
              "      <td>NaN</td>\n",
              "      <td>NaN</td>\n",
              "      <td>NaN</td>\n",
              "      <td>NaN</td>\n",
              "      <td>NaN</td>\n",
              "      <td>NaN</td>\n",
              "    </tr>\n",
              "    <tr>\n",
              "      <th>4</th>\n",
              "      <td>Banners with LTTE chief's pic land duo in jail</td>\n",
              "      <td>Two nonmember of a fringe Tamil nationalist pa...</td>\n",
              "      <td>1</td>\n",
              "      <td>169.0</td>\n",
              "      <td>12.0</td>\n",
              "      <td>1.0</td>\n",
              "      <td>5.313609</td>\n",
              "      <td>23.0</td>\n",
              "      <td>0.0</td>\n",
              "      <td>11.0</td>\n",
              "      <td>...</td>\n",
              "      <td>25.000000</td>\n",
              "      <td>3.571429</td>\n",
              "      <td>NaN</td>\n",
              "      <td>3.571429</td>\n",
              "      <td>3.571429</td>\n",
              "      <td>NaN</td>\n",
              "      <td>NaN</td>\n",
              "      <td>NaN</td>\n",
              "      <td>NaN</td>\n",
              "      <td>NaN</td>\n",
              "    </tr>\n",
              "  </tbody>\n",
              "</table>\n",
              "<p>5 rows × 37 columns</p>\n",
              "</div>\n",
              "    <div class=\"colab-df-buttons\">\n",
              "\n",
              "  <div class=\"colab-df-container\">\n",
              "    <button class=\"colab-df-convert\" onclick=\"convertToInteractive('df-166a23ef-7046-4f1f-a680-48aa757f5921')\"\n",
              "            title=\"Convert this dataframe to an interactive table.\"\n",
              "            style=\"display:none;\">\n",
              "\n",
              "  <svg xmlns=\"http://www.w3.org/2000/svg\" height=\"24px\" viewBox=\"0 -960 960 960\">\n",
              "    <path d=\"M120-120v-720h720v720H120Zm60-500h600v-160H180v160Zm220 220h160v-160H400v160Zm0 220h160v-160H400v160ZM180-400h160v-160H180v160Zm440 0h160v-160H620v160ZM180-180h160v-160H180v160Zm440 0h160v-160H620v160Z\"/>\n",
              "  </svg>\n",
              "    </button>\n",
              "\n",
              "  <style>\n",
              "    .colab-df-container {\n",
              "      display:flex;\n",
              "      gap: 12px;\n",
              "    }\n",
              "\n",
              "    .colab-df-convert {\n",
              "      background-color: #E8F0FE;\n",
              "      border: none;\n",
              "      border-radius: 50%;\n",
              "      cursor: pointer;\n",
              "      display: none;\n",
              "      fill: #1967D2;\n",
              "      height: 32px;\n",
              "      padding: 0 0 0 0;\n",
              "      width: 32px;\n",
              "    }\n",
              "\n",
              "    .colab-df-convert:hover {\n",
              "      background-color: #E2EBFA;\n",
              "      box-shadow: 0px 1px 2px rgba(60, 64, 67, 0.3), 0px 1px 3px 1px rgba(60, 64, 67, 0.15);\n",
              "      fill: #174EA6;\n",
              "    }\n",
              "\n",
              "    .colab-df-buttons div {\n",
              "      margin-bottom: 4px;\n",
              "    }\n",
              "\n",
              "    [theme=dark] .colab-df-convert {\n",
              "      background-color: #3B4455;\n",
              "      fill: #D2E3FC;\n",
              "    }\n",
              "\n",
              "    [theme=dark] .colab-df-convert:hover {\n",
              "      background-color: #434B5C;\n",
              "      box-shadow: 0px 1px 3px 1px rgba(0, 0, 0, 0.15);\n",
              "      filter: drop-shadow(0px 1px 2px rgba(0, 0, 0, 0.3));\n",
              "      fill: #FFFFFF;\n",
              "    }\n",
              "  </style>\n",
              "\n",
              "    <script>\n",
              "      const buttonEl =\n",
              "        document.querySelector('#df-166a23ef-7046-4f1f-a680-48aa757f5921 button.colab-df-convert');\n",
              "      buttonEl.style.display =\n",
              "        google.colab.kernel.accessAllowed ? 'block' : 'none';\n",
              "\n",
              "      async function convertToInteractive(key) {\n",
              "        const element = document.querySelector('#df-166a23ef-7046-4f1f-a680-48aa757f5921');\n",
              "        const dataTable =\n",
              "          await google.colab.kernel.invokeFunction('convertToInteractive',\n",
              "                                                    [key], {});\n",
              "        if (!dataTable) return;\n",
              "\n",
              "        const docLinkHtml = 'Like what you see? Visit the ' +\n",
              "          '<a target=\"_blank\" href=https://colab.research.google.com/notebooks/data_table.ipynb>data table notebook</a>'\n",
              "          + ' to learn more about interactive tables.';\n",
              "        element.innerHTML = '';\n",
              "        dataTable['output_type'] = 'display_data';\n",
              "        await google.colab.output.renderOutput(dataTable, element);\n",
              "        const docLink = document.createElement('div');\n",
              "        docLink.innerHTML = docLinkHtml;\n",
              "        element.appendChild(docLink);\n",
              "      }\n",
              "    </script>\n",
              "  </div>\n",
              "\n",
              "\n",
              "<div id=\"df-ee5edf22-9f46-41a1-b1b7-c3d8b52b3753\">\n",
              "  <button class=\"colab-df-quickchart\" onclick=\"quickchart('df-ee5edf22-9f46-41a1-b1b7-c3d8b52b3753')\"\n",
              "            title=\"Suggest charts\"\n",
              "            style=\"display:none;\">\n",
              "\n",
              "<svg xmlns=\"http://www.w3.org/2000/svg\" height=\"24px\"viewBox=\"0 0 24 24\"\n",
              "     width=\"24px\">\n",
              "    <g>\n",
              "        <path d=\"M19 3H5c-1.1 0-2 .9-2 2v14c0 1.1.9 2 2 2h14c1.1 0 2-.9 2-2V5c0-1.1-.9-2-2-2zM9 17H7v-7h2v7zm4 0h-2V7h2v10zm4 0h-2v-4h2v4z\"/>\n",
              "    </g>\n",
              "</svg>\n",
              "  </button>\n",
              "\n",
              "<style>\n",
              "  .colab-df-quickchart {\n",
              "      --bg-color: #E8F0FE;\n",
              "      --fill-color: #1967D2;\n",
              "      --hover-bg-color: #E2EBFA;\n",
              "      --hover-fill-color: #174EA6;\n",
              "      --disabled-fill-color: #AAA;\n",
              "      --disabled-bg-color: #DDD;\n",
              "  }\n",
              "\n",
              "  [theme=dark] .colab-df-quickchart {\n",
              "      --bg-color: #3B4455;\n",
              "      --fill-color: #D2E3FC;\n",
              "      --hover-bg-color: #434B5C;\n",
              "      --hover-fill-color: #FFFFFF;\n",
              "      --disabled-bg-color: #3B4455;\n",
              "      --disabled-fill-color: #666;\n",
              "  }\n",
              "\n",
              "  .colab-df-quickchart {\n",
              "    background-color: var(--bg-color);\n",
              "    border: none;\n",
              "    border-radius: 50%;\n",
              "    cursor: pointer;\n",
              "    display: none;\n",
              "    fill: var(--fill-color);\n",
              "    height: 32px;\n",
              "    padding: 0;\n",
              "    width: 32px;\n",
              "  }\n",
              "\n",
              "  .colab-df-quickchart:hover {\n",
              "    background-color: var(--hover-bg-color);\n",
              "    box-shadow: 0 1px 2px rgba(60, 64, 67, 0.3), 0 1px 3px 1px rgba(60, 64, 67, 0.15);\n",
              "    fill: var(--button-hover-fill-color);\n",
              "  }\n",
              "\n",
              "  .colab-df-quickchart-complete:disabled,\n",
              "  .colab-df-quickchart-complete:disabled:hover {\n",
              "    background-color: var(--disabled-bg-color);\n",
              "    fill: var(--disabled-fill-color);\n",
              "    box-shadow: none;\n",
              "  }\n",
              "\n",
              "  .colab-df-spinner {\n",
              "    border: 2px solid var(--fill-color);\n",
              "    border-color: transparent;\n",
              "    border-bottom-color: var(--fill-color);\n",
              "    animation:\n",
              "      spin 1s steps(1) infinite;\n",
              "  }\n",
              "\n",
              "  @keyframes spin {\n",
              "    0% {\n",
              "      border-color: transparent;\n",
              "      border-bottom-color: var(--fill-color);\n",
              "      border-left-color: var(--fill-color);\n",
              "    }\n",
              "    20% {\n",
              "      border-color: transparent;\n",
              "      border-left-color: var(--fill-color);\n",
              "      border-top-color: var(--fill-color);\n",
              "    }\n",
              "    30% {\n",
              "      border-color: transparent;\n",
              "      border-left-color: var(--fill-color);\n",
              "      border-top-color: var(--fill-color);\n",
              "      border-right-color: var(--fill-color);\n",
              "    }\n",
              "    40% {\n",
              "      border-color: transparent;\n",
              "      border-right-color: var(--fill-color);\n",
              "      border-top-color: var(--fill-color);\n",
              "    }\n",
              "    60% {\n",
              "      border-color: transparent;\n",
              "      border-right-color: var(--fill-color);\n",
              "    }\n",
              "    80% {\n",
              "      border-color: transparent;\n",
              "      border-right-color: var(--fill-color);\n",
              "      border-bottom-color: var(--fill-color);\n",
              "    }\n",
              "    90% {\n",
              "      border-color: transparent;\n",
              "      border-bottom-color: var(--fill-color);\n",
              "    }\n",
              "  }\n",
              "</style>\n",
              "\n",
              "  <script>\n",
              "    async function quickchart(key) {\n",
              "      const quickchartButtonEl =\n",
              "        document.querySelector('#' + key + ' button');\n",
              "      quickchartButtonEl.disabled = true;  // To prevent multiple clicks.\n",
              "      quickchartButtonEl.classList.add('colab-df-spinner');\n",
              "      try {\n",
              "        const charts = await google.colab.kernel.invokeFunction(\n",
              "            'suggestCharts', [key], {});\n",
              "      } catch (error) {\n",
              "        console.error('Error during call to suggestCharts:', error);\n",
              "      }\n",
              "      quickchartButtonEl.classList.remove('colab-df-spinner');\n",
              "      quickchartButtonEl.classList.add('colab-df-quickchart-complete');\n",
              "    }\n",
              "    (() => {\n",
              "      let quickchartButtonEl =\n",
              "        document.querySelector('#df-ee5edf22-9f46-41a1-b1b7-c3d8b52b3753 button');\n",
              "      quickchartButtonEl.style.display =\n",
              "        google.colab.kernel.accessAllowed ? 'block' : 'none';\n",
              "    })();\n",
              "  </script>\n",
              "</div>\n",
              "\n",
              "    </div>\n",
              "  </div>\n"
            ],
            "application/vnd.google.colaboratory.intrinsic+json": {
              "type": "dataframe",
              "variable_name": "custom_data"
            }
          },
          "metadata": {},
          "execution_count": 191
        }
      ]
    },
    {
      "cell_type": "code",
      "source": [
        "# Ensure 'text' column contains strings\n",
        "custom_data['content'] = custom_data['content'].astype(str)\n",
        "\n",
        "# Replace NaN or missing values with empty strings\n",
        "custom_data['content'] = custom_data['content'].fillna('')"
      ],
      "metadata": {
        "id": "NvAuh1zK_2Ma"
      },
      "execution_count": 192,
      "outputs": []
    },
    {
      "cell_type": "code",
      "source": [
        "# Clean and preprocess the data\n",
        "def clean_text(text):\n",
        "    text = re.sub(r'\\d+', '', text)  # Remove digits\n",
        "    text = re.sub(r'[^\\w\\s]', '', text)  # Remove punctuation\n",
        "    text = re.sub(r'\\s+', ' ', text)  # Remove multiple spaces\n",
        "    text = text.lower().strip()  # Convert to lowercase and strip leading/trailing spaces\n",
        "    return text\n",
        "\n",
        "custom_data['content'] = custom_data['content'].apply(clean_text)\n"
      ],
      "metadata": {
        "id": "aeqx8x4hOP6x"
      },
      "execution_count": 193,
      "outputs": []
    },
    {
      "cell_type": "code",
      "source": [
        "# Separate data into '0' and '1' classes\n",
        "data_00 = custom_data[custom_data['label'] == 0]\n",
        "data_11 = custom_data[custom_data['label'] == 1]"
      ],
      "metadata": {
        "id": "T6I9nqO2Pbnc"
      },
      "execution_count": 194,
      "outputs": []
    },
    {
      "cell_type": "code",
      "source": [
        "from sklearn.utils import resample\n"
      ],
      "metadata": {
        "id": "c1C082L2QAkS"
      },
      "execution_count": 195,
      "outputs": []
    },
    {
      "cell_type": "code",
      "source": [
        "#Randomly oversample the minority class to match the majority class\n",
        "data_11_oversampled = resample(data_11,\n",
        "                             replace=True,    # Sample with replacement\n",
        "                            n_samples=len(data_00),  # Match number of majority class\n",
        "                           random_state=42)  # For reproducibility\n",
        "\n",
        "#Combine the majority class with the oversampled minority class\n",
        "data_balanced1 = pd.concat([data_00, data_11_oversampled])"
      ],
      "metadata": {
        "id": "cOopb_EjPkDD"
      },
      "execution_count": 196,
      "outputs": []
    },
    {
      "cell_type": "code",
      "source": [
        "# Shuffle the combined dataset to mix the samples\n",
        "data_balanced1 = data_balanced1.sample(frac=1, random_state=42).reset_index(drop=True)\n",
        "\n",
        "# Separate features and target\n",
        "x_balanced1 = data_balanced1.drop(columns=['label'])\n",
        "y_balanced1 = data_balanced1['label']"
      ],
      "metadata": {
        "id": "u_teNdt6P1p_"
      },
      "execution_count": 197,
      "outputs": []
    },
    {
      "cell_type": "code",
      "source": [
        "num_rows = x_balanced1.shape[0]\n",
        "print(f'Number of rows: {num_rows}')"
      ],
      "metadata": {
        "colab": {
          "base_uri": "https://localhost:8080/"
        },
        "id": "UCnyNsJmQUmR",
        "outputId": "0d521de5-b9af-4006-b7c0-fae53faab19f"
      },
      "execution_count": 198,
      "outputs": [
        {
          "output_type": "stream",
          "name": "stdout",
          "text": [
            "Number of rows: 1712\n"
          ]
        }
      ]
    },
    {
      "cell_type": "code",
      "source": [
        "data_balanced1['label'].value_counts()"
      ],
      "metadata": {
        "colab": {
          "base_uri": "https://localhost:8080/",
          "height": 178
        },
        "id": "3Vqt9a8wO5zz",
        "outputId": "327ffc0b-7788-4b2e-bf38-7dce79c73cd2"
      },
      "execution_count": 199,
      "outputs": [
        {
          "output_type": "execute_result",
          "data": {
            "text/plain": [
              "label\n",
              "0    856\n",
              "1    856\n",
              "Name: count, dtype: int64"
            ],
            "text/html": [
              "<div>\n",
              "<style scoped>\n",
              "    .dataframe tbody tr th:only-of-type {\n",
              "        vertical-align: middle;\n",
              "    }\n",
              "\n",
              "    .dataframe tbody tr th {\n",
              "        vertical-align: top;\n",
              "    }\n",
              "\n",
              "    .dataframe thead th {\n",
              "        text-align: right;\n",
              "    }\n",
              "</style>\n",
              "<table border=\"1\" class=\"dataframe\">\n",
              "  <thead>\n",
              "    <tr style=\"text-align: right;\">\n",
              "      <th></th>\n",
              "      <th>count</th>\n",
              "    </tr>\n",
              "    <tr>\n",
              "      <th>label</th>\n",
              "      <th></th>\n",
              "    </tr>\n",
              "  </thead>\n",
              "  <tbody>\n",
              "    <tr>\n",
              "      <th>0</th>\n",
              "      <td>856</td>\n",
              "    </tr>\n",
              "    <tr>\n",
              "      <th>1</th>\n",
              "      <td>856</td>\n",
              "    </tr>\n",
              "  </tbody>\n",
              "</table>\n",
              "</div><br><label><b>dtype:</b> int64</label>"
            ]
          },
          "metadata": {},
          "execution_count": 199
        }
      ]
    },
    {
      "cell_type": "code",
      "source": [
        "# Tokenizer and padding\n",
        "tokenizer1 = Tokenizer(num_words=max_words)\n",
        "tokenizer1.fit_on_texts(data_balanced1['content'])\n",
        "sequences1 = tokenizer1.texts_to_sequences(data_balanced1['content'])\n",
        "tweet_data1 = pad_sequences(sequences1, maxlen=max_seq_length)\n",
        "\n",
        "# Target variable\n",
        "target1 = y_balanced1.values"
      ],
      "metadata": {
        "id": "yIuXI5IYaDGv"
      },
      "execution_count": 200,
      "outputs": []
    },
    {
      "cell_type": "code",
      "source": [
        "from sklearn.model_selection import train_test_split\n",
        "\n",
        "# Train-test split\n",
        "X_train1, X_test1, y_train1, y_test1 = train_test_split(tweet_data1, target1, test_size=0.2, random_state=42)\n"
      ],
      "metadata": {
        "id": "E4feWP4GaORu"
      },
      "execution_count": 201,
      "outputs": []
    },
    {
      "cell_type": "code",
      "source": [
        "optimizer = tf.keras.optimizers.Adam(learning_rate=0.00001)"
      ],
      "metadata": {
        "id": "5SJyKOdRb4eT"
      },
      "execution_count": 202,
      "outputs": []
    },
    {
      "cell_type": "code",
      "source": [
        "from tensorflow.keras.callbacks import EarlyStopping\n",
        "\n",
        "# Compile the model (ensure it uses the same configuration as before)\n",
        "model2.compile(optimizer='adam', loss='mean_squared_error', metrics=['accuracy'])  # Change to a less suitable loss function\n",
        "\n",
        "# Train the model with custom data\n",
        "callbacks = [EarlyStopping(patience=2, monitor='val_loss', restore_best_weights=True)]\n",
        "history2 = model2.fit(X_train1, y_train1, epochs=10, batch_size=64,\n",
        "                    validation_split=0.2, callbacks=callbacks)\n"
      ],
      "metadata": {
        "colab": {
          "base_uri": "https://localhost:8080/"
        },
        "id": "3tQNiH3iaP_G",
        "outputId": "a07bc820-58d3-4678-dc14-1234e30b10d0"
      },
      "execution_count": 203,
      "outputs": [
        {
          "output_type": "stream",
          "name": "stdout",
          "text": [
            "Epoch 1/10\n",
            "\u001b[1m18/18\u001b[0m \u001b[32m━━━━━━━━━━━━━━━━━━━━\u001b[0m\u001b[37m\u001b[0m \u001b[1m5s\u001b[0m 127ms/step - accuracy: 0.6352 - loss: 0.2770 - val_accuracy: 0.8686 - val_loss: 0.0986\n",
            "Epoch 2/10\n",
            "\u001b[1m18/18\u001b[0m \u001b[32m━━━━━━━━━━━━━━━━━━━━\u001b[0m\u001b[37m\u001b[0m \u001b[1m2s\u001b[0m 138ms/step - accuracy: 0.9251 - loss: 0.0627 - val_accuracy: 0.9745 - val_loss: 0.0170\n",
            "Epoch 3/10\n",
            "\u001b[1m18/18\u001b[0m \u001b[32m━━━━━━━━━━━━━━━━━━━━\u001b[0m\u001b[37m\u001b[0m \u001b[1m4s\u001b[0m 240ms/step - accuracy: 0.9650 - loss: 0.0248 - val_accuracy: 0.9854 - val_loss: 0.0140\n",
            "Epoch 4/10\n",
            "\u001b[1m18/18\u001b[0m \u001b[32m━━━━━━━━━━━━━━━━━━━━\u001b[0m\u001b[37m\u001b[0m \u001b[1m2s\u001b[0m 106ms/step - accuracy: 0.9839 - loss: 0.0137 - val_accuracy: 0.9854 - val_loss: 0.0118\n",
            "Epoch 5/10\n",
            "\u001b[1m18/18\u001b[0m \u001b[32m━━━━━━━━━━━━━━━━━━━━\u001b[0m\u001b[37m\u001b[0m \u001b[1m3s\u001b[0m 116ms/step - accuracy: 0.9906 - loss: 0.0086 - val_accuracy: 0.9891 - val_loss: 0.0078\n",
            "Epoch 6/10\n",
            "\u001b[1m18/18\u001b[0m \u001b[32m━━━━━━━━━━━━━━━━━━━━\u001b[0m\u001b[37m\u001b[0m \u001b[1m2s\u001b[0m 109ms/step - accuracy: 0.9896 - loss: 0.0083 - val_accuracy: 0.9927 - val_loss: 0.0068\n",
            "Epoch 7/10\n",
            "\u001b[1m18/18\u001b[0m \u001b[32m━━━━━━━━━━━━━━━━━━━━\u001b[0m\u001b[37m\u001b[0m \u001b[1m2s\u001b[0m 115ms/step - accuracy: 0.9898 - loss: 0.0090 - val_accuracy: 0.9927 - val_loss: 0.0063\n",
            "Epoch 8/10\n",
            "\u001b[1m18/18\u001b[0m \u001b[32m━━━━━━━━━━━━━━━━━━━━\u001b[0m\u001b[37m\u001b[0m \u001b[1m4s\u001b[0m 208ms/step - accuracy: 0.9776 - loss: 0.0118 - val_accuracy: 0.9927 - val_loss: 0.0061\n",
            "Epoch 9/10\n",
            "\u001b[1m18/18\u001b[0m \u001b[32m━━━━━━━━━━━━━━━━━━━━\u001b[0m\u001b[37m\u001b[0m \u001b[1m3s\u001b[0m 108ms/step - accuracy: 0.9883 - loss: 0.0097 - val_accuracy: 0.9927 - val_loss: 0.0065\n",
            "Epoch 10/10\n",
            "\u001b[1m18/18\u001b[0m \u001b[32m━━━━━━━━━━━━━━━━━━━━\u001b[0m\u001b[37m\u001b[0m \u001b[1m2s\u001b[0m 112ms/step - accuracy: 0.9886 - loss: 0.0098 - val_accuracy: 0.9927 - val_loss: 0.0063\n"
          ]
        }
      ]
    },
    {
      "cell_type": "code",
      "source": [
        "from sklearn.metrics import confusion_matrix, classification_report\n",
        "import seaborn as sns\n",
        "import matplotlib.pyplot as plt\n",
        "\n",
        "# Evaluate the model\n",
        "loss, accuracy = model2.evaluate(X_test1, y_test1)\n",
        "print(f'Test Accuracy: {accuracy * 100:.2f}%')"
      ],
      "metadata": {
        "colab": {
          "base_uri": "https://localhost:8080/"
        },
        "id": "-Ku5eh67cGMS",
        "outputId": "9b352719-162b-4812-e78e-7adb4bdb5a2c"
      },
      "execution_count": 204,
      "outputs": [
        {
          "output_type": "stream",
          "name": "stdout",
          "text": [
            "\u001b[1m11/11\u001b[0m \u001b[32m━━━━━━━━━━━━━━━━━━━━\u001b[0m\u001b[37m\u001b[0m \u001b[1m0s\u001b[0m 18ms/step - accuracy: 0.9796 - loss: 0.0166\n",
            "Test Accuracy: 97.67%\n"
          ]
        }
      ]
    },
    {
      "cell_type": "code",
      "source": [
        "# Make predictions on the test set\n",
        "y_pred_prob1 = model2.predict(X_test1)\n",
        "y_pred1 = (y_pred_prob1 > 0.5).astype(int)\n",
        "\n",
        "# Generate the confusion matrix\n",
        "conf_matrix = confusion_matrix(y_test1, y_pred1)"
      ],
      "metadata": {
        "colab": {
          "base_uri": "https://localhost:8080/"
        },
        "id": "hKlcvc6pcZoU",
        "outputId": "07359f82-b9e0-4b17-d22f-ac7e2e71afd9"
      },
      "execution_count": 205,
      "outputs": [
        {
          "output_type": "stream",
          "name": "stdout",
          "text": [
            "\u001b[1m11/11\u001b[0m \u001b[32m━━━━━━━━━━━━━━━━━━━━\u001b[0m\u001b[37m\u001b[0m \u001b[1m1s\u001b[0m 43ms/step\n"
          ]
        }
      ]
    },
    {
      "cell_type": "code",
      "source": [
        "# Plot the confusion matrix\n",
        "plt.figure(figsize=(8, 6))\n",
        "sns.heatmap(conf_matrix, annot=True, fmt='d', cmap='Blues', xticklabels=['Negative', 'Positive'], yticklabels=['Negative', 'Positive'])\n",
        "plt.xlabel('Predicted Label')\n",
        "plt.ylabel('True Label')\n",
        "plt.title('Confusion Matrix')\n",
        "plt.show()\n",
        "\n",
        "# Print a classification report\n",
        "print(classification_report(y_test1, y_pred1, target_names=['Negative', 'Positive']))\n"
      ],
      "metadata": {
        "colab": {
          "base_uri": "https://localhost:8080/",
          "height": 720
        },
        "id": "zBpjTIn0cc7q",
        "outputId": "f0d520f3-2da9-4267-b453-da1db5d47b1e"
      },
      "execution_count": 206,
      "outputs": [
        {
          "output_type": "display_data",
          "data": {
            "text/plain": [
              "<Figure size 800x600 with 2 Axes>"
            ],
            "image/png": "[encoded data removed]"
          },
          "metadata": {}
        },
        {
          "output_type": "stream",
          "name": "stdout",
          "text": [
            "              precision    recall  f1-score   support\n",
            "\n",
            "    Negative       0.97      0.99      0.98       173\n",
            "    Positive       0.99      0.96      0.98       170\n",
            "\n",
            "    accuracy                           0.98       343\n",
            "   macro avg       0.98      0.98      0.98       343\n",
            "weighted avg       0.98      0.98      0.98       343\n",
            "\n"
          ]
        }
      ]
    },
    {
      "cell_type": "code",
      "source": [
        "# Save the retrained model\n",
        "model2.save('verity_function3_retrained.h5')"
      ],
      "metadata": {
        "colab": {
          "base_uri": "https://localhost:8080/"
        },
        "id": "tGcE-gxPbYwM",
        "outputId": "94810386-46b4-4038-ff65-2d0156f01ad1"
      },
      "execution_count": 208,
      "outputs": [
        {
          "output_type": "stream",
          "name": "stderr",
          "text": [
            "WARNING:absl:You are saving your model as an HDF5 file via `model.save()` or `keras.saving.save_model(model)`. This file format is considered legacy. We recommend using instead the native Keras format, e.g. `model.save('my_model.keras')` or `keras.saving.save_model(model, 'my_model.keras')`. \n"
          ]
        }
      ]
    },
    {
      "cell_type": "code",
      "source": [],
      "metadata": {
        "id": "jbcyQKqYdLM3"
      },
      "execution_count": 207,
      "outputs": []
    }
  ]
}