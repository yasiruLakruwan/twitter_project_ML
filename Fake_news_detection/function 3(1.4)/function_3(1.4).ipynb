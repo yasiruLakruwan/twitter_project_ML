{
  "cells": [
    {
      "cell_type": "code",
      "execution_count": 17,
      "metadata": {
        "id": "shn67fCAVej7"
      },
      "outputs": [],
      "source": [
        "import pandas as pd\n",
        "import numpy as np\n",
        "from matplotlib import pyplot as plt\n",
        "import seaborn as sns\n",
        "from sklearn.preprocessing import StandardScaler\n",
        "from sklearn.model_selection import train_test_split\n",
        "from tensorflow.keras.preprocessing.text import Tokenizer\n",
        "from tensorflow.keras.preprocessing.sequence import pad_sequences\n",
        "from tensorflow.keras.models import Model\n",
        "from tensorflow.keras.layers import Input, Embedding, LSTM, Dense, Dropout, concatenate, BatchNormalization\n",
        "from tensorflow.keras.utils import to_categorical\n",
        "from tensorflow.keras.callbacks import EarlyStopping\n",
        "from tensorflow.keras.regularizers import l2\n",
        "import requests\n",
        "import tensorflow as tf\n"
      ]
    },
    {
      "cell_type": "code",
      "execution_count": 18,
      "metadata": {
        "id": "Hl5ZxM8BVrZ9"
      },
      "outputs": [],
      "source": [
        "# Load and preprocess the data\n",
        "data = pd.read_csv('/content/drive/MyDrive/Truth seek/Features_For_Traditional_ML_Techniques.csv')\n",
        "data = data.drop(columns=['Unnamed: 0', 'majority_target', 'statement', 'embeddings'])"
      ]
    },
    {
      "cell_type": "code",
      "execution_count": 19,
      "metadata": {
        "colab": {
          "base_uri": "https://localhost:8080/",
          "height": 472
        },
        "id": "lVVTEXl0V2cb",
        "outputId": "0c28afab-27bd-46bb-da68-efd627e95001"
      },
      "outputs": [
        {
          "output_type": "display_data",
          "data": {
            "text/plain": [
              "<Figure size 640x480 with 1 Axes>"
            ],
            "image/png": "[encoded data removed]"
          },
          "metadata": {}
        }
      ],
      "source": [
        "# Plot target variable distribution\n",
        "sns.countplot(x='BinaryNumTarget', data=data)\n",
        "plt.xlabel('BinaryNumTarget')\n",
        "plt.ylabel('Count')\n",
        "plt.title('Distribution of BinaryNumTarget')\n",
        "plt.show()"
      ]
    },
    {
      "cell_type": "code",
      "execution_count": 20,
      "metadata": {
        "colab": {
          "base_uri": "https://localhost:8080/",
          "height": 178
        },
        "id": "TnddqbuD-emh",
        "outputId": "f0e959c4-2649-4d81-cbe8-6de56ec095b9"
      },
      "outputs": [
        {
          "output_type": "execute_result",
          "data": {
            "text/plain": [
              "BinaryNumTarget\n",
              "1.0    68930\n",
              "0.0    65268\n",
              "Name: count, dtype: int64"
            ],
            "text/html": [
              "<div>\n",
              "<style scoped>\n",
              "    .dataframe tbody tr th:only-of-type {\n",
              "        vertical-align: middle;\n",
              "    }\n",
              "\n",
              "    .dataframe tbody tr th {\n",
              "        vertical-align: top;\n",
              "    }\n",
              "\n",
              "    .dataframe thead th {\n",
              "        text-align: right;\n",
              "    }\n",
              "</style>\n",
              "<table border=\"1\" class=\"dataframe\">\n",
              "  <thead>\n",
              "    <tr style=\"text-align: right;\">\n",
              "      <th></th>\n",
              "      <th>count</th>\n",
              "    </tr>\n",
              "    <tr>\n",
              "      <th>BinaryNumTarget</th>\n",
              "      <th></th>\n",
              "    </tr>\n",
              "  </thead>\n",
              "  <tbody>\n",
              "    <tr>\n",
              "      <th>1.0</th>\n",
              "      <td>68930</td>\n",
              "    </tr>\n",
              "    <tr>\n",
              "      <th>0.0</th>\n",
              "      <td>65268</td>\n",
              "    </tr>\n",
              "  </tbody>\n",
              "</table>\n",
              "</div><br><label><b>dtype:</b> int64</label>"
            ]
          },
          "metadata": {},
          "execution_count": 20
        }
      ],
      "source": [
        "data['BinaryNumTarget'].value_counts()"
      ]
    },
    {
      "cell_type": "code",
      "execution_count": 21,
      "metadata": {
        "id": "6P3dz_RQEJsK"
      },
      "outputs": [],
      "source": [
        "# Separate majority and minority classes\n",
        "df_majority = data[data['BinaryNumTarget'] == 0]\n",
        "df_minority = data[data['BinaryNumTarget'] == 1]"
      ]
    },
    {
      "cell_type": "code",
      "execution_count": 22,
      "metadata": {
        "id": "MD2lK-GkEMyp"
      },
      "outputs": [],
      "source": [
        "# If the minority class is larger than the majority class, swap them\n",
        "if len(df_minority) > len(df_majority):\n",
        "    df_majority, df_minority = df_minority, df_majority"
      ]
    },
    {
      "cell_type": "code",
      "source": [
        "from sklearn.utils import resample\n"
      ],
      "metadata": {
        "id": "-Ra0sFO_2Xhg"
      },
      "execution_count": 23,
      "outputs": []
    },
    {
      "cell_type": "code",
      "execution_count": 24,
      "metadata": {
        "id": "DWGSBNpLEnqT"
      },
      "outputs": [],
      "source": [
        "# Undersample the majority class to the size of the minority class\n",
        "df_majority_downsampled = resample(df_majority,\n",
        "                                   replace=False,  # sample without replacement\n",
        "                                   n_samples=min(len(df_majority), len(df_minority)),  # use the size of the smaller class\n",
        "                                   random_state=42)  # reproducible results"
      ]
    },
    {
      "cell_type": "code",
      "execution_count": 25,
      "metadata": {
        "id": "KKSBWllsErC6"
      },
      "outputs": [],
      "source": [
        "# Combine the downsampled majority class with the minority class\n",
        "data = pd.concat([df_majority_downsampled, df_minority])"
      ]
    },
    {
      "cell_type": "code",
      "execution_count": 26,
      "metadata": {
        "id": "CeEvGVfVEwjT"
      },
      "outputs": [],
      "source": [
        "# Shuffle the dataset to mix the majority and minority classes\n",
        "data = data.sample(frac=1, random_state=42).reset_index(drop=True)"
      ]
    },
    {
      "cell_type": "code",
      "execution_count": 27,
      "metadata": {
        "colab": {
          "base_uri": "https://localhost:8080/",
          "height": 541
        },
        "id": "oDYfyiQ9E4-R",
        "outputId": "331526d1-1bb0-419d-dd94-0e403dd4a646"
      },
      "outputs": [
        {
          "output_type": "display_data",
          "data": {
            "text/plain": [
              "<Figure size 640x480 with 1 Axes>"
            ],
            "image/png": "[encoded data removed]"
          },
          "metadata": {}
        },
        {
          "output_type": "stream",
          "name": "stdout",
          "text": [
            "BinaryNumTarget\n",
            "1.0    65268\n",
            "0.0    65268\n",
            "Name: count, dtype: int64\n"
          ]
        }
      ],
      "source": [
        "# Plot the new target variable distribution\n",
        "sns.countplot(x='BinaryNumTarget', data=data)\n",
        "plt.xlabel('BinaryNumTarget')\n",
        "plt.ylabel('Count')\n",
        "plt.title('Distribution of BinaryNumTarget After Undersampling')\n",
        "plt.show()\n",
        "\n",
        "# Check the distribution\n",
        "print(data['BinaryNumTarget'].value_counts())"
      ]
    },
    {
      "cell_type": "code",
      "execution_count": 28,
      "metadata": {
        "id": "AMVTlRptV_pT"
      },
      "outputs": [],
      "source": [
        "# Prepare tweet data for model\n",
        "max_words = 1000  # Max number of words to keep in Tokenizer\n",
        "max_seq_length = 100  # Max sequence length for padding\n"
      ]
    },
    {
      "cell_type": "code",
      "execution_count": 29,
      "metadata": {
        "id": "RCV3lduJnMg8"
      },
      "outputs": [],
      "source": [
        "import re\n",
        "\n",
        "def clean_text(text):\n",
        "    text = re.sub(r'\\d+', '', text)  # Remove digits\n",
        "    text = re.sub(r'[^\\w\\s]', '', text)  # Remove punctuation\n",
        "    text = re.sub(r'\\s+', ' ', text)  # Remove multiple spaces\n",
        "    text = text.lower().strip()  # Convert to lowercase and strip leading/trailing spaces\n",
        "    return text\n",
        "\n",
        "data['tweet'] = data['tweet'].apply(clean_text)\n"
      ]
    },
    {
      "cell_type": "code",
      "execution_count": 30,
      "metadata": {
        "id": "MebxfSFwWCsy"
      },
      "outputs": [],
      "source": [
        "tokenizer = Tokenizer(num_words=max_words)\n",
        "tokenizer.fit_on_texts(data['tweet'])\n",
        "sequences = tokenizer.texts_to_sequences(data['tweet'])\n",
        "word_index = tokenizer.word_index\n",
        "\n",
        "tweet_data = pad_sequences(sequences, maxlen=max_seq_length)"
      ]
    },
    {
      "cell_type": "code",
      "execution_count": 31,
      "metadata": {
        "id": "e7FIn6wnaLEM"
      },
      "outputs": [],
      "source": [
        "# Target variable\n",
        "target = data['BinaryNumTarget'].values"
      ]
    },
    {
      "cell_type": "code",
      "execution_count": 32,
      "metadata": {
        "id": "sDQeny-VWE5z"
      },
      "outputs": [],
      "source": [
        "# Train-test split\n",
        "X_train, X_test, y_train, y_test = train_test_split(tweet_data, target, test_size=0.2, random_state=42)"
      ]
    },
    {
      "cell_type": "code",
      "execution_count": 33,
      "metadata": {
        "id": "4EndmI8DWPJT"
      },
      "outputs": [],
      "source": [
        "# RNN Model Architecture\n",
        "text_input = Input(shape=(max_seq_length,))\n",
        "embedding_layer = Embedding(max_words, 100)(text_input)\n",
        "lstm_layer = LSTM(64, return_sequences=False)(embedding_layer)\n",
        "lstm_layer = Dropout(0.5)(lstm_layer)\n",
        "dense_layer = Dense(64, activation='relu')(lstm_layer)\n",
        "dense_layer = Dropout(0.5)(dense_layer)\n",
        "output_layer = Dense(1, activation='sigmoid')(lstm_layer)"
      ]
    },
    {
      "cell_type": "code",
      "execution_count": 34,
      "metadata": {
        "id": "iq9gqk9e-xsX"
      },
      "outputs": [],
      "source": [
        "optimizer = tf.keras.optimizers.AdamW(learning_rate=0.0001)"
      ]
    },
    {
      "cell_type": "code",
      "execution_count": 35,
      "metadata": {
        "id": "KF-L1FdVXdeD"
      },
      "outputs": [],
      "source": [
        "model = Model(inputs=text_input, outputs=output_layer)\n",
        "model.compile(optimizer=optimizer, loss='binary_crossentropy', metrics=['accuracy'])"
      ]
    },
    {
      "cell_type": "code",
      "execution_count": 36,
      "metadata": {
        "colab": {
          "base_uri": "https://localhost:8080/"
        },
        "id": "BoK5pit8aVfj",
        "outputId": "d4d35f16-9ac9-4ad6-f51e-7c8bf9f6eb4c"
      },
      "outputs": [
        {
          "output_type": "stream",
          "name": "stdout",
          "text": [
            "Epoch 1/70\n",
            "\u001b[1m2611/2611\u001b[0m \u001b[32m━━━━━━━━━━━━━━━━━━━━\u001b[0m\u001b[37m\u001b[0m \u001b[1m198s\u001b[0m 73ms/step - accuracy: 0.7559 - loss: 0.4681 - val_accuracy: 0.9204 - val_loss: 0.2136\n",
            "Epoch 2/70\n",
            "\u001b[1m2611/2611\u001b[0m \u001b[32m━━━━━━━━━━━━━━━━━━━━\u001b[0m\u001b[37m\u001b[0m \u001b[1m201s\u001b[0m 73ms/step - accuracy: 0.9243 - loss: 0.2084 - val_accuracy: 0.9264 - val_loss: 0.1953\n",
            "Epoch 3/70\n",
            "\u001b[1m2611/2611\u001b[0m \u001b[32m━━━━━━━━━━━━━━━━━━━━\u001b[0m\u001b[37m\u001b[0m \u001b[1m195s\u001b[0m 70ms/step - accuracy: 0.9326 - loss: 0.1895 - val_accuracy: 0.9223 - val_loss: 0.2029\n",
            "Epoch 4/70\n",
            "\u001b[1m2611/2611\u001b[0m \u001b[32m━━━━━━━━━━━━━━━━━━━━\u001b[0m\u001b[37m\u001b[0m \u001b[1m202s\u001b[0m 70ms/step - accuracy: 0.9324 - loss: 0.1843 - val_accuracy: 0.9299 - val_loss: 0.1880\n",
            "Epoch 5/70\n",
            "\u001b[1m2611/2611\u001b[0m \u001b[32m━━━━━━━━━━━━━━━━━━━━\u001b[0m\u001b[37m\u001b[0m \u001b[1m189s\u001b[0m 72ms/step - accuracy: 0.9335 - loss: 0.1811 - val_accuracy: 0.9267 - val_loss: 0.1918\n",
            "Epoch 6/70\n",
            "\u001b[1m2611/2611\u001b[0m \u001b[32m━━━━━━━━━━━━━━━━━━━━\u001b[0m\u001b[37m\u001b[0m \u001b[1m193s\u001b[0m 74ms/step - accuracy: 0.9346 - loss: 0.1749 - val_accuracy: 0.9270 - val_loss: 0.1896\n",
            "Epoch 7/70\n",
            "\u001b[1m2611/2611\u001b[0m \u001b[32m━━━━━━━━━━━━━━━━━━━━\u001b[0m\u001b[37m\u001b[0m \u001b[1m195s\u001b[0m 75ms/step - accuracy: 0.9345 - loss: 0.1739 - val_accuracy: 0.9306 - val_loss: 0.1835\n",
            "Epoch 8/70\n",
            "\u001b[1m2611/2611\u001b[0m \u001b[32m━━━━━━━━━━━━━━━━━━━━\u001b[0m\u001b[37m\u001b[0m \u001b[1m192s\u001b[0m 71ms/step - accuracy: 0.9367 - loss: 0.1666 - val_accuracy: 0.9316 - val_loss: 0.1805\n",
            "Epoch 9/70\n",
            "\u001b[1m2611/2611\u001b[0m \u001b[32m━━━━━━━━━━━━━━━━━━━━\u001b[0m\u001b[37m\u001b[0m \u001b[1m200s\u001b[0m 70ms/step - accuracy: 0.9387 - loss: 0.1635 - val_accuracy: 0.9285 - val_loss: 0.1868\n",
            "Epoch 10/70\n",
            "\u001b[1m2611/2611\u001b[0m \u001b[32m━━━━━━━━━━━━━━━━━━━━\u001b[0m\u001b[37m\u001b[0m \u001b[1m203s\u001b[0m 70ms/step - accuracy: 0.9396 - loss: 0.1605 - val_accuracy: 0.9333 - val_loss: 0.1793\n",
            "Epoch 11/70\n",
            "\u001b[1m2611/2611\u001b[0m \u001b[32m━━━━━━━━━━━━━━━━━━━━\u001b[0m\u001b[37m\u001b[0m \u001b[1m200s\u001b[0m 70ms/step - accuracy: 0.9411 - loss: 0.1535 - val_accuracy: 0.9334 - val_loss: 0.1763\n",
            "Epoch 12/70\n",
            "\u001b[1m2611/2611\u001b[0m \u001b[32m━━━━━━━━━━━━━━━━━━━━\u001b[0m\u001b[37m\u001b[0m \u001b[1m204s\u001b[0m 71ms/step - accuracy: 0.9425 - loss: 0.1521 - val_accuracy: 0.9337 - val_loss: 0.1829\n",
            "Epoch 13/70\n",
            "\u001b[1m2611/2611\u001b[0m \u001b[32m━━━━━━━━━━━━━━━━━━━━\u001b[0m\u001b[37m\u001b[0m \u001b[1m201s\u001b[0m 70ms/step - accuracy: 0.9415 - loss: 0.1513 - val_accuracy: 0.9342 - val_loss: 0.1733\n",
            "Epoch 14/70\n",
            "\u001b[1m2611/2611\u001b[0m \u001b[32m━━━━━━━━━━━━━━━━━━━━\u001b[0m\u001b[37m\u001b[0m \u001b[1m200s\u001b[0m 70ms/step - accuracy: 0.9456 - loss: 0.1435 - val_accuracy: 0.9335 - val_loss: 0.1737\n",
            "Epoch 15/70\n",
            "\u001b[1m2611/2611\u001b[0m \u001b[32m━━━━━━━━━━━━━━━━━━━━\u001b[0m\u001b[37m\u001b[0m \u001b[1m184s\u001b[0m 70ms/step - accuracy: 0.9438 - loss: 0.1441 - val_accuracy: 0.9319 - val_loss: 0.1856\n",
            "Epoch 16/70\n",
            "\u001b[1m2611/2611\u001b[0m \u001b[32m━━━━━━━━━━━━━━━━━━━━\u001b[0m\u001b[37m\u001b[0m \u001b[1m188s\u001b[0m 72ms/step - accuracy: 0.9447 - loss: 0.1408 - val_accuracy: 0.9350 - val_loss: 0.1723\n",
            "Epoch 17/70\n",
            "\u001b[1m2611/2611\u001b[0m \u001b[32m━━━━━━━━━━━━━━━━━━━━\u001b[0m\u001b[37m\u001b[0m \u001b[1m187s\u001b[0m 71ms/step - accuracy: 0.9469 - loss: 0.1347 - val_accuracy: 0.9357 - val_loss: 0.1712\n",
            "Epoch 18/70\n",
            "\u001b[1m2611/2611\u001b[0m \u001b[32m━━━━━━━━━━━━━━━━━━━━\u001b[0m\u001b[37m\u001b[0m \u001b[1m187s\u001b[0m 72ms/step - accuracy: 0.9467 - loss: 0.1332 - val_accuracy: 0.9345 - val_loss: 0.1728\n",
            "Epoch 19/70\n",
            "\u001b[1m2611/2611\u001b[0m \u001b[32m━━━━━━━━━━━━━━━━━━━━\u001b[0m\u001b[37m\u001b[0m \u001b[1m201s\u001b[0m 71ms/step - accuracy: 0.9491 - loss: 0.1291 - val_accuracy: 0.9356 - val_loss: 0.1744\n",
            "Epoch 20/70\n",
            "\u001b[1m2611/2611\u001b[0m \u001b[32m━━━━━━━━━━━━━━━━━━━━\u001b[0m\u001b[37m\u001b[0m \u001b[1m190s\u001b[0m 73ms/step - accuracy: 0.9507 - loss: 0.1242 - val_accuracy: 0.9352 - val_loss: 0.1762\n"
          ]
        }
      ],
      "source": [
        "# Model Training\n",
        "callbacks = [EarlyStopping(patience=3, monitor='val_loss', restore_best_weights=True)]\n",
        "history = model.fit(X_train, y_train, epochs=70, batch_size=32,\n",
        "                    validation_split=0.2, callbacks=callbacks)\n"
      ]
    },
    {
      "cell_type": "code",
      "execution_count": 37,
      "metadata": {
        "id": "bdiTibdFaXSD",
        "colab": {
          "base_uri": "https://localhost:8080/"
        },
        "outputId": "47e73f2b-a307-4f7a-e329-332017f38ec5"
      },
      "outputs": [
        {
          "output_type": "stream",
          "name": "stdout",
          "text": [
            "Validation Accuracy for each epoch:\n",
            "Epoch 1: 0.9204\n",
            "Epoch 2: 0.9264\n",
            "Epoch 3: 0.9223\n",
            "Epoch 4: 0.9299\n",
            "Epoch 5: 0.9267\n",
            "Epoch 6: 0.9270\n",
            "Epoch 7: 0.9306\n",
            "Epoch 8: 0.9316\n",
            "Epoch 9: 0.9285\n",
            "Epoch 10: 0.9333\n",
            "Epoch 11: 0.9334\n",
            "Epoch 12: 0.9337\n",
            "Epoch 13: 0.9342\n",
            "Epoch 14: 0.9335\n",
            "Epoch 15: 0.9319\n",
            "Epoch 16: 0.9350\n",
            "Epoch 17: 0.9357\n",
            "Epoch 18: 0.9345\n",
            "Epoch 19: 0.9356\n",
            "Epoch 20: 0.9352\n",
            "Final Validation Accuracy: 0.9352\n",
            "\u001b[1m816/816\u001b[0m \u001b[32m━━━━━━━━━━━━━━━━━━━━\u001b[0m\u001b[37m\u001b[0m \u001b[1m15s\u001b[0m 19ms/step - accuracy: 0.9354 - loss: 0.1683\n",
            "Test Accuracy: 93.42%\n"
          ]
        }
      ],
      "source": [
        "# Print validation accuracy for each epoch\n",
        "val_accuracy = history.history['val_accuracy']\n",
        "print(\"Validation Accuracy for each epoch:\")\n",
        "for epoch, accuracy in enumerate(val_accuracy, 1):\n",
        "    print(f\"Epoch {epoch}: {accuracy:.4f}\")\n",
        "\n",
        "# Print final validation accuracy\n",
        "final_val_accuracy = val_accuracy[-1]\n",
        "print(f'Final Validation Accuracy: {final_val_accuracy:.4f}')\n",
        "\n",
        "# Evaluate the model\n",
        "loss, accuracy = model.evaluate(X_test, y_test)\n",
        "print(f'Test Accuracy: {accuracy * 100:.2f}%')"
      ]
    },
    {
      "cell_type": "code",
      "execution_count": 38,
      "metadata": {
        "id": "nYq5t9yGaafq"
      },
      "outputs": [],
      "source": [
        "# Define the function to get relevant news URLs\n",
        "def get_relevant_urls(tweet_text):\n",
        "    api_key = '06cba0dcd3d84dc3bc34aac90e62ba89'  # Replace with your actual NewsAPI.org API key\n",
        "    url = f'https://newsapi.org/v2/everything?q={tweet_text}&sortBy=relevancy&apiKey={api_key}'\n",
        "\n",
        "    response = requests.get(url)\n",
        "    response_data = response.json()\n",
        "\n",
        "    try:\n",
        "        articles = response_data['articles']\n",
        "    except KeyError:\n",
        "        print(\"Error: The 'articles' key was not found in the API response.\")\n",
        "        return []\n",
        "\n",
        "    urls = [article.get('url', '') for article in articles]\n",
        "    return urls"
      ]
    },
    {
      "cell_type": "code",
      "execution_count": 39,
      "metadata": {
        "id": "KUIAMTUAl595"
      },
      "outputs": [],
      "source": [
        "# Example for new texts\n",
        "new_texts = [\n",
        "  \"Sri Lanka faces a crucial challenge as they head into the second Test against England on Thursday at Lord’s, a venue that has often served as an unlikely home away from home for the visiting side.\"\n",
        " ]"
      ]
    },
    {
      "cell_type": "code",
      "execution_count": 40,
      "metadata": {
        "id": "jsHzBI-Rl6WZ"
      },
      "outputs": [],
      "source": [
        "# Preprocess the new texts\n",
        "new_sequences = tokenizer.texts_to_sequences(new_texts)\n",
        "new_data = pad_sequences(new_sequences, maxlen=max_seq_length)"
      ]
    },
    {
      "cell_type": "code",
      "execution_count": 41,
      "metadata": {
        "id": "9xj44sVPl8T2",
        "colab": {
          "base_uri": "https://localhost:8080/"
        },
        "outputId": "020a09cc-3d5b-4974-8b05-9f1a00b2773e"
      },
      "outputs": [
        {
          "output_type": "stream",
          "name": "stdout",
          "text": [
            "\u001b[1m1/1\u001b[0m \u001b[32m━━━━━━━━━━━━━━━━━━━━\u001b[0m\u001b[37m\u001b[0m \u001b[1m0s\u001b[0m 287ms/step\n"
          ]
        }
      ],
      "source": [
        "# Get predictions and news URLs\n",
        "new_predictions = model.predict(new_data)\n",
        "predicted_classes = (new_predictions > 0.5).astype(int)"
      ]
    },
    {
      "cell_type": "code",
      "execution_count": 42,
      "metadata": {
        "id": "nphBS3J6l-jg",
        "colab": {
          "base_uri": "https://localhost:8080/"
        },
        "outputId": "74a0e8d8-44d2-400f-e271-eb946ebc7e05"
      },
      "outputs": [
        {
          "output_type": "stream",
          "name": "stdout",
          "text": [
            "Tweet: Sri Lanka faces a crucial challenge as they head into the second Test against England on Thursday at Lord’s, a venue that has often served as an unlikely home away from home for the visiting side.\n",
            "Prediction: Negative\n",
            "Relevant News URLs: []\n",
            "\n"
          ]
        }
      ],
      "source": [
        "for text, prediction in zip(new_texts, predicted_classes):\n",
        "    print(f\"Tweet: {text}\")\n",
        "    print(f\"Prediction: {'Positive' if prediction == 1 else 'Negative'}\")\n",
        "    urls = get_relevant_urls(text)\n",
        "    print(f\"Relevant News URLs: {urls}\")\n",
        "    print()"
      ]
    },
    {
      "cell_type": "code",
      "execution_count": 43,
      "metadata": {
        "id": "zgkaDzKImAwg",
        "colab": {
          "base_uri": "https://localhost:8080/",
          "height": 455
        },
        "outputId": "aa928bbd-b23e-4780-ff5e-9cbd7b33a24c"
      },
      "outputs": [
        {
          "output_type": "display_data",
          "data": {
            "text/plain": [
              "<Figure size 1200x500 with 2 Axes>"
            ],
            "image/png": "[encoded data removed]"
          },
          "metadata": {}
        }
      ],
      "source": [
        "import matplotlib.pyplot as plt\n",
        "\n",
        "plt.figure(figsize=(12, 5))\n",
        "plt.subplot(1, 2, 1)\n",
        "plt.plot(history.history['accuracy'])\n",
        "plt.plot(history.history['val_accuracy'])\n",
        "plt.title('Model Accuracy')\n",
        "plt.ylabel('Accuracy')\n",
        "plt.xlabel('Epoch')\n",
        "plt.legend(['Train', 'Validation'], loc='upper left')\n",
        "\n",
        "plt.subplot(1, 2, 2)\n",
        "plt.plot(history.history['loss'])\n",
        "plt.plot(history.history['val_loss'])\n",
        "plt.title('Model Loss')\n",
        "plt.ylabel('Loss')\n",
        "plt.xlabel('Epoch')\n",
        "plt.legend(['Train', 'Validation'], loc='upper left')\n",
        "\n",
        "plt.show()"
      ]
    },
    {
      "cell_type": "code",
      "execution_count": 44,
      "metadata": {
        "id": "HiOAaDLQmwch",
        "colab": {
          "base_uri": "https://localhost:8080/",
          "height": 738
        },
        "outputId": "5cea4103-78fe-4546-d7f9-95b12766cef1"
      },
      "outputs": [
        {
          "output_type": "stream",
          "name": "stdout",
          "text": [
            "\u001b[1m816/816\u001b[0m \u001b[32m━━━━━━━━━━━━━━━━━━━━\u001b[0m\u001b[37m\u001b[0m \u001b[1m15s\u001b[0m 18ms/step\n"
          ]
        },
        {
          "output_type": "display_data",
          "data": {
            "text/plain": [
              "<Figure size 800x600 with 2 Axes>"
            ],
            "image/png": "[encoded data removed]"
          },
          "metadata": {}
        },
        {
          "output_type": "stream",
          "name": "stdout",
          "text": [
            "              precision    recall  f1-score   support\n",
            "\n",
            "    Negative       0.94      0.92      0.93     13175\n",
            "    Positive       0.92      0.94      0.93     12933\n",
            "\n",
            "    accuracy                           0.93     26108\n",
            "   macro avg       0.93      0.93      0.93     26108\n",
            "weighted avg       0.93      0.93      0.93     26108\n",
            "\n"
          ]
        }
      ],
      "source": [
        "from sklearn.metrics import confusion_matrix, classification_report\n",
        "import seaborn as sns\n",
        "import matplotlib.pyplot as plt\n",
        "\n",
        "# Step 1: Make predictions on the test set\n",
        "y_pred_prob = model.predict(X_test)\n",
        "\n",
        "# Step 2: Convert probabilities to binary labels\n",
        "y_pred = (y_pred_prob > 0.5).astype(int)\n",
        "\n",
        "# Step 3: Generate the confusion matrix\n",
        "conf_matrix = confusion_matrix(y_test, y_pred)\n",
        "\n",
        "# Step 4: Plot the confusion matrix\n",
        "plt.figure(figsize=(8, 6))\n",
        "sns.heatmap(conf_matrix, annot=True, fmt='d', cmap='Blues', xticklabels=['Negative', 'Positive'], yticklabels=['Negative', 'Positive'])\n",
        "plt.xlabel('Predicted Label')\n",
        "plt.ylabel('True Label')\n",
        "plt.title('Confusion Matrix')\n",
        "plt.show()\n",
        "\n",
        "# Optional: Print a classification report for detailed metrics\n",
        "print(classification_report(y_test, y_pred, target_names=['Negative', 'Positive']))\n"
      ]
    },
    {
      "cell_type": "code",
      "execution_count": 45,
      "metadata": {
        "id": "4jdoagZxv2GA",
        "colab": {
          "base_uri": "https://localhost:8080/"
        },
        "outputId": "34a8b1af-5bd8-4098-bbb7-d570927eed51"
      },
      "outputs": [
        {
          "output_type": "stream",
          "name": "stderr",
          "text": [
            "WARNING:absl:You are saving your model as an HDF5 file via `model.save()` or `keras.saving.save_model(model)`. This file format is considered legacy. We recommend using instead the native Keras format, e.g. `model.save('my_model.keras')` or `keras.saving.save_model(model, 'my_model.keras')`. \n"
          ]
        }
      ],
      "source": [
        "model.save('verity_function3.h5')\n"
      ]
    },
    {
      "cell_type": "markdown",
      "metadata": {
        "id": "MXvT82CfGiKX"
      },
      "source": [
        "Re training process"
      ]
    },
    {
      "cell_type": "code",
      "execution_count": 46,
      "metadata": {
        "id": "i1FR6lBqFiBT",
        "colab": {
          "base_uri": "https://localhost:8080/"
        },
        "outputId": "8a65c1bb-5044-46c8-f543-09bec8234b30"
      },
      "outputs": [
        {
          "output_type": "stream",
          "name": "stderr",
          "text": [
            "WARNING:absl:Compiled the loaded model, but the compiled metrics have yet to be built. `model.compile_metrics` will be empty until you train or evaluate the model.\n"
          ]
        }
      ],
      "source": [
        "from tensorflow.keras.models import load_model\n",
        "\n",
        "# Load the saved model\n",
        "model2 = load_model('/content/verity_function3.h5')\n"
      ]
    },
    {
      "cell_type": "code",
      "execution_count": 47,
      "metadata": {
        "id": "7UgnjZCBFpX6",
        "colab": {
          "base_uri": "https://localhost:8080/",
          "height": 672
        },
        "outputId": "f4a39d75-53c0-4cf6-dc75-383f183cc3fb"
      },
      "outputs": [
        {
          "output_type": "execute_result",
          "data": {
            "text/plain": [
              "                                             heading  \\\n",
              "0  New largest dinosaur species found in Australi...   \n",
              "1  SAITM issue: President to discuss with stakeho...   \n",
              "2  Intern’l responsibilities crucial for developm...   \n",
              "3        Five remanded over assault on Sri Lankan HC   \n",
              "4     Banners with LTTE chief's pic land duo in jail   \n",
              "\n",
              "                                             content  label  Word count  \\\n",
              "0  Scientists in Australia lack declassify a old ...      1       379.0   \n",
              "1  President Maithripala Sirisena disinherit summ...      1       117.0   \n",
              "2  Norwegian Prime Minister Erna Solberg said tod...      1       251.0   \n",
              "3  Five people , who differ arrested for allegedl...      1       126.0   \n",
              "4  Two nonmember of a fringe Tamil nationalist pa...      1       169.0   \n",
              "\n",
              "   Max word length  Min word length  Average word length  present_verbs  \\\n",
              "0             16.0              1.0             5.242744           47.0   \n",
              "1             20.0              1.0             5.683761           22.0   \n",
              "2             16.0              1.0             5.840637           38.0   \n",
              "3             14.0              1.0             5.214286           17.0   \n",
              "4             12.0              1.0             5.313609           23.0   \n",
              "\n",
              "   past_verbs  adjectives  ...     PERSON   ORDINAL       TIME      NORP  \\\n",
              "0         0.0        40.0  ...   5.405405  2.702703        NaN       NaN   \n",
              "1         0.0         6.0  ...  25.000000       NaN  12.500000       NaN   \n",
              "2         0.0        27.0  ...  25.000000       NaN        NaN  5.000000   \n",
              "3         0.0         6.0  ...  17.391304       NaN   4.347826       NaN   \n",
              "4         0.0        11.0  ...  25.000000  3.571429        NaN  3.571429   \n",
              "\n",
              "        FAC  WORK_OF_ART  MONEY  PERCENT  LAW  LANGUAGE  \n",
              "0       NaN          NaN    NaN      NaN  NaN       NaN  \n",
              "1       NaN          NaN    NaN      NaN  NaN       NaN  \n",
              "2       NaN          NaN    NaN      NaN  NaN       NaN  \n",
              "3       NaN          NaN    NaN      NaN  NaN       NaN  \n",
              "4  3.571429          NaN    NaN      NaN  NaN       NaN  \n",
              "\n",
              "[5 rows x 37 columns]"
            ],
            "text/html": [
              "\n",
              "  <div id=\"df-71097c9c-27e6-4a3e-8024-ca987a03b89c\" class=\"colab-df-container\">\n",
              "    <div>\n",
              "<style scoped>\n",
              "    .dataframe tbody tr th:only-of-type {\n",
              "        vertical-align: middle;\n",
              "    }\n",
              "\n",
              "    .dataframe tbody tr th {\n",
              "        vertical-align: top;\n",
              "    }\n",
              "\n",
              "    .dataframe thead th {\n",
              "        text-align: right;\n",
              "    }\n",
              "</style>\n",
              "<table border=\"1\" class=\"dataframe\">\n",
              "  <thead>\n",
              "    <tr style=\"text-align: right;\">\n",
              "      <th></th>\n",
              "      <th>heading</th>\n",
              "      <th>content</th>\n",
              "      <th>label</th>\n",
              "      <th>Word count</th>\n",
              "      <th>Max word length</th>\n",
              "      <th>Min word length</th>\n",
              "      <th>Average word length</th>\n",
              "      <th>present_verbs</th>\n",
              "      <th>past_verbs</th>\n",
              "      <th>adjectives</th>\n",
              "      <th>...</th>\n",
              "      <th>PERSON</th>\n",
              "      <th>ORDINAL</th>\n",
              "      <th>TIME</th>\n",
              "      <th>NORP</th>\n",
              "      <th>FAC</th>\n",
              "      <th>WORK_OF_ART</th>\n",
              "      <th>MONEY</th>\n",
              "      <th>PERCENT</th>\n",
              "      <th>LAW</th>\n",
              "      <th>LANGUAGE</th>\n",
              "    </tr>\n",
              "  </thead>\n",
              "  <tbody>\n",
              "    <tr>\n",
              "      <th>0</th>\n",
              "      <td>New largest dinosaur species found in Australi...</td>\n",
              "      <td>Scientists in Australia lack declassify a old ...</td>\n",
              "      <td>1</td>\n",
              "      <td>379.0</td>\n",
              "      <td>16.0</td>\n",
              "      <td>1.0</td>\n",
              "      <td>5.242744</td>\n",
              "      <td>47.0</td>\n",
              "      <td>0.0</td>\n",
              "      <td>40.0</td>\n",
              "      <td>...</td>\n",
              "      <td>5.405405</td>\n",
              "      <td>2.702703</td>\n",
              "      <td>NaN</td>\n",
              "      <td>NaN</td>\n",
              "      <td>NaN</td>\n",
              "      <td>NaN</td>\n",
              "      <td>NaN</td>\n",
              "      <td>NaN</td>\n",
              "      <td>NaN</td>\n",
              "      <td>NaN</td>\n",
              "    </tr>\n",
              "    <tr>\n",
              "      <th>1</th>\n",
              "      <td>SAITM issue: President to discuss with stakeho...</td>\n",
              "      <td>President Maithripala Sirisena disinherit summ...</td>\n",
              "      <td>1</td>\n",
              "      <td>117.0</td>\n",
              "      <td>20.0</td>\n",
              "      <td>1.0</td>\n",
              "      <td>5.683761</td>\n",
              "      <td>22.0</td>\n",
              "      <td>0.0</td>\n",
              "      <td>6.0</td>\n",
              "      <td>...</td>\n",
              "      <td>25.000000</td>\n",
              "      <td>NaN</td>\n",
              "      <td>12.500000</td>\n",
              "      <td>NaN</td>\n",
              "      <td>NaN</td>\n",
              "      <td>NaN</td>\n",
              "      <td>NaN</td>\n",
              "      <td>NaN</td>\n",
              "      <td>NaN</td>\n",
              "      <td>NaN</td>\n",
              "    </tr>\n",
              "    <tr>\n",
              "      <th>2</th>\n",
              "      <td>Intern’l responsibilities crucial for developm...</td>\n",
              "      <td>Norwegian Prime Minister Erna Solberg said tod...</td>\n",
              "      <td>1</td>\n",
              "      <td>251.0</td>\n",
              "      <td>16.0</td>\n",
              "      <td>1.0</td>\n",
              "      <td>5.840637</td>\n",
              "      <td>38.0</td>\n",
              "      <td>0.0</td>\n",
              "      <td>27.0</td>\n",
              "      <td>...</td>\n",
              "      <td>25.000000</td>\n",
              "      <td>NaN</td>\n",
              "      <td>NaN</td>\n",
              "      <td>5.000000</td>\n",
              "      <td>NaN</td>\n",
              "      <td>NaN</td>\n",
              "      <td>NaN</td>\n",
              "      <td>NaN</td>\n",
              "      <td>NaN</td>\n",
              "      <td>NaN</td>\n",
              "    </tr>\n",
              "    <tr>\n",
              "      <th>3</th>\n",
              "      <td>Five remanded over assault on Sri Lankan HC</td>\n",
              "      <td>Five people , who differ arrested for allegedl...</td>\n",
              "      <td>1</td>\n",
              "      <td>126.0</td>\n",
              "      <td>14.0</td>\n",
              "      <td>1.0</td>\n",
              "      <td>5.214286</td>\n",
              "      <td>17.0</td>\n",
              "      <td>0.0</td>\n",
              "      <td>6.0</td>\n",
              "      <td>...</td>\n",
              "      <td>17.391304</td>\n",
              "      <td>NaN</td>\n",
              "      <td>4.347826</td>\n",
              "      <td>NaN</td>\n",
              "      <td>NaN</td>\n",
              "      <td>NaN</td>\n",
              "      <td>NaN</td>\n",
              "      <td>NaN</td>\n",
              "      <td>NaN</td>\n",
              "      <td>NaN</td>\n",
              "    </tr>\n",
              "    <tr>\n",
              "      <th>4</th>\n",
              "      <td>Banners with LTTE chief's pic land duo in jail</td>\n",
              "      <td>Two nonmember of a fringe Tamil nationalist pa...</td>\n",
              "      <td>1</td>\n",
              "      <td>169.0</td>\n",
              "      <td>12.0</td>\n",
              "      <td>1.0</td>\n",
              "      <td>5.313609</td>\n",
              "      <td>23.0</td>\n",
              "      <td>0.0</td>\n",
              "      <td>11.0</td>\n",
              "      <td>...</td>\n",
              "      <td>25.000000</td>\n",
              "      <td>3.571429</td>\n",
              "      <td>NaN</td>\n",
              "      <td>3.571429</td>\n",
              "      <td>3.571429</td>\n",
              "      <td>NaN</td>\n",
              "      <td>NaN</td>\n",
              "      <td>NaN</td>\n",
              "      <td>NaN</td>\n",
              "      <td>NaN</td>\n",
              "    </tr>\n",
              "  </tbody>\n",
              "</table>\n",
              "<p>5 rows × 37 columns</p>\n",
              "</div>\n",
              "    <div class=\"colab-df-buttons\">\n",
              "\n",
              "  <div class=\"colab-df-container\">\n",
              "    <button class=\"colab-df-convert\" onclick=\"convertToInteractive('df-71097c9c-27e6-4a3e-8024-ca987a03b89c')\"\n",
              "            title=\"Convert this dataframe to an interactive table.\"\n",
              "            style=\"display:none;\">\n",
              "\n",
              "  <svg xmlns=\"http://www.w3.org/2000/svg\" height=\"24px\" viewBox=\"0 -960 960 960\">\n",
              "    <path d=\"M120-120v-720h720v720H120Zm60-500h600v-160H180v160Zm220 220h160v-160H400v160Zm0 220h160v-160H400v160ZM180-400h160v-160H180v160Zm440 0h160v-160H620v160ZM180-180h160v-160H180v160Zm440 0h160v-160H620v160Z\"/>\n",
              "  </svg>\n",
              "    </button>\n",
              "\n",
              "  <style>\n",
              "    .colab-df-container {\n",
              "      display:flex;\n",
              "      gap: 12px;\n",
              "    }\n",
              "\n",
              "    .colab-df-convert {\n",
              "      background-color: #E8F0FE;\n",
              "      border: none;\n",
              "      border-radius: 50%;\n",
              "      cursor: pointer;\n",
              "      display: none;\n",
              "      fill: #1967D2;\n",
              "      height: 32px;\n",
              "      padding: 0 0 0 0;\n",
              "      width: 32px;\n",
              "    }\n",
              "\n",
              "    .colab-df-convert:hover {\n",
              "      background-color: #E2EBFA;\n",
              "      box-shadow: 0px 1px 2px rgba(60, 64, 67, 0.3), 0px 1px 3px 1px rgba(60, 64, 67, 0.15);\n",
              "      fill: #174EA6;\n",
              "    }\n",
              "\n",
              "    .colab-df-buttons div {\n",
              "      margin-bottom: 4px;\n",
              "    }\n",
              "\n",
              "    [theme=dark] .colab-df-convert {\n",
              "      background-color: #3B4455;\n",
              "      fill: #D2E3FC;\n",
              "    }\n",
              "\n",
              "    [theme=dark] .colab-df-convert:hover {\n",
              "      background-color: #434B5C;\n",
              "      box-shadow: 0px 1px 3px 1px rgba(0, 0, 0, 0.15);\n",
              "      filter: drop-shadow(0px 1px 2px rgba(0, 0, 0, 0.3));\n",
              "      fill: #FFFFFF;\n",
              "    }\n",
              "  </style>\n",
              "\n",
              "    <script>\n",
              "      const buttonEl =\n",
              "        document.querySelector('#df-71097c9c-27e6-4a3e-8024-ca987a03b89c button.colab-df-convert');\n",
              "      buttonEl.style.display =\n",
              "        google.colab.kernel.accessAllowed ? 'block' : 'none';\n",
              "\n",
              "      async function convertToInteractive(key) {\n",
              "        const element = document.querySelector('#df-71097c9c-27e6-4a3e-8024-ca987a03b89c');\n",
              "        const dataTable =\n",
              "          await google.colab.kernel.invokeFunction('convertToInteractive',\n",
              "                                                    [key], {});\n",
              "        if (!dataTable) return;\n",
              "\n",
              "        const docLinkHtml = 'Like what you see? Visit the ' +\n",
              "          '<a target=\"_blank\" href=https://colab.research.google.com/notebooks/data_table.ipynb>data table notebook</a>'\n",
              "          + ' to learn more about interactive tables.';\n",
              "        element.innerHTML = '';\n",
              "        dataTable['output_type'] = 'display_data';\n",
              "        await google.colab.output.renderOutput(dataTable, element);\n",
              "        const docLink = document.createElement('div');\n",
              "        docLink.innerHTML = docLinkHtml;\n",
              "        element.appendChild(docLink);\n",
              "      }\n",
              "    </script>\n",
              "  </div>\n",
              "\n",
              "\n",
              "<div id=\"df-6ccae453-420a-4e8e-ae54-74ad988c77b2\">\n",
              "  <button class=\"colab-df-quickchart\" onclick=\"quickchart('df-6ccae453-420a-4e8e-ae54-74ad988c77b2')\"\n",
              "            title=\"Suggest charts\"\n",
              "            style=\"display:none;\">\n",
              "\n",
              "<svg xmlns=\"http://www.w3.org/2000/svg\" height=\"24px\"viewBox=\"0 0 24 24\"\n",
              "     width=\"24px\">\n",
              "    <g>\n",
              "        <path d=\"M19 3H5c-1.1 0-2 .9-2 2v14c0 1.1.9 2 2 2h14c1.1 0 2-.9 2-2V5c0-1.1-.9-2-2-2zM9 17H7v-7h2v7zm4 0h-2V7h2v10zm4 0h-2v-4h2v4z\"/>\n",
              "    </g>\n",
              "</svg>\n",
              "  </button>\n",
              "\n",
              "<style>\n",
              "  .colab-df-quickchart {\n",
              "      --bg-color: #E8F0FE;\n",
              "      --fill-color: #1967D2;\n",
              "      --hover-bg-color: #E2EBFA;\n",
              "      --hover-fill-color: #174EA6;\n",
              "      --disabled-fill-color: #AAA;\n",
              "      --disabled-bg-color: #DDD;\n",
              "  }\n",
              "\n",
              "  [theme=dark] .colab-df-quickchart {\n",
              "      --bg-color: #3B4455;\n",
              "      --fill-color: #D2E3FC;\n",
              "      --hover-bg-color: #434B5C;\n",
              "      --hover-fill-color: #FFFFFF;\n",
              "      --disabled-bg-color: #3B4455;\n",
              "      --disabled-fill-color: #666;\n",
              "  }\n",
              "\n",
              "  .colab-df-quickchart {\n",
              "    background-color: var(--bg-color);\n",
              "    border: none;\n",
              "    border-radius: 50%;\n",
              "    cursor: pointer;\n",
              "    display: none;\n",
              "    fill: var(--fill-color);\n",
              "    height: 32px;\n",
              "    padding: 0;\n",
              "    width: 32px;\n",
              "  }\n",
              "\n",
              "  .colab-df-quickchart:hover {\n",
              "    background-color: var(--hover-bg-color);\n",
              "    box-shadow: 0 1px 2px rgba(60, 64, 67, 0.3), 0 1px 3px 1px rgba(60, 64, 67, 0.15);\n",
              "    fill: var(--button-hover-fill-color);\n",
              "  }\n",
              "\n",
              "  .colab-df-quickchart-complete:disabled,\n",
              "  .colab-df-quickchart-complete:disabled:hover {\n",
              "    background-color: var(--disabled-bg-color);\n",
              "    fill: var(--disabled-fill-color);\n",
              "    box-shadow: none;\n",
              "  }\n",
              "\n",
              "  .colab-df-spinner {\n",
              "    border: 2px solid var(--fill-color);\n",
              "    border-color: transparent;\n",
              "    border-bottom-color: var(--fill-color);\n",
              "    animation:\n",
              "      spin 1s steps(1) infinite;\n",
              "  }\n",
              "\n",
              "  @keyframes spin {\n",
              "    0% {\n",
              "      border-color: transparent;\n",
              "      border-bottom-color: var(--fill-color);\n",
              "      border-left-color: var(--fill-color);\n",
              "    }\n",
              "    20% {\n",
              "      border-color: transparent;\n",
              "      border-left-color: var(--fill-color);\n",
              "      border-top-color: var(--fill-color);\n",
              "    }\n",
              "    30% {\n",
              "      border-color: transparent;\n",
              "      border-left-color: var(--fill-color);\n",
              "      border-top-color: var(--fill-color);\n",
              "      border-right-color: var(--fill-color);\n",
              "    }\n",
              "    40% {\n",
              "      border-color: transparent;\n",
              "      border-right-color: var(--fill-color);\n",
              "      border-top-color: var(--fill-color);\n",
              "    }\n",
              "    60% {\n",
              "      border-color: transparent;\n",
              "      border-right-color: var(--fill-color);\n",
              "    }\n",
              "    80% {\n",
              "      border-color: transparent;\n",
              "      border-right-color: var(--fill-color);\n",
              "      border-bottom-color: var(--fill-color);\n",
              "    }\n",
              "    90% {\n",
              "      border-color: transparent;\n",
              "      border-bottom-color: var(--fill-color);\n",
              "    }\n",
              "  }\n",
              "</style>\n",
              "\n",
              "  <script>\n",
              "    async function quickchart(key) {\n",
              "      const quickchartButtonEl =\n",
              "        document.querySelector('#' + key + ' button');\n",
              "      quickchartButtonEl.disabled = true;  // To prevent multiple clicks.\n",
              "      quickchartButtonEl.classList.add('colab-df-spinner');\n",
              "      try {\n",
              "        const charts = await google.colab.kernel.invokeFunction(\n",
              "            'suggestCharts', [key], {});\n",
              "      } catch (error) {\n",
              "        console.error('Error during call to suggestCharts:', error);\n",
              "      }\n",
              "      quickchartButtonEl.classList.remove('colab-df-spinner');\n",
              "      quickchartButtonEl.classList.add('colab-df-quickchart-complete');\n",
              "    }\n",
              "    (() => {\n",
              "      let quickchartButtonEl =\n",
              "        document.querySelector('#df-6ccae453-420a-4e8e-ae54-74ad988c77b2 button');\n",
              "      quickchartButtonEl.style.display =\n",
              "        google.colab.kernel.accessAllowed ? 'block' : 'none';\n",
              "    })();\n",
              "  </script>\n",
              "</div>\n",
              "\n",
              "    </div>\n",
              "  </div>\n"
            ],
            "application/vnd.google.colaboratory.intrinsic+json": {
              "type": "dataframe",
              "variable_name": "custom_data"
            }
          },
          "metadata": {},
          "execution_count": 47
        }
      ],
      "source": [
        "# Load dataset from a local CSV file\n",
        "custom_data = pd.read_csv('/content/drive/MyDrive/Truth seek/Function3_data.csv')\n",
        "\n",
        "# Display the first few rows to check if it's loaded correctly\n",
        "custom_data.head()"
      ]
    },
    {
      "cell_type": "code",
      "execution_count": 48,
      "metadata": {
        "id": "NvAuh1zK_2Ma"
      },
      "outputs": [],
      "source": [
        "# Ensure 'text' column contains strings\n",
        "custom_data['content'] = custom_data['content'].astype(str)\n",
        "\n",
        "# Replace NaN or missing values with empty strings\n",
        "custom_data['content'] = custom_data['content'].fillna('')"
      ]
    },
    {
      "cell_type": "code",
      "execution_count": 49,
      "metadata": {
        "id": "aeqx8x4hOP6x"
      },
      "outputs": [],
      "source": [
        "# Clean and preprocess the data\n",
        "def clean_text(text):\n",
        "    text = re.sub(r'\\d+', '', text)  # Remove digits\n",
        "    text = re.sub(r'[^\\w\\s]', '', text)  # Remove punctuation\n",
        "    text = re.sub(r'\\s+', ' ', text)  # Remove multiple spaces\n",
        "    text = text.lower().strip()  # Convert to lowercase and strip leading/trailing spaces\n",
        "    return text\n",
        "\n",
        "custom_data['content'] = custom_data['content'].apply(clean_text)\n"
      ]
    },
    {
      "cell_type": "code",
      "execution_count": 50,
      "metadata": {
        "id": "T6I9nqO2Pbnc"
      },
      "outputs": [],
      "source": [
        "# Separate data into '0' and '1' classes\n",
        "data_00 = custom_data[custom_data['label'] == 0]\n",
        "data_11 = custom_data[custom_data['label'] == 1]"
      ]
    },
    {
      "cell_type": "code",
      "execution_count": 51,
      "metadata": {
        "id": "c1C082L2QAkS"
      },
      "outputs": [],
      "source": [
        "from sklearn.utils import resample\n"
      ]
    },
    {
      "cell_type": "code",
      "execution_count": 52,
      "metadata": {
        "id": "cOopb_EjPkDD"
      },
      "outputs": [],
      "source": [
        "#Randomly oversample the minority class to match the majority class\n",
        "data_11_oversampled = resample(data_11,\n",
        "                             replace=True,    # Sample with replacement\n",
        "                            n_samples=len(data_00),  # Match number of majority class\n",
        "                           random_state=42)  # For reproducibility\n",
        "\n",
        "#Combine the majority class with the oversampled minority class\n",
        "data_balanced1 = pd.concat([data_00, data_11_oversampled])"
      ]
    },
    {
      "cell_type": "code",
      "execution_count": 53,
      "metadata": {
        "id": "u_teNdt6P1p_"
      },
      "outputs": [],
      "source": [
        "# Shuffle the combined dataset to mix the samples\n",
        "data_balanced1 = data_balanced1.sample(frac=1, random_state=42).reset_index(drop=True)\n",
        "\n",
        "# Separate features and target\n",
        "x_balanced1 = data_balanced1.drop(columns=['label'])\n",
        "y_balanced1 = data_balanced1['label']"
      ]
    },
    {
      "cell_type": "code",
      "execution_count": 54,
      "metadata": {
        "id": "UCnyNsJmQUmR",
        "colab": {
          "base_uri": "https://localhost:8080/"
        },
        "outputId": "19f23039-2ae5-49f3-b69b-338a04cf5642"
      },
      "outputs": [
        {
          "output_type": "stream",
          "name": "stdout",
          "text": [
            "Number of rows: 1712\n"
          ]
        }
      ],
      "source": [
        "num_rows = x_balanced1.shape[0]\n",
        "print(f'Number of rows: {num_rows}')"
      ]
    },
    {
      "cell_type": "code",
      "execution_count": 55,
      "metadata": {
        "id": "3Vqt9a8wO5zz",
        "colab": {
          "base_uri": "https://localhost:8080/",
          "height": 178
        },
        "outputId": "d817cbc4-56cb-43a4-82c9-5e36a5a29fc4"
      },
      "outputs": [
        {
          "output_type": "execute_result",
          "data": {
            "text/plain": [
              "label\n",
              "0    856\n",
              "1    856\n",
              "Name: count, dtype: int64"
            ],
            "text/html": [
              "<div>\n",
              "<style scoped>\n",
              "    .dataframe tbody tr th:only-of-type {\n",
              "        vertical-align: middle;\n",
              "    }\n",
              "\n",
              "    .dataframe tbody tr th {\n",
              "        vertical-align: top;\n",
              "    }\n",
              "\n",
              "    .dataframe thead th {\n",
              "        text-align: right;\n",
              "    }\n",
              "</style>\n",
              "<table border=\"1\" class=\"dataframe\">\n",
              "  <thead>\n",
              "    <tr style=\"text-align: right;\">\n",
              "      <th></th>\n",
              "      <th>count</th>\n",
              "    </tr>\n",
              "    <tr>\n",
              "      <th>label</th>\n",
              "      <th></th>\n",
              "    </tr>\n",
              "  </thead>\n",
              "  <tbody>\n",
              "    <tr>\n",
              "      <th>0</th>\n",
              "      <td>856</td>\n",
              "    </tr>\n",
              "    <tr>\n",
              "      <th>1</th>\n",
              "      <td>856</td>\n",
              "    </tr>\n",
              "  </tbody>\n",
              "</table>\n",
              "</div><br><label><b>dtype:</b> int64</label>"
            ]
          },
          "metadata": {},
          "execution_count": 55
        }
      ],
      "source": [
        "data_balanced1['label'].value_counts()"
      ]
    },
    {
      "cell_type": "code",
      "execution_count": 56,
      "metadata": {
        "id": "yIuXI5IYaDGv"
      },
      "outputs": [],
      "source": [
        "# Tokenizer and padding\n",
        "tokenizer1 = Tokenizer(num_words=max_words)\n",
        "tokenizer1.fit_on_texts(data_balanced1['content'])\n",
        "sequences1 = tokenizer1.texts_to_sequences(data_balanced1['content'])\n",
        "tweet_data1 = pad_sequences(sequences1, maxlen=max_seq_length)\n",
        "\n",
        "# Target variable\n",
        "target1 = y_balanced1.values"
      ]
    },
    {
      "cell_type": "code",
      "execution_count": 57,
      "metadata": {
        "id": "u2XpfujT_79B"
      },
      "outputs": [],
      "source": [
        "import pickle\n",
        "with open('function3_tokenizer.pkl', 'wb') as f:\n",
        "    pickle.dump(tokenizer, f)"
      ]
    },
    {
      "cell_type": "code",
      "execution_count": 58,
      "metadata": {
        "id": "E4feWP4GaORu"
      },
      "outputs": [],
      "source": [
        "from sklearn.model_selection import train_test_split\n",
        "\n",
        "# Train-test split\n",
        "X_train1, X_test1, y_train1, y_test1 = train_test_split(tweet_data1, target1, test_size=0.2, random_state=42)\n"
      ]
    },
    {
      "cell_type": "code",
      "execution_count": 59,
      "metadata": {
        "id": "5SJyKOdRb4eT"
      },
      "outputs": [],
      "source": [
        "optimizer = tf.keras.optimizers.Adam(learning_rate=0.00001)"
      ]
    },
    {
      "cell_type": "code",
      "execution_count": 60,
      "metadata": {
        "id": "3tQNiH3iaP_G",
        "colab": {
          "base_uri": "https://localhost:8080/"
        },
        "outputId": "440c857c-7241-4830-d0a1-5dc698e31a83"
      },
      "outputs": [
        {
          "output_type": "stream",
          "name": "stdout",
          "text": [
            "Epoch 1/10\n",
            "\u001b[1m18/18\u001b[0m \u001b[32m━━━━━━━━━━━━━━━━━━━━\u001b[0m\u001b[37m\u001b[0m \u001b[1m6s\u001b[0m 198ms/step - accuracy: 0.6202 - loss: 0.2554 - val_accuracy: 0.9234 - val_loss: 0.0740\n",
            "Epoch 2/10\n",
            "\u001b[1m18/18\u001b[0m \u001b[32m━━━━━━━━━━━━━━━━━━━━\u001b[0m\u001b[37m\u001b[0m \u001b[1m3s\u001b[0m 103ms/step - accuracy: 0.9051 - loss: 0.0713 - val_accuracy: 0.9562 - val_loss: 0.0355\n",
            "Epoch 3/10\n",
            "\u001b[1m18/18\u001b[0m \u001b[32m━━━━━━━━━━━━━━━━━━━━\u001b[0m\u001b[37m\u001b[0m \u001b[1m3s\u001b[0m 105ms/step - accuracy: 0.9630 - loss: 0.0323 - val_accuracy: 0.9781 - val_loss: 0.0166\n",
            "Epoch 4/10\n",
            "\u001b[1m18/18\u001b[0m \u001b[32m━━━━━━━━━━━━━━━━━━━━\u001b[0m\u001b[37m\u001b[0m \u001b[1m2s\u001b[0m 102ms/step - accuracy: 0.9858 - loss: 0.0139 - val_accuracy: 0.9854 - val_loss: 0.0114\n",
            "Epoch 5/10\n",
            "\u001b[1m18/18\u001b[0m \u001b[32m━━━━━━━━━━━━━━━━━━━━\u001b[0m\u001b[37m\u001b[0m \u001b[1m4s\u001b[0m 177ms/step - accuracy: 0.9825 - loss: 0.0154 - val_accuracy: 0.9854 - val_loss: 0.0116\n",
            "Epoch 6/10\n",
            "\u001b[1m18/18\u001b[0m \u001b[32m━━━━━━━━━━━━━━━━━━━━\u001b[0m\u001b[37m\u001b[0m \u001b[1m4s\u001b[0m 104ms/step - accuracy: 0.9856 - loss: 0.0114 - val_accuracy: 0.9854 - val_loss: 0.0117\n"
          ]
        }
      ],
      "source": [
        "from tensorflow.keras.callbacks import EarlyStopping\n",
        "\n",
        "# Compile the model (ensure it uses the same configuration as before)\n",
        "model2.compile(optimizer='adam', loss='mean_squared_error', metrics=['accuracy'])  # Change to a less suitable loss function\n",
        "\n",
        "# Train the model with custom data\n",
        "callbacks = [EarlyStopping(patience=2, monitor='val_loss', restore_best_weights=True)]\n",
        "history2 = model2.fit(X_train1, y_train1, epochs=10, batch_size=64,\n",
        "                    validation_split=0.2, callbacks=callbacks)\n"
      ]
    },
    {
      "cell_type": "code",
      "execution_count": 61,
      "metadata": {
        "id": "-Ku5eh67cGMS",
        "colab": {
          "base_uri": "https://localhost:8080/"
        },
        "outputId": "4b69aba8-8396-4fe0-8732-142ff54ac725"
      },
      "outputs": [
        {
          "output_type": "stream",
          "name": "stdout",
          "text": [
            "\u001b[1m11/11\u001b[0m \u001b[32m━━━━━━━━━━━━━━━━━━━━\u001b[0m\u001b[37m\u001b[0m \u001b[1m0s\u001b[0m 15ms/step - accuracy: 0.9690 - loss: 0.0250\n",
            "Test Accuracy: 96.21%\n"
          ]
        }
      ],
      "source": [
        "from sklearn.metrics import confusion_matrix, classification_report\n",
        "import seaborn as sns\n",
        "import matplotlib.pyplot as plt\n",
        "\n",
        "# Evaluate the model\n",
        "loss, accuracy = model2.evaluate(X_test1, y_test1)\n",
        "print(f'Test Accuracy: {accuracy * 100:.2f}%')"
      ]
    },
    {
      "cell_type": "code",
      "execution_count": 62,
      "metadata": {
        "id": "hKlcvc6pcZoU",
        "colab": {
          "base_uri": "https://localhost:8080/"
        },
        "outputId": "de8049e9-ac74-493e-c670-e387db1a62fc"
      },
      "outputs": [
        {
          "output_type": "stream",
          "name": "stdout",
          "text": [
            "\u001b[1m11/11\u001b[0m \u001b[32m━━━━━━━━━━━━━━━━━━━━\u001b[0m\u001b[37m\u001b[0m \u001b[1m1s\u001b[0m 32ms/step\n"
          ]
        }
      ],
      "source": [
        "# Make predictions on the test set\n",
        "y_pred_prob1 = model2.predict(X_test1)\n",
        "y_pred1 = (y_pred_prob1 > 0.5).astype(int)\n",
        "\n",
        "# Generate the confusion matrix\n",
        "conf_matrix = confusion_matrix(y_test1, y_pred1)"
      ]
    },
    {
      "cell_type": "code",
      "execution_count": 63,
      "metadata": {
        "id": "zBpjTIn0cc7q",
        "colab": {
          "base_uri": "https://localhost:8080/",
          "height": 720
        },
        "outputId": "5eccac6f-5bdc-4c33-f4c0-1effc6d04938"
      },
      "outputs": [
        {
          "output_type": "display_data",
          "data": {
            "text/plain": [
              "<Figure size 800x600 with 2 Axes>"
            ],
            "image/png": "[encoded data removed]"
          },
          "metadata": {}
        },
        {
          "output_type": "stream",
          "name": "stdout",
          "text": [
            "              precision    recall  f1-score   support\n",
            "\n",
            "    Negative       0.95      0.98      0.96       173\n",
            "    Positive       0.98      0.95      0.96       170\n",
            "\n",
            "    accuracy                           0.96       343\n",
            "   macro avg       0.96      0.96      0.96       343\n",
            "weighted avg       0.96      0.96      0.96       343\n",
            "\n"
          ]
        }
      ],
      "source": [
        "# Plot the confusion matrix\n",
        "plt.figure(figsize=(8, 6))\n",
        "sns.heatmap(conf_matrix, annot=True, fmt='d', cmap='Blues', xticklabels=['Negative', 'Positive'], yticklabels=['Negative', 'Positive'])\n",
        "plt.xlabel('Predicted Label')\n",
        "plt.ylabel('True Label')\n",
        "plt.title('Confusion Matrix')\n",
        "plt.show()\n",
        "\n",
        "# Print a classification report\n",
        "print(classification_report(y_test1, y_pred1, target_names=['Negative', 'Positive']))\n"
      ]
    },
    {
      "cell_type": "code",
      "execution_count": 64,
      "metadata": {
        "id": "tGcE-gxPbYwM",
        "colab": {
          "base_uri": "https://localhost:8080/"
        },
        "outputId": "8f84a929-f305-4406-e912-7253552178a3"
      },
      "outputs": [
        {
          "output_type": "stream",
          "name": "stderr",
          "text": [
            "WARNING:absl:You are saving your model as an HDF5 file via `model.save()` or `keras.saving.save_model(model)`. This file format is considered legacy. We recommend using instead the native Keras format, e.g. `model.save('my_model.keras')` or `keras.saving.save_model(model, 'my_model.keras')`. \n"
          ]
        }
      ],
      "source": [
        "# Save the retrained model\n",
        "model2.save('verity_function3_retrained.h5')"
      ]
    },
    {
      "cell_type": "code",
      "execution_count": 65,
      "metadata": {
        "id": "jbcyQKqYdLM3",
        "colab": {
          "base_uri": "https://localhost:8080/"
        },
        "outputId": "26fd1cac-e938-4279-b58d-1128f5d03045"
      },
      "outputs": [
        {
          "output_type": "stream",
          "name": "stderr",
          "text": [
            "WARNING:absl:Compiled the loaded model, but the compiled metrics have yet to be built. `model.compile_metrics` will be empty until you train or evaluate the model.\n"
          ]
        }
      ],
      "source": [
        "from tensorflow.keras.models import load_model\n",
        "\n",
        "# Load the saved retrained model\n",
        "model_retrained = load_model('verity_function3_retrained.h5')\n"
      ]
    },
    {
      "cell_type": "code",
      "source": [
        "# Example new news article (replace this with the actual text)\n",
        "new_article = \"මොරගහකන්ද ජලාශයට ආසන්නව ගිරිතලේ - ඇළහැර අභයභූමියේ සැරිසරමින් සිටි ඇත් පැටවකු දඩයක්කරුවෙකුගේ වෙඩි පහර කිහිපයකින් මියගොස් ඇතැයි ඇළහැර වනජීවී කාර්යාලය සඳහන් කරයි\"\n",
        "new_article2 = \"සිදුව අමන්දොළුව ප්‍රදේශයේ බෝඩිං කාමරයක සිටි කාන්තාවක තියුණු ආයුධයකින් පහරදී ඝාතනය කර ඇතැයි සීදූව පොලිසිය පවසයි.\""
      ],
      "metadata": {
        "id": "AkeZL6OzJ2jx"
      },
      "execution_count": 70,
      "outputs": []
    },
    {
      "cell_type": "code",
      "source": [
        "# Clean the text using the same function\n",
        "def clean_text(text):\n",
        "    text = re.sub(r'\\d+', '', text)  # Remove digits\n",
        "    text = re.sub(r'[^\\w\\s]', '', text)  # Remove punctuation\n",
        "    text = re.sub(r'\\s+', ' ', text)  # Remove multiple spaces\n",
        "    text = text.lower().strip()  # Convert to lowercase and strip leading/trailing spaces\n",
        "    return text\n",
        "\n",
        "cleaned_article = clean_text(new_article2)\n",
        "\n",
        "# Tokenize and pad the text using the tokenizer you fitted earlier\n",
        "# Load the tokenizer if you saved it earlier\n",
        "with open('function3_tokenizer.pkl', 'rb') as f:\n",
        "    tokenizer = pickle.load(f)\n",
        "\n",
        "# Convert text to sequences\n",
        "article_sequence = tokenizer.texts_to_sequences([cleaned_article])\n",
        "\n",
        "# Pad the sequence to match the training input shape\n",
        "padded_article = pad_sequences(article_sequence, maxlen=max_seq_length)\n"
      ],
      "metadata": {
        "id": "b--2tevaKPLB"
      },
      "execution_count": 74,
      "outputs": []
    },
    {
      "cell_type": "code",
      "source": [
        "# Make prediction\n",
        "prediction_prob = model_retrained.predict(padded_article)\n",
        "\n",
        "# Convert probability to a binary prediction (1 or 0)\n",
        "prediction = (prediction_prob > 0.5).astype(int)"
      ],
      "metadata": {
        "colab": {
          "base_uri": "https://localhost:8080/"
        },
        "id": "brc4zKD3KRYZ",
        "outputId": "77c8e992-7da2-4399-c3ce-03ade32e2fda"
      },
      "execution_count": 75,
      "outputs": [
        {
          "output_type": "stream",
          "name": "stdout",
          "text": [
            "\u001b[1m1/1\u001b[0m \u001b[32m━━━━━━━━━━━━━━━━━━━━\u001b[0m\u001b[37m\u001b[0m \u001b[1m0s\u001b[0m 26ms/step\n"
          ]
        }
      ]
    },
    {
      "cell_type": "code",
      "source": [
        "# Print the result\n",
        "if prediction[0][0] == 1:\n",
        "    print(\"The news is likely true (Positive).\")\n",
        "else:\n",
        "    print(\"The news is likely false (Negative).\")\n"
      ],
      "metadata": {
        "colab": {
          "base_uri": "https://localhost:8080/"
        },
        "id": "C4SFAa2AKWfo",
        "outputId": "873a833a-7382-4527-89b8-6e56c0fa0bc6"
      },
      "execution_count": 76,
      "outputs": [
        {
          "output_type": "stream",
          "name": "stdout",
          "text": [
            "The news is likely false (Negative).\n"
          ]
        }
      ]
    },
    {
      "cell_type": "code",
      "source": [],
      "metadata": {
        "id": "gkTKRXL5KglQ"
      },
      "execution_count": null,
      "outputs": []
    }
  ],
  "metadata": {
    "accelerator": "GPU",
    "colab": {
      "gpuType": "T4",
      "provenance": []
    },
    "kernelspec": {
      "display_name": "Python 3",
      "name": "python3"
    },
    "language_info": {
      "name": "python"
    }
  },
  "nbformat": 4,
  "nbformat_minor": 0
}