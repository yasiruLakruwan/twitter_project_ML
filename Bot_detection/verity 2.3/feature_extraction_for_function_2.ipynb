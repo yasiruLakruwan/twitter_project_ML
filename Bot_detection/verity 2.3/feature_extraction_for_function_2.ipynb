{
  "nbformat": 4,
  "nbformat_minor": 0,
  "metadata": {
    "colab": {
      "provenance": []
    },
    "kernelspec": {
      "name": "python3",
      "display_name": "Python 3"
    },
    "language_info": {
      "name": "python"
    }
  },
  "cells": [
    {
      "cell_type": "code",
      "source": [
        "import pandas as pd\n",
        "import re\n",
        "import spacy\n",
        "from sklearn.feature_extraction.text import CountVectorizer\n",
        "\n",
        "# Load the CSV file\n",
        "# Replace 'your_file.csv' with the path to your CSV file in Google Colab\n",
        "df = pd.read_csv('/content/drive/MyDrive/Dataset/updated_tweets.csv')\n",
        "\n",
        "# Load spaCy's English model\n",
        "nlp = spacy.load('en_core_web_sm')\n"
      ],
      "metadata": {
        "id": "cu5o8CGcp5hl"
      },
      "execution_count": 18,
      "outputs": []
    },
    {
      "cell_type": "code",
      "source": [
        "# Ensure that all values in the 'text' column are strings\n",
        "df['text'] = df['text'].fillna('').astype(str)"
      ],
      "metadata": {
        "id": "02Eymh_9q-Gc"
      },
      "execution_count": 24,
      "outputs": []
    },
    {
      "cell_type": "code",
      "source": [
        "def get_word_count(text):\n",
        "    return len(text.split())\n",
        "\n",
        "def get_max_word_length(text):\n",
        "    return max(len(word) for word in text.split()) if text else 0\n",
        "\n",
        "def get_min_word_length(text):\n",
        "    return min(len(word) for word in text.split()) if text else 0\n",
        "\n",
        "def get_average_word_length(text):\n",
        "    words = text.split()\n",
        "    return sum(len(word) for word in words) / len(words) if words else 0\n"
      ],
      "metadata": {
        "id": "wRqWhzjsp9Mr"
      },
      "execution_count": 25,
      "outputs": []
    },
    {
      "cell_type": "code",
      "source": [
        "def get_part_of_speech_count(text, pos_tag):\n",
        "    doc = nlp(text)\n",
        "    return sum(1 for token in doc if token.pos_ == pos_tag)\n",
        "\n",
        "def get_named_entity_percentage(text, entity_label):\n",
        "    doc = nlp(text)\n",
        "    entities = [ent.label_ for ent in doc.ents]\n",
        "    total_entities = len(entities)\n",
        "    return entities.count(entity_label) / total_entities * 100 if total_entities > 0 else 0\n"
      ],
      "metadata": {
        "id": "3Nw61UllqFui"
      },
      "execution_count": 26,
      "outputs": []
    },
    {
      "cell_type": "code",
      "source": [
        "def get_punctuation_count(text, punctuation):\n",
        "    return text.count(punctuation)\n"
      ],
      "metadata": {
        "id": "jvauREMkqIHa"
      },
      "execution_count": 27,
      "outputs": []
    },
    {
      "cell_type": "code",
      "source": [
        "# Apply functions to extract features and add them as new columns\n",
        "df['Word count'] = df['text'].apply(get_word_count)\n",
        "df['Max word length'] = df['text'].apply(get_max_word_length)\n",
        "df['Min word length'] = df['text'].apply(get_min_word_length)\n",
        "df['Average word length'] = df['text'].apply(get_average_word_length)\n",
        "df['present_verbs'] = df['text'].apply(lambda text: get_part_of_speech_count(text, 'VERB'))\n",
        "df['adjectives'] = df['text'].apply(lambda text: get_part_of_speech_count(text, 'ADJ'))\n",
        "df['adverbs'] = df['text'].apply(lambda text: get_part_of_speech_count(text, 'ADV'))\n",
        "df['dots'] = df['text'].apply(lambda text: get_punctuation_count(text, '.'))\n",
        "df['exclamation'] = df['text'].apply(lambda text: get_punctuation_count(text, '!'))\n",
        "df['questions'] = df['text'].apply(lambda text: get_punctuation_count(text, '?'))\n",
        "\n",
        "# Named Entity Recognition (NER) percentages\n",
        "entities = ['ORG', 'NORP', 'GPE', 'PERSON', 'MONEY', 'DATE', 'CARDINAL', 'PERCENT', 'ORDINAL',\n",
        "            'FAC', 'LAW', 'PRODUCT', 'EVENT', 'TIME', 'LOC', 'WORK_OF_ART', 'QUANTITY', 'LANGUAGE']\n",
        "\n",
        "for entity in entities:\n",
        "    df[f'{entity}_percentage'] = df['text'].apply(lambda text: get_named_entity_percentage(text, entity))\n"
      ],
      "metadata": {
        "id": "5mrdaQplqKlr"
      },
      "execution_count": 28,
      "outputs": []
    },
    {
      "cell_type": "code",
      "source": [
        "# Save the updated DataFrame to a new CSV file\n",
        "df.to_csv('updated_file_bothu.csv', index=False)\n",
        "\n",
        "# Download the updated file\n",
        "from google.colab import files\n",
        "files.download('updated_file_bothu.csv')\n"
      ],
      "metadata": {
        "colab": {
          "base_uri": "https://localhost:8080/",
          "height": 17
        },
        "id": "y-8494a2qYRc",
        "outputId": "47331763-1c0f-473b-b0f5-b666f907a127"
      },
      "execution_count": 29,
      "outputs": [
        {
          "output_type": "display_data",
          "data": {
            "text/plain": [
              "<IPython.core.display.Javascript object>"
            ],
            "application/javascript": [
              "\n",
              "    async function download(id, filename, size) {\n",
              "      if (!google.colab.kernel.accessAllowed) {\n",
              "        return;\n",
              "      }\n",
              "      const div = document.createElement('div');\n",
              "      const label = document.createElement('label');\n",
              "      label.textContent = `Downloading \"${filename}\": `;\n",
              "      div.appendChild(label);\n",
              "      const progress = document.createElement('progress');\n",
              "      progress.max = size;\n",
              "      div.appendChild(progress);\n",
              "      document.body.appendChild(div);\n",
              "\n",
              "      const buffers = [];\n",
              "      let downloaded = 0;\n",
              "\n",
              "      const channel = await google.colab.kernel.comms.open(id);\n",
              "      // Send a message to notify the kernel that we're ready.\n",
              "      channel.send({})\n",
              "\n",
              "      for await (const message of channel.messages) {\n",
              "        // Send a message to notify the kernel that we're ready.\n",
              "        channel.send({})\n",
              "        if (message.buffers) {\n",
              "          for (const buffer of message.buffers) {\n",
              "            buffers.push(buffer);\n",
              "            downloaded += buffer.byteLength;\n",
              "            progress.value = downloaded;\n",
              "          }\n",
              "        }\n",
              "      }\n",
              "      const blob = new Blob(buffers, {type: 'application/binary'});\n",
              "      const a = document.createElement('a');\n",
              "      a.href = window.URL.createObjectURL(blob);\n",
              "      a.download = filename;\n",
              "      div.appendChild(a);\n",
              "      a.click();\n",
              "      div.remove();\n",
              "    }\n",
              "  "
            ]
          },
          "metadata": {}
        },
        {
          "output_type": "display_data",
          "data": {
            "text/plain": [
              "<IPython.core.display.Javascript object>"
            ],
            "application/javascript": [
              "download(\"download_a518c925-94cb-4050-91c3-fb3607f3eb08\", \"updated_file_bothu.csv\", 163002)"
            ]
          },
          "metadata": {}
        }
      ]
    },
    {
      "cell_type": "code",
      "source": [
        "data1=pd.read_csv('/content/drive/MyDrive/Dataset/updated_file_bothu.csv')"
      ],
      "metadata": {
        "id": "kdQG0TsfrpX0"
      },
      "execution_count": 30,
      "outputs": []
    },
    {
      "cell_type": "code",
      "source": [
        "data1.columns"
      ],
      "metadata": {
        "colab": {
          "base_uri": "https://localhost:8080/"
        },
        "id": "GPzzBPPJrykS",
        "outputId": "4357cf31-5a1f-4395-c76c-d3f25c9a86b3"
      },
      "execution_count": 31,
      "outputs": [
        {
          "output_type": "execute_result",
          "data": {
            "text/plain": [
              "Index(['date', 'text', 'link', 'likes', 'retweets', 'comments', 'user_name',\n",
              "       'user_username', 'user_avatar', 'label', 'mentions', 'word_count',\n",
              "       'adjectives', 'adverbs', 'pronouns', 'capitals', 'digits', 'hashtags',\n",
              "       'URLs', 'ORG_percentage', 'PERSON_percentage', 'Word count',\n",
              "       'Max word length', 'Min word length', 'Average word length',\n",
              "       'present_verbs', 'dots', 'exclamation', 'questions', 'NORP_percentage',\n",
              "       'GPE_percentage', 'MONEY_percentage', 'DATE_percentage',\n",
              "       'CARDINAL_percentage', 'PERCENT_percentage', 'ORDINAL_percentage',\n",
              "       'FAC_percentage', 'LAW_percentage', 'PRODUCT_percentage',\n",
              "       'EVENT_percentage', 'TIME_percentage', 'LOC_percentage',\n",
              "       'WORK_OF_ART_percentage', 'QUANTITY_percentage', 'LANGUAGE_percentage'],\n",
              "      dtype='object')"
            ]
          },
          "metadata": {},
          "execution_count": 31
        }
      ]
    },
    {
      "cell_type": "code",
      "source": [],
      "metadata": {
        "id": "7FVubgDGr1Bb"
      },
      "execution_count": null,
      "outputs": []
    }
  ]
}