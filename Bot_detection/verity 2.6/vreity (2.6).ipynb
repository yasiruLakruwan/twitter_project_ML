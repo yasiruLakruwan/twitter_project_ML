{
  "nbformat": 4,
  "nbformat_minor": 0,
  "metadata": {
    "colab": {
      "provenance": [],
      "gpuType": "T4"
    },
    "kernelspec": {
      "name": "python3",
      "display_name": "Python 3"
    },
    "language_info": {
      "name": "python"
    },
    "accelerator": "GPU"
  },
  "cells": [
    {
      "cell_type": "code",
      "source": [
        "import pandas as pd\n",
        "import numpy as np\n",
        "from sklearn.preprocessing import MinMaxScaler\n",
        "from sklearn.model_selection import train_test_split\n",
        "from sklearn.metrics import accuracy_score, precision_score, recall_score, f1_score, confusion_matrix\n",
        "import tensorflow as tf\n",
        "from tensorflow.keras.preprocessing.text import Tokenizer\n",
        "from tensorflow.keras.preprocessing.sequence import pad_sequences\n",
        "from tensorflow.keras.models import Model\n",
        "from tensorflow.keras.layers import Input, Embedding, LSTM, Dense, Dropout, concatenate\n",
        "from imblearn.over_sampling import SMOTE\n",
        "from sklearn.preprocessing import StandardScaler\n",
        "from tensorflow.keras.callbacks import EarlyStopping\n",
        "from tensorflow.keras.regularizers import l2\n",
        "from sklearn.utils import resample\n"
      ],
      "metadata": {
        "id": "u7azuFl5r1FY"
      },
      "execution_count": 66,
      "outputs": []
    },
    {
      "cell_type": "code",
      "source": [
        "data=pd.read_csv('/content/drive/MyDrive/data/Twitter Analysis.csv')\n",
        "data.head()"
      ],
      "metadata": {
        "colab": {
          "base_uri": "https://localhost:8080/",
          "height": 707
        },
        "id": "uiraEEWat8Sy",
        "outputId": "5603b0b6-71c3-4ad7-c277-a9c261b065e1"
      },
      "execution_count": 67,
      "outputs": [
        {
          "output_type": "execute_result",
          "data": {
            "text/plain": [
              "   Unnamed: 0  majority_target  \\\n",
              "0           0             True   \n",
              "1           1             True   \n",
              "2           2             True   \n",
              "3           3             True   \n",
              "4           4             True   \n",
              "\n",
              "                                           statement  BinaryNumTarget  \\\n",
              "0  End of eviction moratorium means millions of A...              1.0   \n",
              "1  End of eviction moratorium means millions of A...              1.0   \n",
              "2  End of eviction moratorium means millions of A...              1.0   \n",
              "3  End of eviction moratorium means millions of A...              1.0   \n",
              "4  End of eviction moratorium means millions of A...              1.0   \n",
              "\n",
              "                                               tweet  followers_count  \\\n",
              "0  @POTUS Biden Blunders - 6 Month Update\\n\\nInfl...           4262.0   \n",
              "1  @S0SickRick @Stairmaster_ @6d6f636869 Not as m...           1393.0   \n",
              "2  THE SUPREME COURT is siding with super rich pr...              9.0   \n",
              "3  @POTUS Biden Blunders\\n\\nBroken campaign promi...           4262.0   \n",
              "4  @OhComfy I agree. The confluence of events rig...             70.0   \n",
              "\n",
              "   friends_count  favourites_count  statuses_count  listed_count  ...  \\\n",
              "0         3619.0           34945.0         16423.0          44.0  ...   \n",
              "1         1621.0           31436.0         37184.0          64.0  ...   \n",
              "2           84.0             219.0          1184.0           0.0  ...   \n",
              "3         3619.0           34945.0         16423.0          44.0  ...   \n",
              "4          166.0           15282.0          2194.0           0.0  ...   \n",
              "\n",
              "   determiners conjunctions  dots  exclamation  questions  ampersand  \\\n",
              "0            0            0     5            0          1          0   \n",
              "1            0            2     1            0          0          0   \n",
              "2            0            1     0            0          0          0   \n",
              "3            0            1     3            0          0          1   \n",
              "4            0            1     3            0          1          0   \n",
              "\n",
              "   capitals  digits  long_word_freq  short_word_freq  \n",
              "0        33       3               5               19  \n",
              "1        14       0               2               34  \n",
              "2         3       0               4               10  \n",
              "3         6       8               1               30  \n",
              "4        11       3               2               19  \n",
              "\n",
              "[5 rows x 64 columns]"
            ],
            "text/html": [
              "\n",
              "  <div id=\"df-2a443a9f-7943-4e72-975a-23e7e7eb36f5\" class=\"colab-df-container\">\n",
              "    <div>\n",
              "<style scoped>\n",
              "    .dataframe tbody tr th:only-of-type {\n",
              "        vertical-align: middle;\n",
              "    }\n",
              "\n",
              "    .dataframe tbody tr th {\n",
              "        vertical-align: top;\n",
              "    }\n",
              "\n",
              "    .dataframe thead th {\n",
              "        text-align: right;\n",
              "    }\n",
              "</style>\n",
              "<table border=\"1\" class=\"dataframe\">\n",
              "  <thead>\n",
              "    <tr style=\"text-align: right;\">\n",
              "      <th></th>\n",
              "      <th>Unnamed: 0</th>\n",
              "      <th>majority_target</th>\n",
              "      <th>statement</th>\n",
              "      <th>BinaryNumTarget</th>\n",
              "      <th>tweet</th>\n",
              "      <th>followers_count</th>\n",
              "      <th>friends_count</th>\n",
              "      <th>favourites_count</th>\n",
              "      <th>statuses_count</th>\n",
              "      <th>listed_count</th>\n",
              "      <th>...</th>\n",
              "      <th>determiners</th>\n",
              "      <th>conjunctions</th>\n",
              "      <th>dots</th>\n",
              "      <th>exclamation</th>\n",
              "      <th>questions</th>\n",
              "      <th>ampersand</th>\n",
              "      <th>capitals</th>\n",
              "      <th>digits</th>\n",
              "      <th>long_word_freq</th>\n",
              "      <th>short_word_freq</th>\n",
              "    </tr>\n",
              "  </thead>\n",
              "  <tbody>\n",
              "    <tr>\n",
              "      <th>0</th>\n",
              "      <td>0</td>\n",
              "      <td>True</td>\n",
              "      <td>End of eviction moratorium means millions of A...</td>\n",
              "      <td>1.0</td>\n",
              "      <td>@POTUS Biden Blunders - 6 Month Update\\n\\nInfl...</td>\n",
              "      <td>4262.0</td>\n",
              "      <td>3619.0</td>\n",
              "      <td>34945.0</td>\n",
              "      <td>16423.0</td>\n",
              "      <td>44.0</td>\n",
              "      <td>...</td>\n",
              "      <td>0</td>\n",
              "      <td>0</td>\n",
              "      <td>5</td>\n",
              "      <td>0</td>\n",
              "      <td>1</td>\n",
              "      <td>0</td>\n",
              "      <td>33</td>\n",
              "      <td>3</td>\n",
              "      <td>5</td>\n",
              "      <td>19</td>\n",
              "    </tr>\n",
              "    <tr>\n",
              "      <th>1</th>\n",
              "      <td>1</td>\n",
              "      <td>True</td>\n",
              "      <td>End of eviction moratorium means millions of A...</td>\n",
              "      <td>1.0</td>\n",
              "      <td>@S0SickRick @Stairmaster_ @6d6f636869 Not as m...</td>\n",
              "      <td>1393.0</td>\n",
              "      <td>1621.0</td>\n",
              "      <td>31436.0</td>\n",
              "      <td>37184.0</td>\n",
              "      <td>64.0</td>\n",
              "      <td>...</td>\n",
              "      <td>0</td>\n",
              "      <td>2</td>\n",
              "      <td>1</td>\n",
              "      <td>0</td>\n",
              "      <td>0</td>\n",
              "      <td>0</td>\n",
              "      <td>14</td>\n",
              "      <td>0</td>\n",
              "      <td>2</td>\n",
              "      <td>34</td>\n",
              "    </tr>\n",
              "    <tr>\n",
              "      <th>2</th>\n",
              "      <td>2</td>\n",
              "      <td>True</td>\n",
              "      <td>End of eviction moratorium means millions of A...</td>\n",
              "      <td>1.0</td>\n",
              "      <td>THE SUPREME COURT is siding with super rich pr...</td>\n",
              "      <td>9.0</td>\n",
              "      <td>84.0</td>\n",
              "      <td>219.0</td>\n",
              "      <td>1184.0</td>\n",
              "      <td>0.0</td>\n",
              "      <td>...</td>\n",
              "      <td>0</td>\n",
              "      <td>1</td>\n",
              "      <td>0</td>\n",
              "      <td>0</td>\n",
              "      <td>0</td>\n",
              "      <td>0</td>\n",
              "      <td>3</td>\n",
              "      <td>0</td>\n",
              "      <td>4</td>\n",
              "      <td>10</td>\n",
              "    </tr>\n",
              "    <tr>\n",
              "      <th>3</th>\n",
              "      <td>3</td>\n",
              "      <td>True</td>\n",
              "      <td>End of eviction moratorium means millions of A...</td>\n",
              "      <td>1.0</td>\n",
              "      <td>@POTUS Biden Blunders\\n\\nBroken campaign promi...</td>\n",
              "      <td>4262.0</td>\n",
              "      <td>3619.0</td>\n",
              "      <td>34945.0</td>\n",
              "      <td>16423.0</td>\n",
              "      <td>44.0</td>\n",
              "      <td>...</td>\n",
              "      <td>0</td>\n",
              "      <td>1</td>\n",
              "      <td>3</td>\n",
              "      <td>0</td>\n",
              "      <td>0</td>\n",
              "      <td>1</td>\n",
              "      <td>6</td>\n",
              "      <td>8</td>\n",
              "      <td>1</td>\n",
              "      <td>30</td>\n",
              "    </tr>\n",
              "    <tr>\n",
              "      <th>4</th>\n",
              "      <td>4</td>\n",
              "      <td>True</td>\n",
              "      <td>End of eviction moratorium means millions of A...</td>\n",
              "      <td>1.0</td>\n",
              "      <td>@OhComfy I agree. The confluence of events rig...</td>\n",
              "      <td>70.0</td>\n",
              "      <td>166.0</td>\n",
              "      <td>15282.0</td>\n",
              "      <td>2194.0</td>\n",
              "      <td>0.0</td>\n",
              "      <td>...</td>\n",
              "      <td>0</td>\n",
              "      <td>1</td>\n",
              "      <td>3</td>\n",
              "      <td>0</td>\n",
              "      <td>1</td>\n",
              "      <td>0</td>\n",
              "      <td>11</td>\n",
              "      <td>3</td>\n",
              "      <td>2</td>\n",
              "      <td>19</td>\n",
              "    </tr>\n",
              "  </tbody>\n",
              "</table>\n",
              "<p>5 rows × 64 columns</p>\n",
              "</div>\n",
              "    <div class=\"colab-df-buttons\">\n",
              "\n",
              "  <div class=\"colab-df-container\">\n",
              "    <button class=\"colab-df-convert\" onclick=\"convertToInteractive('df-2a443a9f-7943-4e72-975a-23e7e7eb36f5')\"\n",
              "            title=\"Convert this dataframe to an interactive table.\"\n",
              "            style=\"display:none;\">\n",
              "\n",
              "  <svg xmlns=\"http://www.w3.org/2000/svg\" height=\"24px\" viewBox=\"0 -960 960 960\">\n",
              "    <path d=\"M120-120v-720h720v720H120Zm60-500h600v-160H180v160Zm220 220h160v-160H400v160Zm0 220h160v-160H400v160ZM180-400h160v-160H180v160Zm440 0h160v-160H620v160ZM180-180h160v-160H180v160Zm440 0h160v-160H620v160Z\"/>\n",
              "  </svg>\n",
              "    </button>\n",
              "\n",
              "  <style>\n",
              "    .colab-df-container {\n",
              "      display:flex;\n",
              "      gap: 12px;\n",
              "    }\n",
              "\n",
              "    .colab-df-convert {\n",
              "      background-color: #E8F0FE;\n",
              "      border: none;\n",
              "      border-radius: 50%;\n",
              "      cursor: pointer;\n",
              "      display: none;\n",
              "      fill: #1967D2;\n",
              "      height: 32px;\n",
              "      padding: 0 0 0 0;\n",
              "      width: 32px;\n",
              "    }\n",
              "\n",
              "    .colab-df-convert:hover {\n",
              "      background-color: #E2EBFA;\n",
              "      box-shadow: 0px 1px 2px rgba(60, 64, 67, 0.3), 0px 1px 3px 1px rgba(60, 64, 67, 0.15);\n",
              "      fill: #174EA6;\n",
              "    }\n",
              "\n",
              "    .colab-df-buttons div {\n",
              "      margin-bottom: 4px;\n",
              "    }\n",
              "\n",
              "    [theme=dark] .colab-df-convert {\n",
              "      background-color: #3B4455;\n",
              "      fill: #D2E3FC;\n",
              "    }\n",
              "\n",
              "    [theme=dark] .colab-df-convert:hover {\n",
              "      background-color: #434B5C;\n",
              "      box-shadow: 0px 1px 3px 1px rgba(0, 0, 0, 0.15);\n",
              "      filter: drop-shadow(0px 1px 2px rgba(0, 0, 0, 0.3));\n",
              "      fill: #FFFFFF;\n",
              "    }\n",
              "  </style>\n",
              "\n",
              "    <script>\n",
              "      const buttonEl =\n",
              "        document.querySelector('#df-2a443a9f-7943-4e72-975a-23e7e7eb36f5 button.colab-df-convert');\n",
              "      buttonEl.style.display =\n",
              "        google.colab.kernel.accessAllowed ? 'block' : 'none';\n",
              "\n",
              "      async function convertToInteractive(key) {\n",
              "        const element = document.querySelector('#df-2a443a9f-7943-4e72-975a-23e7e7eb36f5');\n",
              "        const dataTable =\n",
              "          await google.colab.kernel.invokeFunction('convertToInteractive',\n",
              "                                                    [key], {});\n",
              "        if (!dataTable) return;\n",
              "\n",
              "        const docLinkHtml = 'Like what you see? Visit the ' +\n",
              "          '<a target=\"_blank\" href=https://colab.research.google.com/notebooks/data_table.ipynb>data table notebook</a>'\n",
              "          + ' to learn more about interactive tables.';\n",
              "        element.innerHTML = '';\n",
              "        dataTable['output_type'] = 'display_data';\n",
              "        await google.colab.output.renderOutput(dataTable, element);\n",
              "        const docLink = document.createElement('div');\n",
              "        docLink.innerHTML = docLinkHtml;\n",
              "        element.appendChild(docLink);\n",
              "      }\n",
              "    </script>\n",
              "  </div>\n",
              "\n",
              "\n",
              "<div id=\"df-60c02c1e-f95c-4281-8634-d89544e8de6b\">\n",
              "  <button class=\"colab-df-quickchart\" onclick=\"quickchart('df-60c02c1e-f95c-4281-8634-d89544e8de6b')\"\n",
              "            title=\"Suggest charts\"\n",
              "            style=\"display:none;\">\n",
              "\n",
              "<svg xmlns=\"http://www.w3.org/2000/svg\" height=\"24px\"viewBox=\"0 0 24 24\"\n",
              "     width=\"24px\">\n",
              "    <g>\n",
              "        <path d=\"M19 3H5c-1.1 0-2 .9-2 2v14c0 1.1.9 2 2 2h14c1.1 0 2-.9 2-2V5c0-1.1-.9-2-2-2zM9 17H7v-7h2v7zm4 0h-2V7h2v10zm4 0h-2v-4h2v4z\"/>\n",
              "    </g>\n",
              "</svg>\n",
              "  </button>\n",
              "\n",
              "<style>\n",
              "  .colab-df-quickchart {\n",
              "      --bg-color: #E8F0FE;\n",
              "      --fill-color: #1967D2;\n",
              "      --hover-bg-color: #E2EBFA;\n",
              "      --hover-fill-color: #174EA6;\n",
              "      --disabled-fill-color: #AAA;\n",
              "      --disabled-bg-color: #DDD;\n",
              "  }\n",
              "\n",
              "  [theme=dark] .colab-df-quickchart {\n",
              "      --bg-color: #3B4455;\n",
              "      --fill-color: #D2E3FC;\n",
              "      --hover-bg-color: #434B5C;\n",
              "      --hover-fill-color: #FFFFFF;\n",
              "      --disabled-bg-color: #3B4455;\n",
              "      --disabled-fill-color: #666;\n",
              "  }\n",
              "\n",
              "  .colab-df-quickchart {\n",
              "    background-color: var(--bg-color);\n",
              "    border: none;\n",
              "    border-radius: 50%;\n",
              "    cursor: pointer;\n",
              "    display: none;\n",
              "    fill: var(--fill-color);\n",
              "    height: 32px;\n",
              "    padding: 0;\n",
              "    width: 32px;\n",
              "  }\n",
              "\n",
              "  .colab-df-quickchart:hover {\n",
              "    background-color: var(--hover-bg-color);\n",
              "    box-shadow: 0 1px 2px rgba(60, 64, 67, 0.3), 0 1px 3px 1px rgba(60, 64, 67, 0.15);\n",
              "    fill: var(--button-hover-fill-color);\n",
              "  }\n",
              "\n",
              "  .colab-df-quickchart-complete:disabled,\n",
              "  .colab-df-quickchart-complete:disabled:hover {\n",
              "    background-color: var(--disabled-bg-color);\n",
              "    fill: var(--disabled-fill-color);\n",
              "    box-shadow: none;\n",
              "  }\n",
              "\n",
              "  .colab-df-spinner {\n",
              "    border: 2px solid var(--fill-color);\n",
              "    border-color: transparent;\n",
              "    border-bottom-color: var(--fill-color);\n",
              "    animation:\n",
              "      spin 1s steps(1) infinite;\n",
              "  }\n",
              "\n",
              "  @keyframes spin {\n",
              "    0% {\n",
              "      border-color: transparent;\n",
              "      border-bottom-color: var(--fill-color);\n",
              "      border-left-color: var(--fill-color);\n",
              "    }\n",
              "    20% {\n",
              "      border-color: transparent;\n",
              "      border-left-color: var(--fill-color);\n",
              "      border-top-color: var(--fill-color);\n",
              "    }\n",
              "    30% {\n",
              "      border-color: transparent;\n",
              "      border-left-color: var(--fill-color);\n",
              "      border-top-color: var(--fill-color);\n",
              "      border-right-color: var(--fill-color);\n",
              "    }\n",
              "    40% {\n",
              "      border-color: transparent;\n",
              "      border-right-color: var(--fill-color);\n",
              "      border-top-color: var(--fill-color);\n",
              "    }\n",
              "    60% {\n",
              "      border-color: transparent;\n",
              "      border-right-color: var(--fill-color);\n",
              "    }\n",
              "    80% {\n",
              "      border-color: transparent;\n",
              "      border-right-color: var(--fill-color);\n",
              "      border-bottom-color: var(--fill-color);\n",
              "    }\n",
              "    90% {\n",
              "      border-color: transparent;\n",
              "      border-bottom-color: var(--fill-color);\n",
              "    }\n",
              "  }\n",
              "</style>\n",
              "\n",
              "  <script>\n",
              "    async function quickchart(key) {\n",
              "      const quickchartButtonEl =\n",
              "        document.querySelector('#' + key + ' button');\n",
              "      quickchartButtonEl.disabled = true;  // To prevent multiple clicks.\n",
              "      quickchartButtonEl.classList.add('colab-df-spinner');\n",
              "      try {\n",
              "        const charts = await google.colab.kernel.invokeFunction(\n",
              "            'suggestCharts', [key], {});\n",
              "      } catch (error) {\n",
              "        console.error('Error during call to suggestCharts:', error);\n",
              "      }\n",
              "      quickchartButtonEl.classList.remove('colab-df-spinner');\n",
              "      quickchartButtonEl.classList.add('colab-df-quickchart-complete');\n",
              "    }\n",
              "    (() => {\n",
              "      let quickchartButtonEl =\n",
              "        document.querySelector('#df-60c02c1e-f95c-4281-8634-d89544e8de6b button');\n",
              "      quickchartButtonEl.style.display =\n",
              "        google.colab.kernel.accessAllowed ? 'block' : 'none';\n",
              "    })();\n",
              "  </script>\n",
              "</div>\n",
              "\n",
              "    </div>\n",
              "  </div>\n"
            ],
            "application/vnd.google.colaboratory.intrinsic+json": {
              "type": "dataframe",
              "variable_name": "data"
            }
          },
          "metadata": {},
          "execution_count": 67
        }
      ]
    },
    {
      "cell_type": "code",
      "source": [
        "data.columns"
      ],
      "metadata": {
        "colab": {
          "base_uri": "https://localhost:8080/"
        },
        "id": "SQbdMuCBuDmy",
        "outputId": "2f2a5f90-39b4-460d-ae3a-051119ef90fc"
      },
      "execution_count": 68,
      "outputs": [
        {
          "output_type": "execute_result",
          "data": {
            "text/plain": [
              "Index(['Unnamed: 0', 'majority_target', 'statement', 'BinaryNumTarget',\n",
              "       'tweet', 'followers_count', 'friends_count', 'favourites_count',\n",
              "       'statuses_count', 'listed_count', 'following', 'embeddings', 'BotScore',\n",
              "       'BotScoreBinary', 'cred', 'normalize_influence', 'mentions', 'quotes',\n",
              "       'replies', 'retweets', 'favourites', 'hashtags', 'URLs', 'unique_count',\n",
              "       'total_count', 'ORG_percentage', 'NORP_percentage', 'GPE_percentage',\n",
              "       'PERSON_percentage', 'MONEY_percentage', 'DATE_percentage',\n",
              "       'CARDINAL_percentage', 'PERCENT_percentage', 'ORDINAL_percentage',\n",
              "       'FAC_percentage', 'LAW_percentage', 'PRODUCT_percentage',\n",
              "       'EVENT_percentage', 'TIME_percentage', 'LOC_percentage',\n",
              "       'WORK_OF_ART_percentage', 'QUANTITY_percentage', 'LANGUAGE_percentage',\n",
              "       'Word count', 'Max word length', 'Min word length',\n",
              "       'Average word length', 'present_verbs', 'past_verbs', 'adjectives',\n",
              "       'adverbs', 'adpositions', 'pronouns', 'TOs', 'determiners',\n",
              "       'conjunctions', 'dots', 'exclamation', 'questions', 'ampersand',\n",
              "       'capitals', 'digits', 'long_word_freq', 'short_word_freq'],\n",
              "      dtype='object')"
            ]
          },
          "metadata": {},
          "execution_count": 68
        }
      ]
    },
    {
      "cell_type": "code",
      "source": [
        "# Prepare tweet data for model\n",
        "max_words = 1000  # Max number of words to keep in Tokenizer\n",
        "max_seq_length = 100  # Max sequence length for padding"
      ],
      "metadata": {
        "id": "anXp5e014XPK"
      },
      "execution_count": 69,
      "outputs": []
    },
    {
      "cell_type": "code",
      "source": [
        "# Separate data into '0' and '1' classes\n",
        "data_0 = data[data['BotScoreBinary'] == 0]\n",
        "data_1 = data[data['BotScoreBinary'] == 1]\n"
      ],
      "metadata": {
        "id": "Rr3eZz3OuMnw"
      },
      "execution_count": 70,
      "outputs": []
    },
    {
      "cell_type": "code",
      "source": [
        "# Randomly select 20,000 rows from '0' class if available\n",
        "if len(data_0) > 20000:\n",
        "    data_0 = data_0.sample(n=20000, random_state=42)"
      ],
      "metadata": {
        "id": "52yTCQAquPaR"
      },
      "execution_count": 71,
      "outputs": []
    },
    {
      "cell_type": "code",
      "source": [
        "# Randomly oversample the minority class to match the majority class\n",
        "data_1_oversampled = resample(data_1,\n",
        "                              replace=True,    # Sample with replacement\n",
        "                              n_samples=len(data_0),  # Match number of majority class\n",
        "                              random_state=42)  # For reproducibility\n",
        "\n",
        "# Combine the majority class with the oversampled minority class\n",
        "data_balanced = pd.concat([data_0, data_1_oversampled])"
      ],
      "metadata": {
        "id": "Vfw-K10Awzlh"
      },
      "execution_count": 72,
      "outputs": []
    },
    {
      "cell_type": "code",
      "source": [
        "# Shuffle the combined dataset to mix the samples\n",
        "data_balanced = data_balanced.sample(frac=1, random_state=42).reset_index(drop=True)\n",
        "\n",
        "# Separate features and target\n",
        "x_balanced = data_balanced.drop(columns=['BotScoreBinary'])\n",
        "y_balanced = data_balanced['BotScoreBinary']"
      ],
      "metadata": {
        "id": "fX4vs0ZXxFZo"
      },
      "execution_count": 73,
      "outputs": []
    },
    {
      "cell_type": "code",
      "source": [
        "num_rows = y_balanced.shape[0]\n",
        "print(f'Number of rows: {num_rows}')\n"
      ],
      "metadata": {
        "colab": {
          "base_uri": "https://localhost:8080/"
        },
        "id": "aqYQARe90XqJ",
        "outputId": "b5c960cb-0e8e-4abd-94f3-e49e2b8757d6"
      },
      "execution_count": 74,
      "outputs": [
        {
          "output_type": "stream",
          "name": "stdout",
          "text": [
            "Number of rows: 40000\n"
          ]
        }
      ]
    },
    {
      "cell_type": "code",
      "source": [
        "import re\n",
        "\n",
        "def clean_text(text):\n",
        "    text = re.sub(r'\\d+', '', text)  # Remove digits\n",
        "    text = re.sub(r'[^\\w\\s]', '', text)  # Remove punctuation\n",
        "    text = re.sub(r'\\s+', ' ', text)  # Remove multiple spaces\n",
        "    text = text.lower().strip()  # Convert to lowercase and strip leading/trailing spaces\n",
        "    return text\n",
        "\n",
        "data['tweet'] = data['tweet'].apply(clean_text)"
      ],
      "metadata": {
        "id": "LqASedJUP8iq"
      },
      "execution_count": 75,
      "outputs": []
    },
    {
      "cell_type": "code",
      "source": [
        "# Preprocess text data (same as before)\n",
        "tokenizer = Tokenizer(num_words=max_words)\n",
        "tokenizer.fit_on_texts(x_balanced['tweet'])\n",
        "sequences_balanced = tokenizer.texts_to_sequences(x_balanced['tweet'])\n",
        "x_text_balanced = pad_sequences(sequences_balanced, maxlen=max_seq_length)"
      ],
      "metadata": {
        "id": "f_MTIyy-ukL_"
      },
      "execution_count": 76,
      "outputs": []
    },
    {
      "cell_type": "code",
      "source": [
        "scaler = StandardScaler()"
      ],
      "metadata": {
        "id": "8ZD0nrJZukKt"
      },
      "execution_count": 77,
      "outputs": []
    },
    {
      "cell_type": "code",
      "source": [
        "numeric_features = [\n",
        "    'retweets',\n",
        "    'mentions',\n",
        "    'hashtags',\n",
        "    'ORG_percentage',\n",
        "    'PERSON_percentage'\n",
        "]"
      ],
      "metadata": {
        "id": "qUhJ1fvy2ksR"
      },
      "execution_count": 78,
      "outputs": []
    },
    {
      "cell_type": "code",
      "source": [
        "import joblib\n",
        "# Save the scaler to a file\n",
        "scaler_filename = \"function2_scaler.pkl\"\n",
        "joblib.dump(scaler, scaler_filename)"
      ],
      "metadata": {
        "colab": {
          "base_uri": "https://localhost:8080/"
        },
        "id": "EejW46R1UIy6",
        "outputId": "c3bd5249-50c7-4ba4-c6e3-f85aca3ab31c"
      },
      "execution_count": 79,
      "outputs": [
        {
          "output_type": "execute_result",
          "data": {
            "text/plain": [
              "['function2_scaler.pkl']"
            ]
          },
          "metadata": {},
          "execution_count": 79
        }
      ]
    },
    {
      "cell_type": "code",
      "source": [
        "# Scale numeric features (same as before)\n",
        "x_numeric_balanced = data_balanced[numeric_features].values\n",
        "x_numeric_balanced_scaled = scaler.fit_transform(x_numeric_balanced)"
      ],
      "metadata": {
        "id": "Nkx5oIs514dp"
      },
      "execution_count": 80,
      "outputs": []
    },
    {
      "cell_type": "code",
      "source": [
        "# Split balanced data into training and testing sets\n",
        "x_train_text, x_test_text, x_train_numeric, x_test_numeric, y_train, y_test = train_test_split(\n",
        "    x_text_balanced, x_numeric_balanced_scaled, y_balanced, test_size=0.2, random_state=42)"
      ],
      "metadata": {
        "id": "GZOHa3I62lxo"
      },
      "execution_count": 81,
      "outputs": []
    },
    {
      "cell_type": "code",
      "source": [
        "# Define model parameters\n",
        "embedding_dim = 128\n",
        "lstm_units = 64\n",
        "dense_units = 64\n",
        "dropout_rate = 0.2\n",
        "l2_lambda = 0.01\n",
        "max_seq_length = 100\n",
        "max_words = 1000\n",
        "num_numeric_features = 5"
      ],
      "metadata": {
        "id": "tEav8NIJ2wSg"
      },
      "execution_count": 82,
      "outputs": []
    },
    {
      "cell_type": "code",
      "source": [
        "# Define text input (tweets)\n",
        "text_input = Input(shape=(max_seq_length,), name='text_input')  # (100,)\n",
        "embedding_layer = Embedding(input_dim=max_words, output_dim=embedding_dim, input_length=max_seq_length)(text_input)\n",
        "lstm_layer = LSTM(units=lstm_units, return_sequences=False)(embedding_layer)\n"
      ],
      "metadata": {
        "id": "190lfESZ4K0A",
        "colab": {
          "base_uri": "https://localhost:8080/"
        },
        "outputId": "c073cc55-158a-4fa2-939f-4cf73d3d707c"
      },
      "execution_count": 83,
      "outputs": [
        {
          "output_type": "stream",
          "name": "stderr",
          "text": [
            "/usr/local/lib/python3.10/dist-packages/keras/src/layers/core/embedding.py:90: UserWarning: Argument `input_length` is deprecated. Just remove it.\n",
            "  warnings.warn(\n"
          ]
        }
      ]
    },
    {
      "cell_type": "code",
      "source": [
        "# Define numeric input (other features)\n",
        "numeric_input = Input(shape=(num_numeric_features,), name='numeric_input')  # (5,)\n",
        "dense_layer_numeric = Dense(units=dense_units, activation='relu', kernel_regularizer=tf.keras.regularizers.l2(l2_lambda))(numeric_input)\n"
      ],
      "metadata": {
        "id": "Ze4ODY6l4aYA"
      },
      "execution_count": 84,
      "outputs": []
    },
    {
      "cell_type": "code",
      "source": [
        "# Combine LSTM output and numeric features\n",
        "combined = concatenate([lstm_layer, dense_layer_numeric])\n",
        "\n",
        "# Add additional dense layers\n",
        "dense_combined = Dense(units=dense_units, activation='relu', kernel_regularizer=l2(l2_lambda))(combined)\n",
        "dropout_combined = Dropout(rate=dropout_rate)(dense_combined)\n",
        "\n",
        "# Output layer for binary classification\n",
        "output = Dense(units=1, activation='sigmoid')(dropout_combined)"
      ],
      "metadata": {
        "id": "T9IzdHzf4cuJ"
      },
      "execution_count": 85,
      "outputs": []
    },
    {
      "cell_type": "code",
      "source": [
        "# Define the model\n",
        "model = Model(inputs=[text_input, numeric_input], outputs=output)\n"
      ],
      "metadata": {
        "id": "aLY0O5rM4gOw"
      },
      "execution_count": 86,
      "outputs": []
    },
    {
      "cell_type": "code",
      "source": [
        "# Compile the model\n",
        "model.compile(optimizer='adam', loss='binary_crossentropy', metrics=['accuracy'])\n",
        "\n",
        "# Print model summary\n",
        "model.summary()"
      ],
      "metadata": {
        "colab": {
          "base_uri": "https://localhost:8080/",
          "height": 476
        },
        "id": "JcQnW9yc4iYA",
        "outputId": "46c8290b-eef9-4004-f173-85100dcfca70"
      },
      "execution_count": 87,
      "outputs": [
        {
          "output_type": "display_data",
          "data": {
            "text/plain": [
              "\u001b[1mModel: \"functional_2\"\u001b[0m\n"
            ],
            "text/html": [
              "<pre style=\"white-space:pre;overflow-x:auto;line-height:normal;font-family:Menlo,'DejaVu Sans Mono',consolas,'Courier New',monospace\"><span style=\"font-weight: bold\">Model: \"functional_2\"</span>\n",
              "</pre>\n"
            ]
          },
          "metadata": {}
        },
        {
          "output_type": "display_data",
          "data": {
            "text/plain": [
              "┏━━━━━━━━━━━━━━━━━━━━━━━━━━━┳━━━━━━━━━━━━━━━━━━━━━━━━┳━━━━━━━━━━━━━━━━┳━━━━━━━━━━━━━━━━━━━━━━━━┓\n",
              "┃\u001b[1m \u001b[0m\u001b[1mLayer (type)             \u001b[0m\u001b[1m \u001b[0m┃\u001b[1m \u001b[0m\u001b[1mOutput Shape          \u001b[0m\u001b[1m \u001b[0m┃\u001b[1m \u001b[0m\u001b[1m       Param #\u001b[0m\u001b[1m \u001b[0m┃\u001b[1m \u001b[0m\u001b[1mConnected to          \u001b[0m\u001b[1m \u001b[0m┃\n",
              "┡━━━━━━━━━━━━━━━━━━━━━━━━━━━╇━━━━━━━━━━━━━━━━━━━━━━━━╇━━━━━━━━━━━━━━━━╇━━━━━━━━━━━━━━━━━━━━━━━━┩\n",
              "│ text_input (\u001b[38;5;33mInputLayer\u001b[0m)   │ (\u001b[38;5;45mNone\u001b[0m, \u001b[38;5;34m100\u001b[0m)            │              \u001b[38;5;34m0\u001b[0m │ -                      │\n",
              "├───────────────────────────┼────────────────────────┼────────────────┼────────────────────────┤\n",
              "│ embedding_2 (\u001b[38;5;33mEmbedding\u001b[0m)   │ (\u001b[38;5;45mNone\u001b[0m, \u001b[38;5;34m100\u001b[0m, \u001b[38;5;34m128\u001b[0m)       │        \u001b[38;5;34m128,000\u001b[0m │ text_input[\u001b[38;5;34m0\u001b[0m][\u001b[38;5;34m0\u001b[0m]       │\n",
              "├───────────────────────────┼────────────────────────┼────────────────┼────────────────────────┤\n",
              "│ numeric_input             │ (\u001b[38;5;45mNone\u001b[0m, \u001b[38;5;34m5\u001b[0m)              │              \u001b[38;5;34m0\u001b[0m │ -                      │\n",
              "│ (\u001b[38;5;33mInputLayer\u001b[0m)              │                        │                │                        │\n",
              "├───────────────────────────┼────────────────────────┼────────────────┼────────────────────────┤\n",
              "│ lstm_2 (\u001b[38;5;33mLSTM\u001b[0m)             │ (\u001b[38;5;45mNone\u001b[0m, \u001b[38;5;34m64\u001b[0m)             │         \u001b[38;5;34m49,408\u001b[0m │ embedding_2[\u001b[38;5;34m0\u001b[0m][\u001b[38;5;34m0\u001b[0m]      │\n",
              "├───────────────────────────┼────────────────────────┼────────────────┼────────────────────────┤\n",
              "│ dense_6 (\u001b[38;5;33mDense\u001b[0m)           │ (\u001b[38;5;45mNone\u001b[0m, \u001b[38;5;34m64\u001b[0m)             │            \u001b[38;5;34m384\u001b[0m │ numeric_input[\u001b[38;5;34m0\u001b[0m][\u001b[38;5;34m0\u001b[0m]    │\n",
              "├───────────────────────────┼────────────────────────┼────────────────┼────────────────────────┤\n",
              "│ concatenate_2             │ (\u001b[38;5;45mNone\u001b[0m, \u001b[38;5;34m128\u001b[0m)            │              \u001b[38;5;34m0\u001b[0m │ lstm_2[\u001b[38;5;34m0\u001b[0m][\u001b[38;5;34m0\u001b[0m],          │\n",
              "│ (\u001b[38;5;33mConcatenate\u001b[0m)             │                        │                │ dense_6[\u001b[38;5;34m0\u001b[0m][\u001b[38;5;34m0\u001b[0m]          │\n",
              "├───────────────────────────┼────────────────────────┼────────────────┼────────────────────────┤\n",
              "│ dense_7 (\u001b[38;5;33mDense\u001b[0m)           │ (\u001b[38;5;45mNone\u001b[0m, \u001b[38;5;34m64\u001b[0m)             │          \u001b[38;5;34m8,256\u001b[0m │ concatenate_2[\u001b[38;5;34m0\u001b[0m][\u001b[38;5;34m0\u001b[0m]    │\n",
              "├───────────────────────────┼────────────────────────┼────────────────┼────────────────────────┤\n",
              "│ dropout_2 (\u001b[38;5;33mDropout\u001b[0m)       │ (\u001b[38;5;45mNone\u001b[0m, \u001b[38;5;34m64\u001b[0m)             │              \u001b[38;5;34m0\u001b[0m │ dense_7[\u001b[38;5;34m0\u001b[0m][\u001b[38;5;34m0\u001b[0m]          │\n",
              "├───────────────────────────┼────────────────────────┼────────────────┼────────────────────────┤\n",
              "│ dense_8 (\u001b[38;5;33mDense\u001b[0m)           │ (\u001b[38;5;45mNone\u001b[0m, \u001b[38;5;34m1\u001b[0m)              │             \u001b[38;5;34m65\u001b[0m │ dropout_2[\u001b[38;5;34m0\u001b[0m][\u001b[38;5;34m0\u001b[0m]        │\n",
              "└───────────────────────────┴────────────────────────┴────────────────┴────────────────────────┘\n"
            ],
            "text/html": [
              "<pre style=\"white-space:pre;overflow-x:auto;line-height:normal;font-family:Menlo,'DejaVu Sans Mono',consolas,'Courier New',monospace\">┏━━━━━━━━━━━━━━━━━━━━━━━━━━━┳━━━━━━━━━━━━━━━━━━━━━━━━┳━━━━━━━━━━━━━━━━┳━━━━━━━━━━━━━━━━━━━━━━━━┓\n",
              "┃<span style=\"font-weight: bold\"> Layer (type)              </span>┃<span style=\"font-weight: bold\"> Output Shape           </span>┃<span style=\"font-weight: bold\">        Param # </span>┃<span style=\"font-weight: bold\"> Connected to           </span>┃\n",
              "┡━━━━━━━━━━━━━━━━━━━━━━━━━━━╇━━━━━━━━━━━━━━━━━━━━━━━━╇━━━━━━━━━━━━━━━━╇━━━━━━━━━━━━━━━━━━━━━━━━┩\n",
              "│ text_input (<span style=\"color: #0087ff; text-decoration-color: #0087ff\">InputLayer</span>)   │ (<span style=\"color: #00d7ff; text-decoration-color: #00d7ff\">None</span>, <span style=\"color: #00af00; text-decoration-color: #00af00\">100</span>)            │              <span style=\"color: #00af00; text-decoration-color: #00af00\">0</span> │ -                      │\n",
              "├───────────────────────────┼────────────────────────┼────────────────┼────────────────────────┤\n",
              "│ embedding_2 (<span style=\"color: #0087ff; text-decoration-color: #0087ff\">Embedding</span>)   │ (<span style=\"color: #00d7ff; text-decoration-color: #00d7ff\">None</span>, <span style=\"color: #00af00; text-decoration-color: #00af00\">100</span>, <span style=\"color: #00af00; text-decoration-color: #00af00\">128</span>)       │        <span style=\"color: #00af00; text-decoration-color: #00af00\">128,000</span> │ text_input[<span style=\"color: #00af00; text-decoration-color: #00af00\">0</span>][<span style=\"color: #00af00; text-decoration-color: #00af00\">0</span>]       │\n",
              "├───────────────────────────┼────────────────────────┼────────────────┼────────────────────────┤\n",
              "│ numeric_input             │ (<span style=\"color: #00d7ff; text-decoration-color: #00d7ff\">None</span>, <span style=\"color: #00af00; text-decoration-color: #00af00\">5</span>)              │              <span style=\"color: #00af00; text-decoration-color: #00af00\">0</span> │ -                      │\n",
              "│ (<span style=\"color: #0087ff; text-decoration-color: #0087ff\">InputLayer</span>)              │                        │                │                        │\n",
              "├───────────────────────────┼────────────────────────┼────────────────┼────────────────────────┤\n",
              "│ lstm_2 (<span style=\"color: #0087ff; text-decoration-color: #0087ff\">LSTM</span>)             │ (<span style=\"color: #00d7ff; text-decoration-color: #00d7ff\">None</span>, <span style=\"color: #00af00; text-decoration-color: #00af00\">64</span>)             │         <span style=\"color: #00af00; text-decoration-color: #00af00\">49,408</span> │ embedding_2[<span style=\"color: #00af00; text-decoration-color: #00af00\">0</span>][<span style=\"color: #00af00; text-decoration-color: #00af00\">0</span>]      │\n",
              "├───────────────────────────┼────────────────────────┼────────────────┼────────────────────────┤\n",
              "│ dense_6 (<span style=\"color: #0087ff; text-decoration-color: #0087ff\">Dense</span>)           │ (<span style=\"color: #00d7ff; text-decoration-color: #00d7ff\">None</span>, <span style=\"color: #00af00; text-decoration-color: #00af00\">64</span>)             │            <span style=\"color: #00af00; text-decoration-color: #00af00\">384</span> │ numeric_input[<span style=\"color: #00af00; text-decoration-color: #00af00\">0</span>][<span style=\"color: #00af00; text-decoration-color: #00af00\">0</span>]    │\n",
              "├───────────────────────────┼────────────────────────┼────────────────┼────────────────────────┤\n",
              "│ concatenate_2             │ (<span style=\"color: #00d7ff; text-decoration-color: #00d7ff\">None</span>, <span style=\"color: #00af00; text-decoration-color: #00af00\">128</span>)            │              <span style=\"color: #00af00; text-decoration-color: #00af00\">0</span> │ lstm_2[<span style=\"color: #00af00; text-decoration-color: #00af00\">0</span>][<span style=\"color: #00af00; text-decoration-color: #00af00\">0</span>],          │\n",
              "│ (<span style=\"color: #0087ff; text-decoration-color: #0087ff\">Concatenate</span>)             │                        │                │ dense_6[<span style=\"color: #00af00; text-decoration-color: #00af00\">0</span>][<span style=\"color: #00af00; text-decoration-color: #00af00\">0</span>]          │\n",
              "├───────────────────────────┼────────────────────────┼────────────────┼────────────────────────┤\n",
              "│ dense_7 (<span style=\"color: #0087ff; text-decoration-color: #0087ff\">Dense</span>)           │ (<span style=\"color: #00d7ff; text-decoration-color: #00d7ff\">None</span>, <span style=\"color: #00af00; text-decoration-color: #00af00\">64</span>)             │          <span style=\"color: #00af00; text-decoration-color: #00af00\">8,256</span> │ concatenate_2[<span style=\"color: #00af00; text-decoration-color: #00af00\">0</span>][<span style=\"color: #00af00; text-decoration-color: #00af00\">0</span>]    │\n",
              "├───────────────────────────┼────────────────────────┼────────────────┼────────────────────────┤\n",
              "│ dropout_2 (<span style=\"color: #0087ff; text-decoration-color: #0087ff\">Dropout</span>)       │ (<span style=\"color: #00d7ff; text-decoration-color: #00d7ff\">None</span>, <span style=\"color: #00af00; text-decoration-color: #00af00\">64</span>)             │              <span style=\"color: #00af00; text-decoration-color: #00af00\">0</span> │ dense_7[<span style=\"color: #00af00; text-decoration-color: #00af00\">0</span>][<span style=\"color: #00af00; text-decoration-color: #00af00\">0</span>]          │\n",
              "├───────────────────────────┼────────────────────────┼────────────────┼────────────────────────┤\n",
              "│ dense_8 (<span style=\"color: #0087ff; text-decoration-color: #0087ff\">Dense</span>)           │ (<span style=\"color: #00d7ff; text-decoration-color: #00d7ff\">None</span>, <span style=\"color: #00af00; text-decoration-color: #00af00\">1</span>)              │             <span style=\"color: #00af00; text-decoration-color: #00af00\">65</span> │ dropout_2[<span style=\"color: #00af00; text-decoration-color: #00af00\">0</span>][<span style=\"color: #00af00; text-decoration-color: #00af00\">0</span>]        │\n",
              "└───────────────────────────┴────────────────────────┴────────────────┴────────────────────────┘\n",
              "</pre>\n"
            ]
          },
          "metadata": {}
        },
        {
          "output_type": "display_data",
          "data": {
            "text/plain": [
              "\u001b[1m Total params: \u001b[0m\u001b[38;5;34m186,113\u001b[0m (727.00 KB)\n"
            ],
            "text/html": [
              "<pre style=\"white-space:pre;overflow-x:auto;line-height:normal;font-family:Menlo,'DejaVu Sans Mono',consolas,'Courier New',monospace\"><span style=\"font-weight: bold\"> Total params: </span><span style=\"color: #00af00; text-decoration-color: #00af00\">186,113</span> (727.00 KB)\n",
              "</pre>\n"
            ]
          },
          "metadata": {}
        },
        {
          "output_type": "display_data",
          "data": {
            "text/plain": [
              "\u001b[1m Trainable params: \u001b[0m\u001b[38;5;34m186,113\u001b[0m (727.00 KB)\n"
            ],
            "text/html": [
              "<pre style=\"white-space:pre;overflow-x:auto;line-height:normal;font-family:Menlo,'DejaVu Sans Mono',consolas,'Courier New',monospace\"><span style=\"font-weight: bold\"> Trainable params: </span><span style=\"color: #00af00; text-decoration-color: #00af00\">186,113</span> (727.00 KB)\n",
              "</pre>\n"
            ]
          },
          "metadata": {}
        },
        {
          "output_type": "display_data",
          "data": {
            "text/plain": [
              "\u001b[1m Non-trainable params: \u001b[0m\u001b[38;5;34m0\u001b[0m (0.00 B)\n"
            ],
            "text/html": [
              "<pre style=\"white-space:pre;overflow-x:auto;line-height:normal;font-family:Menlo,'DejaVu Sans Mono',consolas,'Courier New',monospace\"><span style=\"font-weight: bold\"> Non-trainable params: </span><span style=\"color: #00af00; text-decoration-color: #00af00\">0</span> (0.00 B)\n",
              "</pre>\n"
            ]
          },
          "metadata": {}
        }
      ]
    },
    {
      "cell_type": "code",
      "source": [
        "# Early stopping to prevent overfitting\n",
        "early_stopping = EarlyStopping(monitor='val_loss', patience=3, restore_best_weights=True)"
      ],
      "metadata": {
        "id": "VanMKwLa4lhJ"
      },
      "execution_count": 88,
      "outputs": []
    },
    {
      "cell_type": "code",
      "source": [
        "# Train the model\n",
        "history = model.fit(\n",
        "    [x_train_text, x_train_numeric],\n",
        "    y_train,\n",
        "    validation_split=0.2,\n",
        "    epochs=50,\n",
        "    batch_size=64,\n",
        "    callbacks=[early_stopping]\n",
        ")"
      ],
      "metadata": {
        "colab": {
          "base_uri": "https://localhost:8080/"
        },
        "id": "oQJtzZjR4okp",
        "outputId": "07188842-81ea-44ce-b449-85e8f2679062"
      },
      "execution_count": 89,
      "outputs": [
        {
          "output_type": "stream",
          "name": "stdout",
          "text": [
            "Epoch 1/50\n",
            "\u001b[1m400/400\u001b[0m \u001b[32m━━━━━━━━━━━━━━━━━━━━\u001b[0m\u001b[37m\u001b[0m \u001b[1m59s\u001b[0m 139ms/step - accuracy: 0.5630 - loss: 1.0674 - val_accuracy: 0.6461 - val_loss: 0.6429\n",
            "Epoch 2/50\n",
            "\u001b[1m400/400\u001b[0m \u001b[32m━━━━━━━━━━━━━━━━━━━━\u001b[0m\u001b[37m\u001b[0m \u001b[1m80s\u001b[0m 134ms/step - accuracy: 0.6804 - loss: 0.6092 - val_accuracy: 0.6722 - val_loss: 0.6084\n",
            "Epoch 3/50\n",
            "\u001b[1m400/400\u001b[0m \u001b[32m━━━━━━━━━━━━━━━━━━━━\u001b[0m\u001b[37m\u001b[0m \u001b[1m56s\u001b[0m 139ms/step - accuracy: 0.7405 - loss: 0.5457 - val_accuracy: 0.7200 - val_loss: 0.5704\n",
            "Epoch 4/50\n",
            "\u001b[1m400/400\u001b[0m \u001b[32m━━━━━━━━━━━━━━━━━━━━\u001b[0m\u001b[37m\u001b[0m \u001b[1m79s\u001b[0m 132ms/step - accuracy: 0.7744 - loss: 0.4897 - val_accuracy: 0.7372 - val_loss: 0.5513\n",
            "Epoch 5/50\n",
            "\u001b[1m400/400\u001b[0m \u001b[32m━━━━━━━━━━━━━━━━━━━━\u001b[0m\u001b[37m\u001b[0m \u001b[1m80s\u001b[0m 126ms/step - accuracy: 0.8100 - loss: 0.4389 - val_accuracy: 0.7592 - val_loss: 0.5285\n",
            "Epoch 6/50\n",
            "\u001b[1m400/400\u001b[0m \u001b[32m━━━━━━━━━━━━━━━━━━━━\u001b[0m\u001b[37m\u001b[0m \u001b[1m55s\u001b[0m 138ms/step - accuracy: 0.8373 - loss: 0.3888 - val_accuracy: 0.7756 - val_loss: 0.5064\n",
            "Epoch 7/50\n",
            "\u001b[1m400/400\u001b[0m \u001b[32m━━━━━━━━━━━━━━━━━━━━\u001b[0m\u001b[37m\u001b[0m \u001b[1m80s\u001b[0m 133ms/step - accuracy: 0.8655 - loss: 0.3423 - val_accuracy: 0.7966 - val_loss: 0.4881\n",
            "Epoch 8/50\n",
            "\u001b[1m400/400\u001b[0m \u001b[32m━━━━━━━━━━━━━━━━━━━━\u001b[0m\u001b[37m\u001b[0m \u001b[1m54s\u001b[0m 134ms/step - accuracy: 0.8838 - loss: 0.3035 - val_accuracy: 0.8092 - val_loss: 0.4778\n",
            "Epoch 9/50\n",
            "\u001b[1m400/400\u001b[0m \u001b[32m━━━━━━━━━━━━━━━━━━━━\u001b[0m\u001b[37m\u001b[0m \u001b[1m78s\u001b[0m 124ms/step - accuracy: 0.9075 - loss: 0.2591 - val_accuracy: 0.8283 - val_loss: 0.4758\n",
            "Epoch 10/50\n",
            "\u001b[1m400/400\u001b[0m \u001b[32m━━━━━━━━━━━━━━━━━━━━\u001b[0m\u001b[37m\u001b[0m \u001b[1m80s\u001b[0m 119ms/step - accuracy: 0.9260 - loss: 0.2218 - val_accuracy: 0.8461 - val_loss: 0.4711\n",
            "Epoch 11/50\n",
            "\u001b[1m400/400\u001b[0m \u001b[32m━━━━━━━━━━━━━━━━━━━━\u001b[0m\u001b[37m\u001b[0m \u001b[1m83s\u001b[0m 122ms/step - accuracy: 0.9410 - loss: 0.1855 - val_accuracy: 0.8506 - val_loss: 0.4298\n",
            "Epoch 12/50\n",
            "\u001b[1m400/400\u001b[0m \u001b[32m━━━━━━━━━━━━━━━━━━━━\u001b[0m\u001b[37m\u001b[0m \u001b[1m48s\u001b[0m 120ms/step - accuracy: 0.9507 - loss: 0.1654 - val_accuracy: 0.8577 - val_loss: 0.4908\n",
            "Epoch 13/50\n",
            "\u001b[1m400/400\u001b[0m \u001b[32m━━━━━━━━━━━━━━━━━━━━\u001b[0m\u001b[37m\u001b[0m \u001b[1m47s\u001b[0m 117ms/step - accuracy: 0.9625 - loss: 0.1333 - val_accuracy: 0.8367 - val_loss: 0.5463\n",
            "Epoch 14/50\n",
            "\u001b[1m400/400\u001b[0m \u001b[32m━━━━━━━━━━━━━━━━━━━━\u001b[0m\u001b[37m\u001b[0m \u001b[1m80s\u001b[0m 113ms/step - accuracy: 0.9664 - loss: 0.1216 - val_accuracy: 0.8597 - val_loss: 0.4665\n"
          ]
        }
      ]
    },
    {
      "cell_type": "code",
      "source": [
        "# Evaluate the model\n",
        "test_loss, test_accuracy = model.evaluate([x_test_text, x_test_numeric], y_test)\n",
        "print(f\"Test Accuracy: {test_accuracy:.4f}\")\n"
      ],
      "metadata": {
        "colab": {
          "base_uri": "https://localhost:8080/"
        },
        "id": "sCY7Brtv4rfZ",
        "outputId": "a5b8d667-4ad2-4a55-cbb2-f673a6eb5ff6"
      },
      "execution_count": 90,
      "outputs": [
        {
          "output_type": "stream",
          "name": "stdout",
          "text": [
            "\u001b[1m250/250\u001b[0m \u001b[32m━━━━━━━━━━━━━━━━━━━━\u001b[0m\u001b[37m\u001b[0m \u001b[1m5s\u001b[0m 20ms/step - accuracy: 0.8520 - loss: 0.4302\n",
            "Test Accuracy: 0.8486\n"
          ]
        }
      ]
    },
    {
      "cell_type": "code",
      "source": [
        "train_loss, train_accuracy = model.evaluate([x_train_text, x_train_numeric], y_train)\n",
        "print(f\"train Accuracy: {train_accuracy:.4f}\")"
      ],
      "metadata": {
        "colab": {
          "base_uri": "https://localhost:8080/"
        },
        "id": "OEUF0qDq4z7c",
        "outputId": "4cbb10f5-ae2e-4aaf-bb65-d524601908c7"
      },
      "execution_count": 91,
      "outputs": [
        {
          "output_type": "stream",
          "name": "stdout",
          "text": [
            "\u001b[1m1000/1000\u001b[0m \u001b[32m━━━━━━━━━━━━━━━━━━━━\u001b[0m\u001b[37m\u001b[0m \u001b[1m16s\u001b[0m 16ms/step - accuracy: 0.9511 - loss: 0.1694\n",
            "train Accuracy: 0.9338\n"
          ]
        }
      ]
    },
    {
      "cell_type": "code",
      "source": [
        "import matplotlib.pyplot as plt\n",
        "# Plot training & validation accuracy values\n",
        "plt.figure(figsize=(6, 6))\n",
        "plt.plot(history.history['accuracy'], label='Train Accuracy')\n",
        "plt.plot(history.history['val_accuracy'], label='Validation Accuracy')\n",
        "plt.title('Model Accuracy')\n",
        "plt.xlabel('Epoch')\n",
        "plt.ylabel('Accuracy')\n",
        "plt.legend(loc='upper left')\n",
        "plt.grid(True)\n",
        "plt.show()\n"
      ],
      "metadata": {
        "colab": {
          "base_uri": "https://localhost:8080/",
          "height": 564
        },
        "id": "AGBtLsVnPWZa",
        "outputId": "a0d61b9b-689a-4797-c5dc-41168fe6c41f"
      },
      "execution_count": 92,
      "outputs": [
        {
          "output_type": "display_data",
          "data": {
            "text/plain": [
              "<Figure size 600x600 with 1 Axes>"
            ],
            "image/png": "[encoded data removed]"
          },
          "metadata": {}
        }
      ]
    },
    {
      "cell_type": "code",
      "source": [
        "plt.figure(figsize=(6, 6))\n",
        "plt.plot(history.history['loss'], label='Train Loss')\n",
        "plt.plot(history.history['val_loss'], label='Validation Loss')\n",
        "plt.title('Model Loss')\n",
        "plt.xlabel('Epoch')\n",
        "plt.ylabel('Loss')\n",
        "plt.legend(loc='upper left')\n",
        "plt.grid(True)\n",
        "plt.show()"
      ],
      "metadata": {
        "colab": {
          "base_uri": "https://localhost:8080/",
          "height": 564
        },
        "id": "z7eyQq7OcjL8",
        "outputId": "412ca003-9b58-45f7-85a7-2c9691d3d09f"
      },
      "execution_count": 93,
      "outputs": [
        {
          "output_type": "display_data",
          "data": {
            "text/plain": [
              "<Figure size 600x600 with 1 Axes>"
            ],
            "image/png": "[encoded data removed]"
          },
          "metadata": {}
        }
      ]
    },
    {
      "cell_type": "code",
      "source": [
        "\n",
        "print(\"x_test_text shape:\", x_test_text.shape)    # Expected: (num_samples, max_seq_length)\n",
        "print(\"x_test_numeric shape:\", x_test_numeric.shape) # Expected: (num_samples, number_of_numeric_features)\n"
      ],
      "metadata": {
        "colab": {
          "base_uri": "https://localhost:8080/"
        },
        "id": "mejzcYWA86zu",
        "outputId": "a39a6095-9e46-43b5-f3f8-c191d7dd9da6"
      },
      "execution_count": 94,
      "outputs": [
        {
          "output_type": "stream",
          "name": "stdout",
          "text": [
            "x_test_text shape: (8000, 100)\n",
            "x_test_numeric shape: (8000, 5)\n"
          ]
        }
      ]
    },
    {
      "cell_type": "code",
      "source": [
        "# Predict on test set\n",
        "y_pred = model.predict([x_test_text, x_test_numeric])\n",
        "y_pred_classes = (y_pred > 0.5).astype(int)"
      ],
      "metadata": {
        "colab": {
          "base_uri": "https://localhost:8080/"
        },
        "id": "CK3TpUlWWTJr",
        "outputId": "f55e2816-75ae-44a6-ad8b-9d8798708356"
      },
      "execution_count": 96,
      "outputs": [
        {
          "output_type": "stream",
          "name": "stdout",
          "text": [
            "\u001b[1m250/250\u001b[0m \u001b[32m━━━━━━━━━━━━━━━━━━━━\u001b[0m\u001b[37m\u001b[0m \u001b[1m20s\u001b[0m 78ms/step\n"
          ]
        }
      ]
    },
    {
      "cell_type": "code",
      "source": [
        "# Confusion matrix\n",
        "cm = confusion_matrix(y_test, y_pred_classes)\n",
        "print(cm)"
      ],
      "metadata": {
        "colab": {
          "base_uri": "https://localhost:8080/"
        },
        "id": "4qyQga28bkOL",
        "outputId": "ec440cbd-99dc-4a17-b650-9f999ed14936"
      },
      "execution_count": 97,
      "outputs": [
        {
          "output_type": "stream",
          "name": "stdout",
          "text": [
            "[[3263  734]\n",
            " [ 477 3526]]\n"
          ]
        }
      ]
    },
    {
      "cell_type": "code",
      "source": [
        "import seaborn as sns\n",
        "# Plot confusion matrix\n",
        "plt.figure(figsize=(10, 6))\n",
        "sns.heatmap(cm, annot=True, fmt='d', cmap='Blues')\n",
        "plt.xlabel('Predicted')\n",
        "plt.ylabel('Actual')\n",
        "plt.title('Confusion Matrix')\n",
        "plt.show()\n"
      ],
      "metadata": {
        "colab": {
          "base_uri": "https://localhost:8080/",
          "height": 564
        },
        "id": "gjqmx2Lobn44",
        "outputId": "35dfbf80-84e1-45b5-d98e-5801252d5c9c"
      },
      "execution_count": 98,
      "outputs": [
        {
          "output_type": "display_data",
          "data": {
            "text/plain": [
              "<Figure size 1000x600 with 2 Axes>"
            ],
            "image/png": "[encoded data removed]"
          },
          "metadata": {}
        }
      ]
    },
    {
      "cell_type": "code",
      "source": [
        "model.save('twitter_bot_detection_model.h5')\n"
      ],
      "metadata": {
        "colab": {
          "base_uri": "https://localhost:8080/"
        },
        "id": "mL6zUPyYccQa",
        "outputId": "94a6bea1-1c52-40b8-8b47-7676fcff0431"
      },
      "execution_count": 99,
      "outputs": [
        {
          "output_type": "stream",
          "name": "stderr",
          "text": [
            "WARNING:absl:You are saving your model as an HDF5 file via `model.save()` or `keras.saving.save_model(model)`. This file format is considered legacy. We recommend using instead the native Keras format, e.g. `model.save('my_model.keras')` or `keras.saving.save_model(model, 'my_model.keras')`. \n"
          ]
        }
      ]
    },
    {
      "cell_type": "markdown",
      "source": [
        "**Re-Training process**"
      ],
      "metadata": {
        "id": "mOGhGFjvd_-6"
      }
    },
    {
      "cell_type": "code",
      "source": [
        "custom_data  = pd.read_csv('/content/drive/MyDrive/Dataset/updated_tweets.csv')\n",
        "custom_data .head()"
      ],
      "metadata": {
        "colab": {
          "base_uri": "https://localhost:8080/",
          "height": 776
        },
        "id": "5KPpd_MKgFRV",
        "outputId": "9399a1b5-c52b-441b-daa6-04f827dd285f"
      },
      "execution_count": 100,
      "outputs": [
        {
          "output_type": "execute_result",
          "data": {
            "text/plain": [
              "                         date  \\\n",
              "0  Jan 9, 2021 · 12:41 PM UTC   \n",
              "1  Jun 13, 2023 · 3:54 PM UTC   \n",
              "2  Jun 13, 2023 · 4:02 PM UTC   \n",
              "3  Jun 13, 2023 · 4:02 PM UTC   \n",
              "4  Jun 13, 2023 · 5:43 PM UTC   \n",
              "\n",
              "                                                text  \\\n",
              "0  ඔබට ඔබගේ #hashtag #retweet කරගැනීමට අවශ්‍ය නම්...   \n",
              "1  she made breakfast! anyone want some?   #tasty...   \n",
              "2  It's #TastyTuesday and this chocolate hazelnut...   \n",
              "3  This #TastyTuesday just got tastier! Enjoy a m...   \n",
              "4  Change your lunch plans and come have cold dri...   \n",
              "\n",
              "                                                link  likes  retweets  \\\n",
              "0  https://twitter.com/SLRTBot/status/13478862284...     97        34   \n",
              "1  https://twitter.com/CutestGraham/status/166864...     10         2   \n",
              "2  https://twitter.com/FoodlinkNY/status/16686500...      2         1   \n",
              "3  https://twitter.com/SnarfHappens/status/166865...      2         1   \n",
              "4  https://twitter.com/Hotshots_Bar/status/166867...      0         1   \n",
              "\n",
              "   comments                      user_name  user_username  \\\n",
              "0        21                 SL RT Bot 🇱🇰🤖       @SLRTBot   \n",
              "1         2                  𝐴𝑠ℎ𝑙𝑒𝑦 𝐺𝑟𝑎ℎ𝑎𝑚  @CutestGraham   \n",
              "2         0                       Foodlink    @FoodlinkNY   \n",
              "3         0             Snarf's Sandwiches  @SnarfHappens   \n",
              "4         0  Hotshots Sports Bar and Grill  @Hotshots_Bar   \n",
              "\n",
              "                                         user_avatar  label  ...  word_count  \\\n",
              "0  https://pbs.twimg.com/profile_images/134775335...      1  ...           9   \n",
              "1  https://pbs.twimg.com/profile_images/164524557...      1  ...           7   \n",
              "2  https://pbs.twimg.com/profile_images/133896538...      1  ...          29   \n",
              "3  https://pbs.twimg.com/profile_images/131679554...      1  ...          20   \n",
              "4  https://pbs.twimg.com/profile_images/170216292...      1  ...          16   \n",
              "\n",
              "   adjectives  adverbs  pronouns  capitals  digits  hashtags  URLs  \\\n",
              "0           1        0         0         3       0         3     0   \n",
              "1           0        0         1         0       0         1     0   \n",
              "2           4        1         1        10       0         4     0   \n",
              "3           3        1         0         8       0         2     0   \n",
              "4           0        0         1         6       0         2     0   \n",
              "\n",
              "   ORG_percentage  PERSON_percentage  \n",
              "0             0.0                0.0  \n",
              "1             0.0                0.0  \n",
              "2            20.0               20.0  \n",
              "3            50.0               50.0  \n",
              "4            20.0               40.0  \n",
              "\n",
              "[5 rows x 21 columns]"
            ],
            "text/html": [
              "\n",
              "  <div id=\"df-244ae635-5f38-41ea-a922-97dfe61fddd6\" class=\"colab-df-container\">\n",
              "    <div>\n",
              "<style scoped>\n",
              "    .dataframe tbody tr th:only-of-type {\n",
              "        vertical-align: middle;\n",
              "    }\n",
              "\n",
              "    .dataframe tbody tr th {\n",
              "        vertical-align: top;\n",
              "    }\n",
              "\n",
              "    .dataframe thead th {\n",
              "        text-align: right;\n",
              "    }\n",
              "</style>\n",
              "<table border=\"1\" class=\"dataframe\">\n",
              "  <thead>\n",
              "    <tr style=\"text-align: right;\">\n",
              "      <th></th>\n",
              "      <th>date</th>\n",
              "      <th>text</th>\n",
              "      <th>link</th>\n",
              "      <th>likes</th>\n",
              "      <th>retweets</th>\n",
              "      <th>comments</th>\n",
              "      <th>user_name</th>\n",
              "      <th>user_username</th>\n",
              "      <th>user_avatar</th>\n",
              "      <th>label</th>\n",
              "      <th>...</th>\n",
              "      <th>word_count</th>\n",
              "      <th>adjectives</th>\n",
              "      <th>adverbs</th>\n",
              "      <th>pronouns</th>\n",
              "      <th>capitals</th>\n",
              "      <th>digits</th>\n",
              "      <th>hashtags</th>\n",
              "      <th>URLs</th>\n",
              "      <th>ORG_percentage</th>\n",
              "      <th>PERSON_percentage</th>\n",
              "    </tr>\n",
              "  </thead>\n",
              "  <tbody>\n",
              "    <tr>\n",
              "      <th>0</th>\n",
              "      <td>Jan 9, 2021 · 12:41 PM UTC</td>\n",
              "      <td>ඔබට ඔබගේ #hashtag #retweet කරගැනීමට අවශ්‍ය නම්...</td>\n",
              "      <td>https://twitter.com/SLRTBot/status/13478862284...</td>\n",
              "      <td>97</td>\n",
              "      <td>34</td>\n",
              "      <td>21</td>\n",
              "      <td>SL RT Bot 🇱🇰🤖</td>\n",
              "      <td>@SLRTBot</td>\n",
              "      <td>https://pbs.twimg.com/profile_images/134775335...</td>\n",
              "      <td>1</td>\n",
              "      <td>...</td>\n",
              "      <td>9</td>\n",
              "      <td>1</td>\n",
              "      <td>0</td>\n",
              "      <td>0</td>\n",
              "      <td>3</td>\n",
              "      <td>0</td>\n",
              "      <td>3</td>\n",
              "      <td>0</td>\n",
              "      <td>0.0</td>\n",
              "      <td>0.0</td>\n",
              "    </tr>\n",
              "    <tr>\n",
              "      <th>1</th>\n",
              "      <td>Jun 13, 2023 · 3:54 PM UTC</td>\n",
              "      <td>she made breakfast! anyone want some?   #tasty...</td>\n",
              "      <td>https://twitter.com/CutestGraham/status/166864...</td>\n",
              "      <td>10</td>\n",
              "      <td>2</td>\n",
              "      <td>2</td>\n",
              "      <td>𝐴𝑠ℎ𝑙𝑒𝑦 𝐺𝑟𝑎ℎ𝑎𝑚</td>\n",
              "      <td>@CutestGraham</td>\n",
              "      <td>https://pbs.twimg.com/profile_images/164524557...</td>\n",
              "      <td>1</td>\n",
              "      <td>...</td>\n",
              "      <td>7</td>\n",
              "      <td>0</td>\n",
              "      <td>0</td>\n",
              "      <td>1</td>\n",
              "      <td>0</td>\n",
              "      <td>0</td>\n",
              "      <td>1</td>\n",
              "      <td>0</td>\n",
              "      <td>0.0</td>\n",
              "      <td>0.0</td>\n",
              "    </tr>\n",
              "    <tr>\n",
              "      <th>2</th>\n",
              "      <td>Jun 13, 2023 · 4:02 PM UTC</td>\n",
              "      <td>It's #TastyTuesday and this chocolate hazelnut...</td>\n",
              "      <td>https://twitter.com/FoodlinkNY/status/16686500...</td>\n",
              "      <td>2</td>\n",
              "      <td>1</td>\n",
              "      <td>0</td>\n",
              "      <td>Foodlink</td>\n",
              "      <td>@FoodlinkNY</td>\n",
              "      <td>https://pbs.twimg.com/profile_images/133896538...</td>\n",
              "      <td>1</td>\n",
              "      <td>...</td>\n",
              "      <td>29</td>\n",
              "      <td>4</td>\n",
              "      <td>1</td>\n",
              "      <td>1</td>\n",
              "      <td>10</td>\n",
              "      <td>0</td>\n",
              "      <td>4</td>\n",
              "      <td>0</td>\n",
              "      <td>20.0</td>\n",
              "      <td>20.0</td>\n",
              "    </tr>\n",
              "    <tr>\n",
              "      <th>3</th>\n",
              "      <td>Jun 13, 2023 · 4:02 PM UTC</td>\n",
              "      <td>This #TastyTuesday just got tastier! Enjoy a m...</td>\n",
              "      <td>https://twitter.com/SnarfHappens/status/166865...</td>\n",
              "      <td>2</td>\n",
              "      <td>1</td>\n",
              "      <td>0</td>\n",
              "      <td>Snarf's Sandwiches</td>\n",
              "      <td>@SnarfHappens</td>\n",
              "      <td>https://pbs.twimg.com/profile_images/131679554...</td>\n",
              "      <td>1</td>\n",
              "      <td>...</td>\n",
              "      <td>20</td>\n",
              "      <td>3</td>\n",
              "      <td>1</td>\n",
              "      <td>0</td>\n",
              "      <td>8</td>\n",
              "      <td>0</td>\n",
              "      <td>2</td>\n",
              "      <td>0</td>\n",
              "      <td>50.0</td>\n",
              "      <td>50.0</td>\n",
              "    </tr>\n",
              "    <tr>\n",
              "      <th>4</th>\n",
              "      <td>Jun 13, 2023 · 5:43 PM UTC</td>\n",
              "      <td>Change your lunch plans and come have cold dri...</td>\n",
              "      <td>https://twitter.com/Hotshots_Bar/status/166867...</td>\n",
              "      <td>0</td>\n",
              "      <td>1</td>\n",
              "      <td>0</td>\n",
              "      <td>Hotshots Sports Bar and Grill</td>\n",
              "      <td>@Hotshots_Bar</td>\n",
              "      <td>https://pbs.twimg.com/profile_images/170216292...</td>\n",
              "      <td>1</td>\n",
              "      <td>...</td>\n",
              "      <td>16</td>\n",
              "      <td>0</td>\n",
              "      <td>0</td>\n",
              "      <td>1</td>\n",
              "      <td>6</td>\n",
              "      <td>0</td>\n",
              "      <td>2</td>\n",
              "      <td>0</td>\n",
              "      <td>20.0</td>\n",
              "      <td>40.0</td>\n",
              "    </tr>\n",
              "  </tbody>\n",
              "</table>\n",
              "<p>5 rows × 21 columns</p>\n",
              "</div>\n",
              "    <div class=\"colab-df-buttons\">\n",
              "\n",
              "  <div class=\"colab-df-container\">\n",
              "    <button class=\"colab-df-convert\" onclick=\"convertToInteractive('df-244ae635-5f38-41ea-a922-97dfe61fddd6')\"\n",
              "            title=\"Convert this dataframe to an interactive table.\"\n",
              "            style=\"display:none;\">\n",
              "\n",
              "  <svg xmlns=\"http://www.w3.org/2000/svg\" height=\"24px\" viewBox=\"0 -960 960 960\">\n",
              "    <path d=\"M120-120v-720h720v720H120Zm60-500h600v-160H180v160Zm220 220h160v-160H400v160Zm0 220h160v-160H400v160ZM180-400h160v-160H180v160Zm440 0h160v-160H620v160ZM180-180h160v-160H180v160Zm440 0h160v-160H620v160Z\"/>\n",
              "  </svg>\n",
              "    </button>\n",
              "\n",
              "  <style>\n",
              "    .colab-df-container {\n",
              "      display:flex;\n",
              "      gap: 12px;\n",
              "    }\n",
              "\n",
              "    .colab-df-convert {\n",
              "      background-color: #E8F0FE;\n",
              "      border: none;\n",
              "      border-radius: 50%;\n",
              "      cursor: pointer;\n",
              "      display: none;\n",
              "      fill: #1967D2;\n",
              "      height: 32px;\n",
              "      padding: 0 0 0 0;\n",
              "      width: 32px;\n",
              "    }\n",
              "\n",
              "    .colab-df-convert:hover {\n",
              "      background-color: #E2EBFA;\n",
              "      box-shadow: 0px 1px 2px rgba(60, 64, 67, 0.3), 0px 1px 3px 1px rgba(60, 64, 67, 0.15);\n",
              "      fill: #174EA6;\n",
              "    }\n",
              "\n",
              "    .colab-df-buttons div {\n",
              "      margin-bottom: 4px;\n",
              "    }\n",
              "\n",
              "    [theme=dark] .colab-df-convert {\n",
              "      background-color: #3B4455;\n",
              "      fill: #D2E3FC;\n",
              "    }\n",
              "\n",
              "    [theme=dark] .colab-df-convert:hover {\n",
              "      background-color: #434B5C;\n",
              "      box-shadow: 0px 1px 3px 1px rgba(0, 0, 0, 0.15);\n",
              "      filter: drop-shadow(0px 1px 2px rgba(0, 0, 0, 0.3));\n",
              "      fill: #FFFFFF;\n",
              "    }\n",
              "  </style>\n",
              "\n",
              "    <script>\n",
              "      const buttonEl =\n",
              "        document.querySelector('#df-244ae635-5f38-41ea-a922-97dfe61fddd6 button.colab-df-convert');\n",
              "      buttonEl.style.display =\n",
              "        google.colab.kernel.accessAllowed ? 'block' : 'none';\n",
              "\n",
              "      async function convertToInteractive(key) {\n",
              "        const element = document.querySelector('#df-244ae635-5f38-41ea-a922-97dfe61fddd6');\n",
              "        const dataTable =\n",
              "          await google.colab.kernel.invokeFunction('convertToInteractive',\n",
              "                                                    [key], {});\n",
              "        if (!dataTable) return;\n",
              "\n",
              "        const docLinkHtml = 'Like what you see? Visit the ' +\n",
              "          '<a target=\"_blank\" href=https://colab.research.google.com/notebooks/data_table.ipynb>data table notebook</a>'\n",
              "          + ' to learn more about interactive tables.';\n",
              "        element.innerHTML = '';\n",
              "        dataTable['output_type'] = 'display_data';\n",
              "        await google.colab.output.renderOutput(dataTable, element);\n",
              "        const docLink = document.createElement('div');\n",
              "        docLink.innerHTML = docLinkHtml;\n",
              "        element.appendChild(docLink);\n",
              "      }\n",
              "    </script>\n",
              "  </div>\n",
              "\n",
              "\n",
              "<div id=\"df-741480be-0f0f-4e58-b988-0bec85e31bae\">\n",
              "  <button class=\"colab-df-quickchart\" onclick=\"quickchart('df-741480be-0f0f-4e58-b988-0bec85e31bae')\"\n",
              "            title=\"Suggest charts\"\n",
              "            style=\"display:none;\">\n",
              "\n",
              "<svg xmlns=\"http://www.w3.org/2000/svg\" height=\"24px\"viewBox=\"0 0 24 24\"\n",
              "     width=\"24px\">\n",
              "    <g>\n",
              "        <path d=\"M19 3H5c-1.1 0-2 .9-2 2v14c0 1.1.9 2 2 2h14c1.1 0 2-.9 2-2V5c0-1.1-.9-2-2-2zM9 17H7v-7h2v7zm4 0h-2V7h2v10zm4 0h-2v-4h2v4z\"/>\n",
              "    </g>\n",
              "</svg>\n",
              "  </button>\n",
              "\n",
              "<style>\n",
              "  .colab-df-quickchart {\n",
              "      --bg-color: #E8F0FE;\n",
              "      --fill-color: #1967D2;\n",
              "      --hover-bg-color: #E2EBFA;\n",
              "      --hover-fill-color: #174EA6;\n",
              "      --disabled-fill-color: #AAA;\n",
              "      --disabled-bg-color: #DDD;\n",
              "  }\n",
              "\n",
              "  [theme=dark] .colab-df-quickchart {\n",
              "      --bg-color: #3B4455;\n",
              "      --fill-color: #D2E3FC;\n",
              "      --hover-bg-color: #434B5C;\n",
              "      --hover-fill-color: #FFFFFF;\n",
              "      --disabled-bg-color: #3B4455;\n",
              "      --disabled-fill-color: #666;\n",
              "  }\n",
              "\n",
              "  .colab-df-quickchart {\n",
              "    background-color: var(--bg-color);\n",
              "    border: none;\n",
              "    border-radius: 50%;\n",
              "    cursor: pointer;\n",
              "    display: none;\n",
              "    fill: var(--fill-color);\n",
              "    height: 32px;\n",
              "    padding: 0;\n",
              "    width: 32px;\n",
              "  }\n",
              "\n",
              "  .colab-df-quickchart:hover {\n",
              "    background-color: var(--hover-bg-color);\n",
              "    box-shadow: 0 1px 2px rgba(60, 64, 67, 0.3), 0 1px 3px 1px rgba(60, 64, 67, 0.15);\n",
              "    fill: var(--button-hover-fill-color);\n",
              "  }\n",
              "\n",
              "  .colab-df-quickchart-complete:disabled,\n",
              "  .colab-df-quickchart-complete:disabled:hover {\n",
              "    background-color: var(--disabled-bg-color);\n",
              "    fill: var(--disabled-fill-color);\n",
              "    box-shadow: none;\n",
              "  }\n",
              "\n",
              "  .colab-df-spinner {\n",
              "    border: 2px solid var(--fill-color);\n",
              "    border-color: transparent;\n",
              "    border-bottom-color: var(--fill-color);\n",
              "    animation:\n",
              "      spin 1s steps(1) infinite;\n",
              "  }\n",
              "\n",
              "  @keyframes spin {\n",
              "    0% {\n",
              "      border-color: transparent;\n",
              "      border-bottom-color: var(--fill-color);\n",
              "      border-left-color: var(--fill-color);\n",
              "    }\n",
              "    20% {\n",
              "      border-color: transparent;\n",
              "      border-left-color: var(--fill-color);\n",
              "      border-top-color: var(--fill-color);\n",
              "    }\n",
              "    30% {\n",
              "      border-color: transparent;\n",
              "      border-left-color: var(--fill-color);\n",
              "      border-top-color: var(--fill-color);\n",
              "      border-right-color: var(--fill-color);\n",
              "    }\n",
              "    40% {\n",
              "      border-color: transparent;\n",
              "      border-right-color: var(--fill-color);\n",
              "      border-top-color: var(--fill-color);\n",
              "    }\n",
              "    60% {\n",
              "      border-color: transparent;\n",
              "      border-right-color: var(--fill-color);\n",
              "    }\n",
              "    80% {\n",
              "      border-color: transparent;\n",
              "      border-right-color: var(--fill-color);\n",
              "      border-bottom-color: var(--fill-color);\n",
              "    }\n",
              "    90% {\n",
              "      border-color: transparent;\n",
              "      border-bottom-color: var(--fill-color);\n",
              "    }\n",
              "  }\n",
              "</style>\n",
              "\n",
              "  <script>\n",
              "    async function quickchart(key) {\n",
              "      const quickchartButtonEl =\n",
              "        document.querySelector('#' + key + ' button');\n",
              "      quickchartButtonEl.disabled = true;  // To prevent multiple clicks.\n",
              "      quickchartButtonEl.classList.add('colab-df-spinner');\n",
              "      try {\n",
              "        const charts = await google.colab.kernel.invokeFunction(\n",
              "            'suggestCharts', [key], {});\n",
              "      } catch (error) {\n",
              "        console.error('Error during call to suggestCharts:', error);\n",
              "      }\n",
              "      quickchartButtonEl.classList.remove('colab-df-spinner');\n",
              "      quickchartButtonEl.classList.add('colab-df-quickchart-complete');\n",
              "    }\n",
              "    (() => {\n",
              "      let quickchartButtonEl =\n",
              "        document.querySelector('#df-741480be-0f0f-4e58-b988-0bec85e31bae button');\n",
              "      quickchartButtonEl.style.display =\n",
              "        google.colab.kernel.accessAllowed ? 'block' : 'none';\n",
              "    })();\n",
              "  </script>\n",
              "</div>\n",
              "\n",
              "    </div>\n",
              "  </div>\n"
            ],
            "application/vnd.google.colaboratory.intrinsic+json": {
              "type": "dataframe"
            }
          },
          "metadata": {},
          "execution_count": 100
        }
      ]
    },
    {
      "cell_type": "code",
      "source": [
        "column_names = custom_data .columns\n",
        "print(column_names)"
      ],
      "metadata": {
        "colab": {
          "base_uri": "https://localhost:8080/"
        },
        "id": "ZFCkqSzMgG8q",
        "outputId": "9bc46160-1ac5-4a47-92a2-9ee2b7e4ba19"
      },
      "execution_count": 101,
      "outputs": [
        {
          "output_type": "stream",
          "name": "stdout",
          "text": [
            "Index(['date', 'text', 'link', 'likes', 'retweets', 'comments', 'user_name',\n",
            "       'user_username', 'user_avatar', 'label', 'mentions', 'word_count',\n",
            "       'adjectives', 'adverbs', 'pronouns', 'capitals', 'digits', 'hashtags',\n",
            "       'URLs', 'ORG_percentage', 'PERSON_percentage'],\n",
            "      dtype='object')\n"
          ]
        }
      ]
    },
    {
      "cell_type": "code",
      "source": [
        "# Ensure 'text' column contains strings\n",
        "custom_data['text'] = custom_data['text'].astype(str)\n",
        "\n",
        "# Replace NaN or missing values with empty strings\n",
        "custom_data['text'] = custom_data['text'].fillna('')"
      ],
      "metadata": {
        "id": "CfDwBrGigJ8a"
      },
      "execution_count": 102,
      "outputs": []
    },
    {
      "cell_type": "code",
      "source": [
        "import re\n",
        "\n",
        "def clean_text(text):\n",
        "    text = re.sub(r'\\d+', '', text)  # Remove digits\n",
        "    text = re.sub(r'[^\\w\\s]', '', text)  # Remove punctuation\n",
        "    text = re.sub(r'\\s+', ' ', text)  # Remove multiple spaces\n",
        "    text = text.lower().strip()  # Convert to lowercase and strip leading/trailing spaces\n",
        "    return text\n",
        "\n",
        "custom_data['text'] = custom_data['text'].apply(clean_text)"
      ],
      "metadata": {
        "id": "G-slh_5taN88"
      },
      "execution_count": 103,
      "outputs": []
    },
    {
      "cell_type": "code",
      "source": [
        "# Separate data into '0' and '1' classes\n",
        "data_00 = custom_data[custom_data['label'] == 0]\n",
        "data_11 = custom_data[custom_data['label'] == 1]"
      ],
      "metadata": {
        "id": "lziF3GzqL49k"
      },
      "execution_count": 104,
      "outputs": []
    },
    {
      "cell_type": "code",
      "source": [
        "# Randomly oversample the minority class to match the majority class\n",
        "data_11_oversampled = resample(data_11,\n",
        "                             replace=True,    # Sample with replacement\n",
        "                            n_samples=len(data_00),  # Match number of majority class\n",
        "                           random_state=42)  # For reproducibility\n",
        "\n",
        "#Combine the majority class with the oversampled minority class\n",
        "data_balanced1 = pd.concat([data_00, data_11_oversampled])"
      ],
      "metadata": {
        "id": "zuL-gvPbMygE"
      },
      "execution_count": 105,
      "outputs": []
    },
    {
      "cell_type": "code",
      "source": [
        "# Shuffle the combined dataset to mix the samples\n",
        "data_balanced1 = data_balanced1.sample(frac=1, random_state=42).reset_index(drop=True)\n",
        "\n",
        "# Separate features and target\n",
        "x_balanced1 = data_balanced1.drop(columns=['label'])\n",
        "y_balanced1 = data_balanced1['label']"
      ],
      "metadata": {
        "id": "8pmeY3FpNATB"
      },
      "execution_count": 106,
      "outputs": []
    },
    {
      "cell_type": "code",
      "source": [
        "num_rows = x_balanced1.shape[0]\n",
        "print(f'Number of rows: {num_rows}')"
      ],
      "metadata": {
        "colab": {
          "base_uri": "https://localhost:8080/"
        },
        "id": "EWzYhKDNNaf8",
        "outputId": "373c5cea-2346-430e-9aaf-e836798433ab"
      },
      "execution_count": 107,
      "outputs": [
        {
          "output_type": "stream",
          "name": "stdout",
          "text": [
            "Number of rows: 400\n"
          ]
        }
      ]
    },
    {
      "cell_type": "code",
      "source": [
        "data_balanced1['label'].value_counts()"
      ],
      "metadata": {
        "colab": {
          "base_uri": "https://localhost:8080/",
          "height": 178
        },
        "id": "DFu7T0saNfVM",
        "outputId": "d90d537b-5975-481e-d22b-2c166cd40d9b"
      },
      "execution_count": 108,
      "outputs": [
        {
          "output_type": "execute_result",
          "data": {
            "text/plain": [
              "label\n",
              "1    200\n",
              "0    200\n",
              "Name: count, dtype: int64"
            ],
            "text/html": [
              "<div>\n",
              "<style scoped>\n",
              "    .dataframe tbody tr th:only-of-type {\n",
              "        vertical-align: middle;\n",
              "    }\n",
              "\n",
              "    .dataframe tbody tr th {\n",
              "        vertical-align: top;\n",
              "    }\n",
              "\n",
              "    .dataframe thead th {\n",
              "        text-align: right;\n",
              "    }\n",
              "</style>\n",
              "<table border=\"1\" class=\"dataframe\">\n",
              "  <thead>\n",
              "    <tr style=\"text-align: right;\">\n",
              "      <th></th>\n",
              "      <th>count</th>\n",
              "    </tr>\n",
              "    <tr>\n",
              "      <th>label</th>\n",
              "      <th></th>\n",
              "    </tr>\n",
              "  </thead>\n",
              "  <tbody>\n",
              "    <tr>\n",
              "      <th>1</th>\n",
              "      <td>200</td>\n",
              "    </tr>\n",
              "    <tr>\n",
              "      <th>0</th>\n",
              "      <td>200</td>\n",
              "    </tr>\n",
              "  </tbody>\n",
              "</table>\n",
              "</div><br><label><b>dtype:</b> int64</label>"
            ]
          },
          "metadata": {},
          "execution_count": 108
        }
      ]
    },
    {
      "cell_type": "code",
      "source": [
        "# Preprocess text data (same as before)\n",
        "tokenizer = Tokenizer(num_words=max_words)\n",
        "tokenizer.fit_on_texts(data_balanced1['text'])\n",
        "sequences_balanced1 = tokenizer.texts_to_sequences(x_balanced1['text'])\n",
        "x_text_balanced1 = pad_sequences(sequences_balanced1, maxlen=max_seq_length)"
      ],
      "metadata": {
        "id": "2iqkDYwSOQks"
      },
      "execution_count": 109,
      "outputs": []
    },
    {
      "cell_type": "code",
      "source": [
        "import pickle\n",
        "with open('function2_tokenizer.pkl', 'wb') as f:\n",
        "    pickle.dump(tokenizer, f)"
      ],
      "metadata": {
        "id": "lfseMH02q5cF"
      },
      "execution_count": 110,
      "outputs": []
    },
    {
      "cell_type": "code",
      "source": [
        "numeric_features1 = [\n",
        "    'retweets',\n",
        "    'mentions',\n",
        "    'hashtags',\n",
        "    'ORG_percentage',\n",
        "    'PERSON_percentage'\n",
        "]"
      ],
      "metadata": {
        "id": "egGDUyn6O70M"
      },
      "execution_count": 111,
      "outputs": []
    },
    {
      "cell_type": "code",
      "source": [
        "# Scale numeric features (same as before)\n",
        "x_numeric_balanced1 = data_balanced1[numeric_features1].values\n",
        "x_numeric_balanced_scaled1 = scaler.fit_transform(x_numeric_balanced1)"
      ],
      "metadata": {
        "id": "pxew653yby2d"
      },
      "execution_count": 112,
      "outputs": []
    },
    {
      "cell_type": "code",
      "source": [
        "# Split balanced data into training and testing sets\n",
        "x_train_text1, x_test_text1, x_train_numeric1, x_test_numeric1, y_train1, y_test1 = train_test_split(\n",
        "    x_text_balanced1, x_numeric_balanced_scaled1, y_balanced1, test_size=0.2, random_state=42)"
      ],
      "metadata": {
        "id": "2acZeM28cXVV"
      },
      "execution_count": 113,
      "outputs": []
    },
    {
      "cell_type": "code",
      "source": [
        "from tensorflow.keras.models import load_model\n",
        "\n",
        "# Load the saved model\n",
        "model2 = load_model('/content/twitter_bot_detection_model.h5')"
      ],
      "metadata": {
        "id": "W4cSpxjhcwWd",
        "colab": {
          "base_uri": "https://localhost:8080/"
        },
        "outputId": "31db51ec-d5dc-49b8-8789-209ba137b6d2"
      },
      "execution_count": 114,
      "outputs": [
        {
          "output_type": "stream",
          "name": "stderr",
          "text": [
            "WARNING:absl:Compiled the loaded model, but the compiled metrics have yet to be built. `model.compile_metrics` will be empty until you train or evaluate the model.\n"
          ]
        }
      ]
    },
    {
      "cell_type": "code",
      "source": [
        "from tensorflow.keras.callbacks import EarlyStopping\n",
        "\n",
        "# Compile the model (ensure it uses the same configuration as before)\n",
        "model2.compile(optimizer='adam', loss='binary_crossentropy', metrics=['accuracy'])  # Change to a less suitable loss function\n"
      ],
      "metadata": {
        "id": "Jo2n0UDGdDzN"
      },
      "execution_count": 115,
      "outputs": []
    },
    {
      "cell_type": "code",
      "source": [
        "callbacks = [EarlyStopping(patience=3, monitor='val_loss', restore_best_weights=True)]"
      ],
      "metadata": {
        "id": "JI8u4WCedX6E"
      },
      "execution_count": 116,
      "outputs": []
    },
    {
      "cell_type": "code",
      "source": [
        "# Train the model\n",
        "history = model2.fit(\n",
        "    [x_train_text1, x_train_numeric1],\n",
        "    y_train1,\n",
        "    validation_split=0.2,\n",
        "    epochs=10,\n",
        "    batch_size=64,\n",
        "    callbacks=callbacks\n",
        ")"
      ],
      "metadata": {
        "colab": {
          "base_uri": "https://localhost:8080/"
        },
        "id": "HJwa839hddBt",
        "outputId": "6ed4d661-2649-4dcf-fcb6-ebad7ddfa8ac"
      },
      "execution_count": 117,
      "outputs": [
        {
          "output_type": "stream",
          "name": "stdout",
          "text": [
            "Epoch 1/10\n",
            "\u001b[1m4/4\u001b[0m \u001b[32m━━━━━━━━━━━━━━━━━━━━\u001b[0m\u001b[37m\u001b[0m \u001b[1m3s\u001b[0m 185ms/step - accuracy: 0.5318 - loss: 1.3531 - val_accuracy: 0.6719 - val_loss: 0.8994\n",
            "Epoch 2/10\n",
            "\u001b[1m4/4\u001b[0m \u001b[32m━━━━━━━━━━━━━━━━━━━━\u001b[0m\u001b[37m\u001b[0m \u001b[1m1s\u001b[0m 99ms/step - accuracy: 0.7141 - loss: 0.6450 - val_accuracy: 0.7188 - val_loss: 0.6860\n",
            "Epoch 3/10\n",
            "\u001b[1m4/4\u001b[0m \u001b[32m━━━━━━━━━━━━━━━━━━━━\u001b[0m\u001b[37m\u001b[0m \u001b[1m1s\u001b[0m 100ms/step - accuracy: 0.8307 - loss: 0.4357 - val_accuracy: 0.7500 - val_loss: 0.5651\n",
            "Epoch 4/10\n",
            "\u001b[1m4/4\u001b[0m \u001b[32m━━━━━━━━━━━━━━━━━━━━\u001b[0m\u001b[37m\u001b[0m \u001b[1m1s\u001b[0m 99ms/step - accuracy: 0.9068 - loss: 0.2915 - val_accuracy: 0.7188 - val_loss: 0.5027\n",
            "Epoch 5/10\n",
            "\u001b[1m4/4\u001b[0m \u001b[32m━━━━━━━━━━━━━━━━━━━━\u001b[0m\u001b[37m\u001b[0m \u001b[1m0s\u001b[0m 101ms/step - accuracy: 0.9172 - loss: 0.2508 - val_accuracy: 0.7812 - val_loss: 0.4569\n",
            "Epoch 6/10\n",
            "\u001b[1m4/4\u001b[0m \u001b[32m━━━━━━━━━━━━━━━━━━━━\u001b[0m\u001b[37m\u001b[0m \u001b[1m0s\u001b[0m 101ms/step - accuracy: 0.9484 - loss: 0.1974 - val_accuracy: 0.8125 - val_loss: 0.4151\n",
            "Epoch 7/10\n",
            "\u001b[1m4/4\u001b[0m \u001b[32m━━━━━━━━━━━━━━━━━━━━\u001b[0m\u001b[37m\u001b[0m \u001b[1m1s\u001b[0m 169ms/step - accuracy: 0.9672 - loss: 0.1488 - val_accuracy: 0.8594 - val_loss: 0.3814\n",
            "Epoch 8/10\n",
            "\u001b[1m4/4\u001b[0m \u001b[32m━━━━━━━━━━━━━━━━━━━━\u001b[0m\u001b[37m\u001b[0m \u001b[1m1s\u001b[0m 183ms/step - accuracy: 0.9797 - loss: 0.1264 - val_accuracy: 0.8594 - val_loss: 0.3564\n",
            "Epoch 9/10\n",
            "\u001b[1m4/4\u001b[0m \u001b[32m━━━━━━━━━━━━━━━━━━━━\u001b[0m\u001b[37m\u001b[0m \u001b[1m1s\u001b[0m 201ms/step - accuracy: 0.9714 - loss: 0.1062 - val_accuracy: 0.8594 - val_loss: 0.3404\n",
            "Epoch 10/10\n",
            "\u001b[1m4/4\u001b[0m \u001b[32m━━━━━━━━━━━━━━━━━━━━\u001b[0m\u001b[37m\u001b[0m \u001b[1m1s\u001b[0m 194ms/step - accuracy: 0.9943 - loss: 0.0832 - val_accuracy: 0.8906 - val_loss: 0.3305\n"
          ]
        }
      ]
    },
    {
      "cell_type": "code",
      "source": [
        "# Evaluate the model\n",
        "test_loss, test_accuracy = model2.evaluate([x_test_text1, x_test_numeric1], y_test1)\n",
        "print(f\"Test Accuracy: {test_accuracy:.4f}\")\n"
      ],
      "metadata": {
        "colab": {
          "base_uri": "https://localhost:8080/"
        },
        "id": "-mcdEoYUdxT8",
        "outputId": "db21e4d5-24c2-4546-ddde-14bc53eecbff"
      },
      "execution_count": 118,
      "outputs": [
        {
          "output_type": "stream",
          "name": "stdout",
          "text": [
            "\u001b[1m3/3\u001b[0m \u001b[32m━━━━━━━━━━━━━━━━━━━━\u001b[0m\u001b[37m\u001b[0m \u001b[1m0s\u001b[0m 13ms/step - accuracy: 0.9031 - loss: 0.2557 \n",
            "Test Accuracy: 0.9000\n"
          ]
        }
      ]
    },
    {
      "cell_type": "code",
      "source": [
        "train_loss, train_accuracy = model2.evaluate([x_train_text1, x_train_numeric1], y_train1)\n",
        "print(f\"train Accuracy: {train_accuracy:.4f}\")"
      ],
      "metadata": {
        "colab": {
          "base_uri": "https://localhost:8080/"
        },
        "id": "SkYQfDoYeRVt",
        "outputId": "acd1f6f3-fb34-4e8d-fc43-1627928477bc"
      },
      "execution_count": 119,
      "outputs": [
        {
          "output_type": "stream",
          "name": "stdout",
          "text": [
            "\u001b[1m10/10\u001b[0m \u001b[32m━━━━━━━━━━━━━━━━━━━━\u001b[0m\u001b[37m\u001b[0m \u001b[1m0s\u001b[0m 21ms/step - accuracy: 0.9839 - loss: 0.0947\n",
            "train Accuracy: 0.9719\n"
          ]
        }
      ]
    },
    {
      "cell_type": "code",
      "source": [
        "# Predict on test set\n",
        "y_pred1 = model2.predict([x_test_text1, x_test_numeric1])\n",
        "y_pred_classes1 = (y_pred1 > 0.5).astype(int)"
      ],
      "metadata": {
        "colab": {
          "base_uri": "https://localhost:8080/"
        },
        "id": "7SOavnUBeemF",
        "outputId": "6e309412-650d-4317-8fbd-20ccf2005f03"
      },
      "execution_count": 121,
      "outputs": [
        {
          "output_type": "stream",
          "name": "stdout",
          "text": [
            "\u001b[1m3/3\u001b[0m \u001b[32m━━━━━━━━━━━━━━━━━━━━\u001b[0m\u001b[37m\u001b[0m \u001b[1m0s\u001b[0m 89ms/step\n"
          ]
        }
      ]
    },
    {
      "cell_type": "code",
      "source": [
        "# Confusion matrix\n",
        "cm1 = confusion_matrix(y_test1, y_pred_classes1)\n",
        "print(cm1)"
      ],
      "metadata": {
        "colab": {
          "base_uri": "https://localhost:8080/"
        },
        "id": "a05MjKWIerWl",
        "outputId": "a045d0a1-ef0d-446e-d6a9-816b829a04e9"
      },
      "execution_count": 122,
      "outputs": [
        {
          "output_type": "stream",
          "name": "stdout",
          "text": [
            "[[38  4]\n",
            " [ 4 34]]\n"
          ]
        }
      ]
    },
    {
      "cell_type": "code",
      "source": [
        "import seaborn as sns\n",
        "# Plot confusion matrix\n",
        "plt.figure(figsize=(10, 6))\n",
        "sns.heatmap(cm1, annot=True, fmt='d', cmap='Blues')\n",
        "plt.xlabel('Predicted')\n",
        "plt.ylabel('Actual')\n",
        "plt.title('Confusion Matrix')\n",
        "plt.show()"
      ],
      "metadata": {
        "colab": {
          "base_uri": "https://localhost:8080/",
          "height": 564
        },
        "id": "7A-phMiCe571",
        "outputId": "02db7a32-a4a7-4731-ae21-c2417d40d495"
      },
      "execution_count": 123,
      "outputs": [
        {
          "output_type": "display_data",
          "data": {
            "text/plain": [
              "<Figure size 1000x600 with 2 Axes>"
            ],
            "image/png": "[encoded data removed]"
          },
          "metadata": {}
        }
      ]
    },
    {
      "cell_type": "code",
      "source": [
        "# Save the retrained model to a new file\n",
        "model2.save('twitter_bot_detection_model_retrained.h5')\n"
      ],
      "metadata": {
        "colab": {
          "base_uri": "https://localhost:8080/"
        },
        "id": "aViS6nCegzaG",
        "outputId": "a411db3b-d2cb-49ec-f086-12fd6a90f3f9"
      },
      "execution_count": 124,
      "outputs": [
        {
          "output_type": "stream",
          "name": "stderr",
          "text": [
            "WARNING:absl:You are saving your model as an HDF5 file via `model.save()` or `keras.saving.save_model(model)`. This file format is considered legacy. We recommend using instead the native Keras format, e.g. `model.save('my_model.keras')` or `keras.saving.save_model(model, 'my_model.keras')`. \n"
          ]
        }
      ]
    },
    {
      "cell_type": "code",
      "source": [],
      "metadata": {
        "id": "bf6btLTtxecn"
      },
      "execution_count": null,
      "outputs": []
    }
  ]
}