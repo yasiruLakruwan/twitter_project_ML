{
  "nbformat": 4,
  "nbformat_minor": 0,
  "metadata": {
    "colab": {
      "provenance": [],
      "gpuType": "T4"
    },
    "kernelspec": {
      "name": "python3",
      "display_name": "Python 3"
    },
    "language_info": {
      "name": "python"
    },
    "accelerator": "GPU"
  },
  "cells": [
    {
      "cell_type": "code",
      "execution_count": 1,
      "metadata": {
        "id": "eGkyRDNedvkd"
      },
      "outputs": [],
      "source": [
        "import random\n",
        "import re\n",
        "import spacy\n",
        "import pandas as pd\n",
        "\n",
        "# Load the SpaCy model for NER\n",
        "nlp = spacy.load(\"en_core_web_sm\")"
      ]
    },
    {
      "cell_type": "code",
      "source": [
        "# Expanded global entities\n",
        "politicians_global = [\n",
        "    \"Biden\", \"Modi\", \"Merkel\", \"Macron\", \"Trudeau\",\n",
        "    \"Zelensky\", \"Xi Jinping\", \"Putin\", \"Sunak\", \"Sanchez\",\n",
        "    \"Ardern\", \"Bolsonaro\", \"López Obrador\", \"Erdogan\", \"Al-Sisi\"\n",
        "]\n",
        "\n",
        "places_global = [\n",
        "    \"New York\", \"Delhi\", \"Berlin\", \"Paris\", \"Toronto\",\n",
        "    \"Kyiv\", \"Beijing\", \"Moscow\", \"London\", \"Madrid\",\n",
        "    \"Cairo\", \"Tokyo\", \"Sydney\", \"Mexico City\", \"Brasilia\",\n",
        "    \"Istanbul\", \"Johannesburg\", \"Dubai\", \"Rome\", \"Seoul\"\n",
        "]\n",
        "\n",
        "actions_global = [\n",
        "    \"crisis\", \"development\", \"security\", \"political discourse\", \"election\",\n",
        "    \"healthcare reform\", \"climate action\", \"peace talks\", \"trade deal\", \"education reform\",\n",
        "    \"tax policy\", \"immigration\", \"economic relief\", \"sanctions\", \"diplomacy\"\n",
        "]\n",
        "\n",
        "hashtags_list_global = [\n",
        "    \"#WorldNews\", \"#Politics\", \"#GlobalUpdate\", \"#Economy\", \"#Security\",\n",
        "    \"#Environment\", \"#HumanRights\", \"#HealthCare\", \"#Education\", \"#Peace\",\n",
        "    \"#Election2024\", \"#ClimateAction\", \"#TradeTalks\", \"#ReliefFund\", \"#Diplomacy\"\n",
        "]\n"
      ],
      "metadata": {
        "id": "WmzxYpc2fBA5"
      },
      "execution_count": 2,
      "outputs": []
    },
    {
      "cell_type": "code",
      "source": [
        "# Expanded global templates\n",
        "templates_global = [\n",
        "    \"[POLITICIAN] has announced a new [ACTION] policy. Share your thoughts! #WorldNews #Politics\",\n",
        "    \"Have you seen the developments over the past year? [POLITICIAN]'s efforts are trending! 😎 #GlobalUpdate\",\n",
        "    \"A major [ACTION] project just launched in [PLACE]! Stay informed. #Economy #Development\",\n",
        "    \"Breaking news: a special announcement by [POLITICIAN] is happening today. Stay tuned. 🗣️ #BreakingNews\",\n",
        "    \"[POLITICIAN] has called for action on [ACTION] during the recent summit in [PLACE]. What are your views? #Diplomacy #GlobalNews\",\n",
        "    \"In a surprising move, [POLITICIAN] supports [ACTION] in [PLACE]. Is this a new era of cooperation? #Peace #Policy\",\n",
        "    \"[PLACE] is now the center of a major [ACTION] initiative led by [POLITICIAN]. #Development #Economy\",\n",
        "    \"The new [ACTION] plan proposed by [POLITICIAN] is already stirring debate worldwide. Thoughts? #WorldNews\",\n",
        "    \"Could [POLITICIAN]'s stance on [ACTION] in [PLACE] shift the global balance? Tune in. #Geopolitics #Update\",\n",
        "    \"[POLITICIAN]'s recent [ACTION] policy is shaking things up. Are we seeing a turning point in [PLACE]? #BreakingNews\",\n",
        "    \"Public opinion on [POLITICIAN]'s stance on [ACTION] is split. What's your take? #GlobalDebate #Politics\",\n",
        "    \"[PLACE] braces for a new era as [POLITICIAN] pushes forward on [ACTION]. Thoughts? #Economy #Reform\",\n",
        "    \"[POLITICIAN] and [PLACE] are joining forces on a groundbreaking [ACTION] agreement! #GlobalNews\",\n",
        "    \"Today's big question: Will [POLITICIAN]'s new [ACTION] plan work? Sound off below! #PolicyDebate\",\n",
        "    \"With [POLITICIAN]'s recent announcement on [ACTION], [PLACE] is taking center stage. #Update #WorldNews\",\n",
        "    \"Is the new [ACTION] strategy by [POLITICIAN] the solution we've been waiting for? #Change #Politics\",\n",
        "    \"[PLACE] is leading a major [ACTION] project with [POLITICIAN]. Can this impact global policy? #Insight\",\n",
        "    \"The latest on [POLITICIAN]'s push for [ACTION] in [PLACE] is trending worldwide! #Policy #News\",\n",
        "    \"Is [POLITICIAN]'s stance on [ACTION] changing the political landscape in [PLACE]? #Politics #Update\",\n",
        "    \"Just in: [POLITICIAN] addresses [ACTION] concerns in [PLACE]. What's next? #BreakingNews\",\n",
        "    \"Could [POLITICIAN]'s vision for [ACTION] transform [PLACE] as we know it? #Change #Politics\",\n",
        "    \"A recent study on [POLITICIAN]'s [ACTION] policies in [PLACE] shows mixed results. #Insight #GlobalNews\",\n",
        "    \"Developing story: [PLACE] responds to [POLITICIAN]'s call for [ACTION] reform. #Policy #Debate\",\n",
        "    \"Massive [ACTION] projects are underway in [PLACE] with [POLITICIAN]'s backing. #Economy #WorldNews\",\n",
        "    \"As [POLITICIAN] pushes for [ACTION], [PLACE] might see a historic shift. #Insight #Geopolitics\",\n",
        "    \"[POLITICIAN]'s call for [ACTION] has [PLACE] on alert. What do you think? #Change #Policy\",\n",
        "    \"Will [POLITICIAN]'s latest [ACTION] proposal impact global relations? #International #Diplomacy\",\n",
        "    \"[POLITICIAN]'s [ACTION] strategy for [PLACE] is sparking discussions worldwide. #WorldNews #Update\",\n",
        "    \"Leaders worldwide are responding to [POLITICIAN]'s views on [ACTION] in [PLACE]. #Diplomacy #Politics\",\n",
        "    \"A closer look at [POLITICIAN]'s plans for [ACTION] and their implications for [PLACE]. #Policy #GlobalImpact\",\n",
        "]\n",
        "\n"
      ],
      "metadata": {
        "id": "qF8Qa4T3fJFr"
      },
      "execution_count": 3,
      "outputs": []
    },
    {
      "cell_type": "code",
      "source": [
        "# Function to generate a random tweet\n",
        "def generate_global_tweet():\n",
        "    template = random.choice(templates_global)\n",
        "    tweet = template.replace(\"[POLITICIAN]\", random.choice(politicians_global))\n",
        "    tweet = tweet.replace(\"[PLACE]\", random.choice(places_global))\n",
        "    tweet = tweet.replace(\"[ACTION]\", random.choice(actions_global))\n",
        "\n",
        "    # Add random mentions and hashtags\n",
        "    tweet += f\" @{random.choice(politicians_global)} {random.choice(hashtags_list_global)} {random.choice(hashtags_list_global)}\"\n",
        "    return tweet\n"
      ],
      "metadata": {
        "id": "JoSGrqqwfM4T"
      },
      "execution_count": 4,
      "outputs": []
    },
    {
      "cell_type": "code",
      "source": [
        "# Feature extraction function\n",
        "def extract_features(tweet):\n",
        "    # Mentions\n",
        "    mentions = len(re.findall(r\"@\\w+\", tweet))\n",
        "\n",
        "    # Hashtags\n",
        "    hashtags = len(re.findall(r\"#\\w+\", tweet))\n",
        "\n",
        "    # Named Entity Recognition (NER) to extract ORG and PERSON\n",
        "    doc = nlp(tweet)\n",
        "    org_count = len([ent for ent in doc.ents if ent.label_ == \"ORG\"])\n",
        "    person_count = len([ent for ent in doc.ents if ent.label_ == \"PERSON\"])\n",
        "\n",
        "    # ORG and PERSON percentage relative to the number of entities\n",
        "    total_entities = len(doc.ents)\n",
        "    org_percentage = (org_count / total_entities) * 100 if total_entities > 0 else 0\n",
        "    person_percentage = (person_count / total_entities) * 100 if total_entities > 0 else 0\n",
        "\n",
        "    # BotScoreBinary (example rule: bot if mentions + hashtags > 3)\n",
        "    bot_score_binary = 1 if (mentions + hashtags) > 3 else 0\n",
        "\n",
        "    return {\n",
        "        \"tweet\": tweet,\n",
        "        \"mentions\": mentions,\n",
        "        \"hashtags\": hashtags,\n",
        "        \"ORG_percentage\": org_percentage,\n",
        "        \"PERSON_percentage\": person_percentage,\n",
        "        \"BotScoreBinary\": bot_score_binary\n",
        "    }\n",
        "\n",
        "# Generate 100 synthetic global tweets and extract features\n",
        "global_tweets_data = [extract_features(generate_global_tweet()) for _ in range(10000)]\n"
      ],
      "metadata": {
        "id": "lcCIFe80fSAC"
      },
      "execution_count": 5,
      "outputs": []
    },
    {
      "cell_type": "code",
      "source": [
        "# Convert to DataFrame\n",
        "global_tweets_df = pd.DataFrame(global_tweets_data)\n",
        "\n",
        "# Save to CSV file\n",
        "global_tweets_df.to_csv('global_bot_data_100k.csv', index=False)\n"
      ],
      "metadata": {
        "id": "C7ft1yFafhRK"
      },
      "execution_count": 8,
      "outputs": []
    }
  ]
}