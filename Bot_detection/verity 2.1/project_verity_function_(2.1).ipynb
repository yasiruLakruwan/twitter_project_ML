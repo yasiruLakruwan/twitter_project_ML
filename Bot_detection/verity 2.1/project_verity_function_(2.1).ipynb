{
  "nbformat": 4,
  "nbformat_minor": 0,
  "metadata": {
    "colab": {
      "provenance": [],
      "gpuType": "T4"
    },
    "kernelspec": {
      "name": "python3",
      "display_name": "Python 3"
    },
    "language_info": {
      "name": "python"
    },
    "accelerator": "GPU"
  },
  "cells": [
    {
      "cell_type": "code",
      "execution_count": 145,
      "metadata": {
        "id": "TAd9MJO7ulQ9"
      },
      "outputs": [],
      "source": [
        "import pandas as pd\n",
        "import numpy as np"
      ]
    },
    {
      "cell_type": "code",
      "source": [
        "import pandas as pd\n",
        "import numpy as np\n",
        "from sklearn.preprocessing import MinMaxScaler\n",
        "from sklearn.model_selection import train_test_split\n",
        "from sklearn.metrics import accuracy_score, precision_score, recall_score, f1_score, confusion_matrix\n",
        "import tensorflow as tf\n",
        "from tensorflow.keras.preprocessing.text import Tokenizer\n",
        "from tensorflow.keras.preprocessing.sequence import pad_sequences\n",
        "from tensorflow.keras.models import Model\n",
        "from tensorflow.keras.layers import Input, Embedding, LSTM, Dense, Dropout, concatenate\n",
        "from imblearn.over_sampling import SMOTE\n",
        "from sklearn.preprocessing import StandardScaler\n",
        "from tensorflow.keras.callbacks import EarlyStopping\n",
        "from tensorflow.keras.regularizers import l2"
      ],
      "metadata": {
        "id": "LvDZMNV12Ptl"
      },
      "execution_count": 146,
      "outputs": []
    },
    {
      "cell_type": "code",
      "source": [
        "data=pd.read_csv('/content/drive/MyDrive/data/Twitter Analysis.csv')\n",
        "data.head()"
      ],
      "metadata": {
        "colab": {
          "base_uri": "https://localhost:8080/",
          "height": 707
        },
        "id": "FYeFLdid2TTC",
        "outputId": "3e763f90-71f8-49eb-fc2d-89e371b7cae0"
      },
      "execution_count": 147,
      "outputs": [
        {
          "output_type": "execute_result",
          "data": {
            "text/plain": [
              "   Unnamed: 0  majority_target  \\\n",
              "0           0             True   \n",
              "1           1             True   \n",
              "2           2             True   \n",
              "3           3             True   \n",
              "4           4             True   \n",
              "\n",
              "                                           statement  BinaryNumTarget  \\\n",
              "0  End of eviction moratorium means millions of A...              1.0   \n",
              "1  End of eviction moratorium means millions of A...              1.0   \n",
              "2  End of eviction moratorium means millions of A...              1.0   \n",
              "3  End of eviction moratorium means millions of A...              1.0   \n",
              "4  End of eviction moratorium means millions of A...              1.0   \n",
              "\n",
              "                                               tweet  followers_count  \\\n",
              "0  @POTUS Biden Blunders - 6 Month Update\\n\\nInfl...           4262.0   \n",
              "1  @S0SickRick @Stairmaster_ @6d6f636869 Not as m...           1393.0   \n",
              "2  THE SUPREME COURT is siding with super rich pr...              9.0   \n",
              "3  @POTUS Biden Blunders\\n\\nBroken campaign promi...           4262.0   \n",
              "4  @OhComfy I agree. The confluence of events rig...             70.0   \n",
              "\n",
              "   friends_count  favourites_count  statuses_count  listed_count  ...  \\\n",
              "0         3619.0           34945.0         16423.0          44.0  ...   \n",
              "1         1621.0           31436.0         37184.0          64.0  ...   \n",
              "2           84.0             219.0          1184.0           0.0  ...   \n",
              "3         3619.0           34945.0         16423.0          44.0  ...   \n",
              "4          166.0           15282.0          2194.0           0.0  ...   \n",
              "\n",
              "   determiners conjunctions  dots  exclamation  questions  ampersand  \\\n",
              "0            0            0     5            0          1          0   \n",
              "1            0            2     1            0          0          0   \n",
              "2            0            1     0            0          0          0   \n",
              "3            0            1     3            0          0          1   \n",
              "4            0            1     3            0          1          0   \n",
              "\n",
              "   capitals  digits  long_word_freq  short_word_freq  \n",
              "0        33       3               5               19  \n",
              "1        14       0               2               34  \n",
              "2         3       0               4               10  \n",
              "3         6       8               1               30  \n",
              "4        11       3               2               19  \n",
              "\n",
              "[5 rows x 64 columns]"
            ],
            "text/html": [
              "\n",
              "  <div id=\"df-3579d1ab-b87e-4f4f-b9d8-b6d14c38de6f\" class=\"colab-df-container\">\n",
              "    <div>\n",
              "<style scoped>\n",
              "    .dataframe tbody tr th:only-of-type {\n",
              "        vertical-align: middle;\n",
              "    }\n",
              "\n",
              "    .dataframe tbody tr th {\n",
              "        vertical-align: top;\n",
              "    }\n",
              "\n",
              "    .dataframe thead th {\n",
              "        text-align: right;\n",
              "    }\n",
              "</style>\n",
              "<table border=\"1\" class=\"dataframe\">\n",
              "  <thead>\n",
              "    <tr style=\"text-align: right;\">\n",
              "      <th></th>\n",
              "      <th>Unnamed: 0</th>\n",
              "      <th>majority_target</th>\n",
              "      <th>statement</th>\n",
              "      <th>BinaryNumTarget</th>\n",
              "      <th>tweet</th>\n",
              "      <th>followers_count</th>\n",
              "      <th>friends_count</th>\n",
              "      <th>favourites_count</th>\n",
              "      <th>statuses_count</th>\n",
              "      <th>listed_count</th>\n",
              "      <th>...</th>\n",
              "      <th>determiners</th>\n",
              "      <th>conjunctions</th>\n",
              "      <th>dots</th>\n",
              "      <th>exclamation</th>\n",
              "      <th>questions</th>\n",
              "      <th>ampersand</th>\n",
              "      <th>capitals</th>\n",
              "      <th>digits</th>\n",
              "      <th>long_word_freq</th>\n",
              "      <th>short_word_freq</th>\n",
              "    </tr>\n",
              "  </thead>\n",
              "  <tbody>\n",
              "    <tr>\n",
              "      <th>0</th>\n",
              "      <td>0</td>\n",
              "      <td>True</td>\n",
              "      <td>End of eviction moratorium means millions of A...</td>\n",
              "      <td>1.0</td>\n",
              "      <td>@POTUS Biden Blunders - 6 Month Update\\n\\nInfl...</td>\n",
              "      <td>4262.0</td>\n",
              "      <td>3619.0</td>\n",
              "      <td>34945.0</td>\n",
              "      <td>16423.0</td>\n",
              "      <td>44.0</td>\n",
              "      <td>...</td>\n",
              "      <td>0</td>\n",
              "      <td>0</td>\n",
              "      <td>5</td>\n",
              "      <td>0</td>\n",
              "      <td>1</td>\n",
              "      <td>0</td>\n",
              "      <td>33</td>\n",
              "      <td>3</td>\n",
              "      <td>5</td>\n",
              "      <td>19</td>\n",
              "    </tr>\n",
              "    <tr>\n",
              "      <th>1</th>\n",
              "      <td>1</td>\n",
              "      <td>True</td>\n",
              "      <td>End of eviction moratorium means millions of A...</td>\n",
              "      <td>1.0</td>\n",
              "      <td>@S0SickRick @Stairmaster_ @6d6f636869 Not as m...</td>\n",
              "      <td>1393.0</td>\n",
              "      <td>1621.0</td>\n",
              "      <td>31436.0</td>\n",
              "      <td>37184.0</td>\n",
              "      <td>64.0</td>\n",
              "      <td>...</td>\n",
              "      <td>0</td>\n",
              "      <td>2</td>\n",
              "      <td>1</td>\n",
              "      <td>0</td>\n",
              "      <td>0</td>\n",
              "      <td>0</td>\n",
              "      <td>14</td>\n",
              "      <td>0</td>\n",
              "      <td>2</td>\n",
              "      <td>34</td>\n",
              "    </tr>\n",
              "    <tr>\n",
              "      <th>2</th>\n",
              "      <td>2</td>\n",
              "      <td>True</td>\n",
              "      <td>End of eviction moratorium means millions of A...</td>\n",
              "      <td>1.0</td>\n",
              "      <td>THE SUPREME COURT is siding with super rich pr...</td>\n",
              "      <td>9.0</td>\n",
              "      <td>84.0</td>\n",
              "      <td>219.0</td>\n",
              "      <td>1184.0</td>\n",
              "      <td>0.0</td>\n",
              "      <td>...</td>\n",
              "      <td>0</td>\n",
              "      <td>1</td>\n",
              "      <td>0</td>\n",
              "      <td>0</td>\n",
              "      <td>0</td>\n",
              "      <td>0</td>\n",
              "      <td>3</td>\n",
              "      <td>0</td>\n",
              "      <td>4</td>\n",
              "      <td>10</td>\n",
              "    </tr>\n",
              "    <tr>\n",
              "      <th>3</th>\n",
              "      <td>3</td>\n",
              "      <td>True</td>\n",
              "      <td>End of eviction moratorium means millions of A...</td>\n",
              "      <td>1.0</td>\n",
              "      <td>@POTUS Biden Blunders\\n\\nBroken campaign promi...</td>\n",
              "      <td>4262.0</td>\n",
              "      <td>3619.0</td>\n",
              "      <td>34945.0</td>\n",
              "      <td>16423.0</td>\n",
              "      <td>44.0</td>\n",
              "      <td>...</td>\n",
              "      <td>0</td>\n",
              "      <td>1</td>\n",
              "      <td>3</td>\n",
              "      <td>0</td>\n",
              "      <td>0</td>\n",
              "      <td>1</td>\n",
              "      <td>6</td>\n",
              "      <td>8</td>\n",
              "      <td>1</td>\n",
              "      <td>30</td>\n",
              "    </tr>\n",
              "    <tr>\n",
              "      <th>4</th>\n",
              "      <td>4</td>\n",
              "      <td>True</td>\n",
              "      <td>End of eviction moratorium means millions of A...</td>\n",
              "      <td>1.0</td>\n",
              "      <td>@OhComfy I agree. The confluence of events rig...</td>\n",
              "      <td>70.0</td>\n",
              "      <td>166.0</td>\n",
              "      <td>15282.0</td>\n",
              "      <td>2194.0</td>\n",
              "      <td>0.0</td>\n",
              "      <td>...</td>\n",
              "      <td>0</td>\n",
              "      <td>1</td>\n",
              "      <td>3</td>\n",
              "      <td>0</td>\n",
              "      <td>1</td>\n",
              "      <td>0</td>\n",
              "      <td>11</td>\n",
              "      <td>3</td>\n",
              "      <td>2</td>\n",
              "      <td>19</td>\n",
              "    </tr>\n",
              "  </tbody>\n",
              "</table>\n",
              "<p>5 rows × 64 columns</p>\n",
              "</div>\n",
              "    <div class=\"colab-df-buttons\">\n",
              "\n",
              "  <div class=\"colab-df-container\">\n",
              "    <button class=\"colab-df-convert\" onclick=\"convertToInteractive('df-3579d1ab-b87e-4f4f-b9d8-b6d14c38de6f')\"\n",
              "            title=\"Convert this dataframe to an interactive table.\"\n",
              "            style=\"display:none;\">\n",
              "\n",
              "  <svg xmlns=\"http://www.w3.org/2000/svg\" height=\"24px\" viewBox=\"0 -960 960 960\">\n",
              "    <path d=\"M120-120v-720h720v720H120Zm60-500h600v-160H180v160Zm220 220h160v-160H400v160Zm0 220h160v-160H400v160ZM180-400h160v-160H180v160Zm440 0h160v-160H620v160ZM180-180h160v-160H180v160Zm440 0h160v-160H620v160Z\"/>\n",
              "  </svg>\n",
              "    </button>\n",
              "\n",
              "  <style>\n",
              "    .colab-df-container {\n",
              "      display:flex;\n",
              "      gap: 12px;\n",
              "    }\n",
              "\n",
              "    .colab-df-convert {\n",
              "      background-color: #E8F0FE;\n",
              "      border: none;\n",
              "      border-radius: 50%;\n",
              "      cursor: pointer;\n",
              "      display: none;\n",
              "      fill: #1967D2;\n",
              "      height: 32px;\n",
              "      padding: 0 0 0 0;\n",
              "      width: 32px;\n",
              "    }\n",
              "\n",
              "    .colab-df-convert:hover {\n",
              "      background-color: #E2EBFA;\n",
              "      box-shadow: 0px 1px 2px rgba(60, 64, 67, 0.3), 0px 1px 3px 1px rgba(60, 64, 67, 0.15);\n",
              "      fill: #174EA6;\n",
              "    }\n",
              "\n",
              "    .colab-df-buttons div {\n",
              "      margin-bottom: 4px;\n",
              "    }\n",
              "\n",
              "    [theme=dark] .colab-df-convert {\n",
              "      background-color: #3B4455;\n",
              "      fill: #D2E3FC;\n",
              "    }\n",
              "\n",
              "    [theme=dark] .colab-df-convert:hover {\n",
              "      background-color: #434B5C;\n",
              "      box-shadow: 0px 1px 3px 1px rgba(0, 0, 0, 0.15);\n",
              "      filter: drop-shadow(0px 1px 2px rgba(0, 0, 0, 0.3));\n",
              "      fill: #FFFFFF;\n",
              "    }\n",
              "  </style>\n",
              "\n",
              "    <script>\n",
              "      const buttonEl =\n",
              "        document.querySelector('#df-3579d1ab-b87e-4f4f-b9d8-b6d14c38de6f button.colab-df-convert');\n",
              "      buttonEl.style.display =\n",
              "        google.colab.kernel.accessAllowed ? 'block' : 'none';\n",
              "\n",
              "      async function convertToInteractive(key) {\n",
              "        const element = document.querySelector('#df-3579d1ab-b87e-4f4f-b9d8-b6d14c38de6f');\n",
              "        const dataTable =\n",
              "          await google.colab.kernel.invokeFunction('convertToInteractive',\n",
              "                                                    [key], {});\n",
              "        if (!dataTable) return;\n",
              "\n",
              "        const docLinkHtml = 'Like what you see? Visit the ' +\n",
              "          '<a target=\"_blank\" href=https://colab.research.google.com/notebooks/data_table.ipynb>data table notebook</a>'\n",
              "          + ' to learn more about interactive tables.';\n",
              "        element.innerHTML = '';\n",
              "        dataTable['output_type'] = 'display_data';\n",
              "        await google.colab.output.renderOutput(dataTable, element);\n",
              "        const docLink = document.createElement('div');\n",
              "        docLink.innerHTML = docLinkHtml;\n",
              "        element.appendChild(docLink);\n",
              "      }\n",
              "    </script>\n",
              "  </div>\n",
              "\n",
              "\n",
              "<div id=\"df-853d6ef3-196b-41a5-91c1-9de0461f474b\">\n",
              "  <button class=\"colab-df-quickchart\" onclick=\"quickchart('df-853d6ef3-196b-41a5-91c1-9de0461f474b')\"\n",
              "            title=\"Suggest charts\"\n",
              "            style=\"display:none;\">\n",
              "\n",
              "<svg xmlns=\"http://www.w3.org/2000/svg\" height=\"24px\"viewBox=\"0 0 24 24\"\n",
              "     width=\"24px\">\n",
              "    <g>\n",
              "        <path d=\"M19 3H5c-1.1 0-2 .9-2 2v14c0 1.1.9 2 2 2h14c1.1 0 2-.9 2-2V5c0-1.1-.9-2-2-2zM9 17H7v-7h2v7zm4 0h-2V7h2v10zm4 0h-2v-4h2v4z\"/>\n",
              "    </g>\n",
              "</svg>\n",
              "  </button>\n",
              "\n",
              "<style>\n",
              "  .colab-df-quickchart {\n",
              "      --bg-color: #E8F0FE;\n",
              "      --fill-color: #1967D2;\n",
              "      --hover-bg-color: #E2EBFA;\n",
              "      --hover-fill-color: #174EA6;\n",
              "      --disabled-fill-color: #AAA;\n",
              "      --disabled-bg-color: #DDD;\n",
              "  }\n",
              "\n",
              "  [theme=dark] .colab-df-quickchart {\n",
              "      --bg-color: #3B4455;\n",
              "      --fill-color: #D2E3FC;\n",
              "      --hover-bg-color: #434B5C;\n",
              "      --hover-fill-color: #FFFFFF;\n",
              "      --disabled-bg-color: #3B4455;\n",
              "      --disabled-fill-color: #666;\n",
              "  }\n",
              "\n",
              "  .colab-df-quickchart {\n",
              "    background-color: var(--bg-color);\n",
              "    border: none;\n",
              "    border-radius: 50%;\n",
              "    cursor: pointer;\n",
              "    display: none;\n",
              "    fill: var(--fill-color);\n",
              "    height: 32px;\n",
              "    padding: 0;\n",
              "    width: 32px;\n",
              "  }\n",
              "\n",
              "  .colab-df-quickchart:hover {\n",
              "    background-color: var(--hover-bg-color);\n",
              "    box-shadow: 0 1px 2px rgba(60, 64, 67, 0.3), 0 1px 3px 1px rgba(60, 64, 67, 0.15);\n",
              "    fill: var(--button-hover-fill-color);\n",
              "  }\n",
              "\n",
              "  .colab-df-quickchart-complete:disabled,\n",
              "  .colab-df-quickchart-complete:disabled:hover {\n",
              "    background-color: var(--disabled-bg-color);\n",
              "    fill: var(--disabled-fill-color);\n",
              "    box-shadow: none;\n",
              "  }\n",
              "\n",
              "  .colab-df-spinner {\n",
              "    border: 2px solid var(--fill-color);\n",
              "    border-color: transparent;\n",
              "    border-bottom-color: var(--fill-color);\n",
              "    animation:\n",
              "      spin 1s steps(1) infinite;\n",
              "  }\n",
              "\n",
              "  @keyframes spin {\n",
              "    0% {\n",
              "      border-color: transparent;\n",
              "      border-bottom-color: var(--fill-color);\n",
              "      border-left-color: var(--fill-color);\n",
              "    }\n",
              "    20% {\n",
              "      border-color: transparent;\n",
              "      border-left-color: var(--fill-color);\n",
              "      border-top-color: var(--fill-color);\n",
              "    }\n",
              "    30% {\n",
              "      border-color: transparent;\n",
              "      border-left-color: var(--fill-color);\n",
              "      border-top-color: var(--fill-color);\n",
              "      border-right-color: var(--fill-color);\n",
              "    }\n",
              "    40% {\n",
              "      border-color: transparent;\n",
              "      border-right-color: var(--fill-color);\n",
              "      border-top-color: var(--fill-color);\n",
              "    }\n",
              "    60% {\n",
              "      border-color: transparent;\n",
              "      border-right-color: var(--fill-color);\n",
              "    }\n",
              "    80% {\n",
              "      border-color: transparent;\n",
              "      border-right-color: var(--fill-color);\n",
              "      border-bottom-color: var(--fill-color);\n",
              "    }\n",
              "    90% {\n",
              "      border-color: transparent;\n",
              "      border-bottom-color: var(--fill-color);\n",
              "    }\n",
              "  }\n",
              "</style>\n",
              "\n",
              "  <script>\n",
              "    async function quickchart(key) {\n",
              "      const quickchartButtonEl =\n",
              "        document.querySelector('#' + key + ' button');\n",
              "      quickchartButtonEl.disabled = true;  // To prevent multiple clicks.\n",
              "      quickchartButtonEl.classList.add('colab-df-spinner');\n",
              "      try {\n",
              "        const charts = await google.colab.kernel.invokeFunction(\n",
              "            'suggestCharts', [key], {});\n",
              "      } catch (error) {\n",
              "        console.error('Error during call to suggestCharts:', error);\n",
              "      }\n",
              "      quickchartButtonEl.classList.remove('colab-df-spinner');\n",
              "      quickchartButtonEl.classList.add('colab-df-quickchart-complete');\n",
              "    }\n",
              "    (() => {\n",
              "      let quickchartButtonEl =\n",
              "        document.querySelector('#df-853d6ef3-196b-41a5-91c1-9de0461f474b button');\n",
              "      quickchartButtonEl.style.display =\n",
              "        google.colab.kernel.accessAllowed ? 'block' : 'none';\n",
              "    })();\n",
              "  </script>\n",
              "</div>\n",
              "\n",
              "    </div>\n",
              "  </div>\n"
            ],
            "application/vnd.google.colaboratory.intrinsic+json": {
              "type": "dataframe",
              "variable_name": "data"
            }
          },
          "metadata": {},
          "execution_count": 147
        }
      ]
    },
    {
      "cell_type": "code",
      "source": [
        "# Separate features and target\n",
        "x = data.drop(columns=['BotScoreBinary'])\n",
        "y = data['BotScoreBinary']"
      ],
      "metadata": {
        "id": "L45JrBU-3Ap6"
      },
      "execution_count": 148,
      "outputs": []
    },
    {
      "cell_type": "code",
      "source": [
        "# Text data (tweet) preprocessing\n",
        "max_words = 1000  # Max number of words in tokenizer\n",
        "max_sequence_length = 100  # Max length of each sequence (tweets)\n"
      ],
      "metadata": {
        "id": "SUxj4RvN3UYx"
      },
      "execution_count": 149,
      "outputs": []
    },
    {
      "cell_type": "code",
      "source": [
        "tokenizer = Tokenizer(num_words=max_words)\n",
        "tokenizer.fit_on_texts(x['tweet'])\n",
        "sequences = tokenizer.texts_to_sequences(x['tweet'])\n",
        "x_text = pad_sequences(sequences, maxlen=max_sequence_length)"
      ],
      "metadata": {
        "id": "yr2a8Yay3vsp"
      },
      "execution_count": 150,
      "outputs": []
    },
    {
      "cell_type": "code",
      "source": [
        "# Numeric features scaling\n",
        "numeric_features = [\n",
        "    'followers_count', 'friends_count', 'statuses_count', 'listed_count',\n",
        "    'retweets', 'mentions', 'Word count', 'adjectives', 'adverbs',\n",
        "    'pronouns', 'capitals', 'digits', 'hashtags', 'URLs', 'ORG_percentage',\n",
        "    'PERSON_percentage', 'cred', 'normalize_influence'\n",
        "]"
      ],
      "metadata": {
        "id": "YuRf6WVa34AK"
      },
      "execution_count": 151,
      "outputs": []
    },
    {
      "cell_type": "code",
      "source": [
        "x_numeric = data[numeric_features].values\n",
        "scaler = StandardScaler()\n",
        "x_numeric_scaled = scaler.fit_transform(x_numeric)"
      ],
      "metadata": {
        "id": "ib_7u4jL4MLd"
      },
      "execution_count": 152,
      "outputs": []
    },
    {
      "cell_type": "code",
      "source": [
        "# Split data into training and testing sets\n",
        "x_train_text, x_test_text, x_train_numeric, x_test_numeric, y_train, y_test = train_test_split(\n",
        "    x_text, x_numeric_scaled, y, test_size=0.2, random_state=42)"
      ],
      "metadata": {
        "id": "DjHBUQCX4XuV"
      },
      "execution_count": 153,
      "outputs": []
    },
    {
      "cell_type": "code",
      "source": [
        "# Address class imbalance\n",
        "smote = SMOTE(random_state=42)\n",
        "x_train_text_resampled, y_train_resampled = smote.fit_resample(x_train_text, y_train)\n",
        "x_train_numeric_resampled, y_train_resampled = smote.fit_resample(x_train_numeric, y_train)"
      ],
      "metadata": {
        "id": "AeTtogj2ps6Z"
      },
      "execution_count": 154,
      "outputs": []
    },
    {
      "cell_type": "code",
      "source": [
        "# Define RNN model architecture\n",
        "embedding_dim = 50  # Dimension of word embeddings"
      ],
      "metadata": {
        "id": "--iILTKW4z5W"
      },
      "execution_count": 155,
      "outputs": []
    },
    {
      "cell_type": "code",
      "source": [
        "# Text input branch\n",
        "text_input = Input(shape=(max_sequence_length,), name='text_input')\n",
        "embedding_layer = Embedding(input_dim=max_words, output_dim=embedding_dim)(text_input)\n",
        "lstm_layer = LSTM(30, kernel_regularizer=l2(0.01))(embedding_layer)\n",
        "dropout_text = Dropout(0.5)(lstm_layer)"
      ],
      "metadata": {
        "id": "KKjBDgZf42I0"
      },
      "execution_count": 156,
      "outputs": []
    },
    {
      "cell_type": "code",
      "source": [
        "# Numeric input branch\n",
        "numeric_input = Input(shape=(len(numeric_features),), name='numeric_input')\n",
        "dense_layer = Dense(64, activation='relu', kernel_regularizer=l2(0.01))(numeric_input)\n",
        "dropout_numeric = Dropout(0.5)(dense_layer)"
      ],
      "metadata": {
        "id": "cB56w1DR475m"
      },
      "execution_count": 157,
      "outputs": []
    },
    {
      "cell_type": "code",
      "source": [
        "# Concatenate both branches\n",
        "concatenated = concatenate([dropout_text, dropout_numeric])"
      ],
      "metadata": {
        "id": "Plrf9agw4_hA"
      },
      "execution_count": 158,
      "outputs": []
    },
    {
      "cell_type": "code",
      "source": [
        "# Output layer\n",
        "output = Dense(1, activation='sigmoid', name='output')(concatenated)"
      ],
      "metadata": {
        "id": "FGCpzWG35K89"
      },
      "execution_count": 159,
      "outputs": []
    },
    {
      "cell_type": "code",
      "source": [
        "# Create model\n",
        "model = Model(inputs=[text_input, numeric_input], outputs=output)"
      ],
      "metadata": {
        "id": "u1jHmP3E5Qas"
      },
      "execution_count": 160,
      "outputs": []
    },
    {
      "cell_type": "code",
      "source": [
        "# Compile model\n",
        "model.compile(optimizer='adam', loss='binary_crossentropy', metrics=['accuracy'])\n",
        "model.summary()"
      ],
      "metadata": {
        "colab": {
          "base_uri": "https://localhost:8080/"
        },
        "id": "Y8wnAzZK5S8x",
        "outputId": "bec57f02-fde1-4450-b01e-b892d8e0e2d9"
      },
      "execution_count": 161,
      "outputs": [
        {
          "output_type": "stream",
          "name": "stdout",
          "text": [
            "Model: \"model_4\"\n",
            "__________________________________________________________________________________________________\n",
            " Layer (type)                Output Shape                 Param #   Connected to                  \n",
            "==================================================================================================\n",
            " text_input (InputLayer)     [(None, 100)]                0         []                            \n",
            "                                                                                                  \n",
            " embedding_5 (Embedding)     (None, 100, 50)              50000     ['text_input[0][0]']          \n",
            "                                                                                                  \n",
            " numeric_input (InputLayer)  [(None, 18)]                 0         []                            \n",
            "                                                                                                  \n",
            " lstm_5 (LSTM)               (None, 30)                   9720      ['embedding_5[0][0]']         \n",
            "                                                                                                  \n",
            " dense_5 (Dense)             (None, 64)                   1216      ['numeric_input[0][0]']       \n",
            "                                                                                                  \n",
            " dropout_4 (Dropout)         (None, 30)                   0         ['lstm_5[0][0]']              \n",
            "                                                                                                  \n",
            " dropout_5 (Dropout)         (None, 64)                   0         ['dense_5[0][0]']             \n",
            "                                                                                                  \n",
            " concatenate_5 (Concatenate  (None, 94)                   0         ['dropout_4[0][0]',           \n",
            " )                                                                   'dropout_5[0][0]']           \n",
            "                                                                                                  \n",
            " output (Dense)              (None, 1)                    95        ['concatenate_5[0][0]']       \n",
            "                                                                                                  \n",
            "==================================================================================================\n",
            "Total params: 61031 (238.40 KB)\n",
            "Trainable params: 61031 (238.40 KB)\n",
            "Non-trainable params: 0 (0.00 Byte)\n",
            "__________________________________________________________________________________________________\n"
          ]
        }
      ]
    },
    {
      "cell_type": "code",
      "source": [
        "# Early stopping\n",
        "early_stopping = EarlyStopping(monitor='val_loss', patience=3, restore_best_weights=True)"
      ],
      "metadata": {
        "id": "jJ9AxuCfqRuy"
      },
      "execution_count": 162,
      "outputs": []
    },
    {
      "cell_type": "code",
      "source": [
        "# Train model\n",
        "history = model.fit(\n",
        "    {'text_input': x_train_text_resampled, 'numeric_input': x_train_numeric_resampled},\n",
        "    y_train_resampled,\n",
        "    epochs=20,\n",
        "    batch_size=64,\n",
        "    validation_data=({'text_input': x_test_text, 'numeric_input': x_test_numeric}, y_test),\n",
        "    callbacks=[early_stopping]\n",
        ")"
      ],
      "metadata": {
        "colab": {
          "base_uri": "https://localhost:8080/"
        },
        "id": "QDCvUk155VsP",
        "outputId": "89dce39e-da24-451b-9e62-71babf4026a8"
      },
      "execution_count": 175,
      "outputs": [
        {
          "output_type": "stream",
          "name": "stdout",
          "text": [
            "Epoch 1/20\n",
            "3245/3245 [==============================] - 213s 66ms/step - loss: 0.1577 - accuracy: 0.9457 - val_loss: 0.1506 - val_accuracy: 0.9484\n",
            "Epoch 2/20\n",
            "3245/3245 [==============================] - 218s 67ms/step - loss: 0.1553 - accuracy: 0.9467 - val_loss: 0.2033 - val_accuracy: 0.9249\n",
            "Epoch 3/20\n",
            "3245/3245 [==============================] - 221s 68ms/step - loss: 0.1479 - accuracy: 0.9494 - val_loss: 0.1504 - val_accuracy: 0.9462\n",
            "Epoch 4/20\n",
            "3245/3245 [==============================] - 223s 69ms/step - loss: 0.1381 - accuracy: 0.9539 - val_loss: 0.1407 - val_accuracy: 0.9547\n",
            "Epoch 5/20\n",
            "3245/3245 [==============================] - 220s 68ms/step - loss: 0.1262 - accuracy: 0.9590 - val_loss: 0.1266 - val_accuracy: 0.9595\n",
            "Epoch 6/20\n",
            "3245/3245 [==============================] - 217s 67ms/step - loss: 0.1170 - accuracy: 0.9625 - val_loss: 0.1185 - val_accuracy: 0.9623\n",
            "Epoch 7/20\n",
            "3245/3245 [==============================] - 210s 65ms/step - loss: 0.1117 - accuracy: 0.9637 - val_loss: 0.1265 - val_accuracy: 0.9591\n",
            "Epoch 8/20\n",
            "3245/3245 [==============================] - 212s 65ms/step - loss: 0.1060 - accuracy: 0.9664 - val_loss: 0.1073 - val_accuracy: 0.9670\n",
            "Epoch 9/20\n",
            "3245/3245 [==============================] - 211s 65ms/step - loss: 0.1063 - accuracy: 0.9667 - val_loss: 0.1456 - val_accuracy: 0.9515\n",
            "Epoch 10/20\n",
            "3245/3245 [==============================] - 217s 67ms/step - loss: 0.0995 - accuracy: 0.9685 - val_loss: 0.1288 - val_accuracy: 0.9569\n",
            "Epoch 11/20\n",
            "3245/3245 [==============================] - 221s 68ms/step - loss: 0.0991 - accuracy: 0.9694 - val_loss: 0.1290 - val_accuracy: 0.9609\n"
          ]
        }
      ]
    },
    {
      "cell_type": "code",
      "source": [
        "# Evaluate model on train set\n",
        "train_loss, train_accuracy = model.evaluate({'text_input': x_train_text_resampled, 'numeric_input': x_train_numeric_resampled}, y_train_resampled)\n",
        "print(f'Train accuracy: {train_accuracy}')\n"
      ],
      "metadata": {
        "colab": {
          "base_uri": "https://localhost:8080/"
        },
        "id": "Y_K5kdnL-L2V",
        "outputId": "62accbe9-45b1-4a70-c45e-08cbfde14127"
      },
      "execution_count": 176,
      "outputs": [
        {
          "output_type": "stream",
          "name": "stdout",
          "text": [
            "6489/6489 [==============================] - 105s 16ms/step - loss: 0.0928 - accuracy: 0.9717\n",
            "Train accuracy: 0.9716982841491699\n"
          ]
        }
      ]
    },
    {
      "cell_type": "code",
      "source": [
        "# Evaluate model on test set\n",
        "test_loss, test_accuracy = model.evaluate({'text_input': x_test_text, 'numeric_input': x_test_numeric}, y_test)\n",
        "print(f'Test accuracy: {test_accuracy}')"
      ],
      "metadata": {
        "colab": {
          "base_uri": "https://localhost:8080/"
        },
        "id": "fYRt9T2jBGz8",
        "outputId": "9a2f3f81-1959-464a-ce7c-aba5ea437b41"
      },
      "execution_count": 177,
      "outputs": [
        {
          "output_type": "stream",
          "name": "stdout",
          "text": [
            "839/839 [==============================] - 13s 15ms/step - loss: 0.1073 - accuracy: 0.9670\n",
            "Test accuracy: 0.9669895768165588\n"
          ]
        }
      ]
    },
    {
      "cell_type": "code",
      "source": [
        "import matplotlib.pyplot as plt\n"
      ],
      "metadata": {
        "id": "Ao2aTUH7BmT1"
      },
      "execution_count": 178,
      "outputs": []
    },
    {
      "cell_type": "code",
      "source": [
        "# Plot training & validation accuracy values\n",
        "plt.figure(figsize=(6, 6))\n",
        "plt.plot(history.history['accuracy'], label='Train Accuracy')\n",
        "plt.plot(history.history['val_accuracy'], label='Validation Accuracy')\n",
        "plt.title('Model Accuracy')\n",
        "plt.xlabel('Epoch')\n",
        "plt.ylabel('Accuracy')\n",
        "plt.legend(loc='upper left')\n",
        "plt.grid(True)\n",
        "plt.show()"
      ],
      "metadata": {
        "colab": {
          "base_uri": "https://localhost:8080/",
          "height": 564
        },
        "id": "3R1mwu3HBmur",
        "outputId": "acb4e94c-0268-40b4-f418-e408232aa1f9"
      },
      "execution_count": 180,
      "outputs": [
        {
          "output_type": "display_data",
          "data": {
            "text/plain": [
              "<Figure size 600x600 with 1 Axes>"
            ],
            "image/png": "[encoded data removed]"
          },
          "metadata": {}
        }
      ]
    },
    {
      "cell_type": "code",
      "source": [
        "# Predict on test set\n",
        "y_pred = model.predict({'text_input': x_test_text, 'numeric_input': x_test_numeric})\n",
        "y_pred_classes = (y_pred > 0.5).astype(int)"
      ],
      "metadata": {
        "colab": {
          "base_uri": "https://localhost:8080/"
        },
        "id": "PmMXkdXYl6RC",
        "outputId": "308a70b0-e861-4d44-ad83-6f8ce3b472a3"
      },
      "execution_count": 168,
      "outputs": [
        {
          "output_type": "stream",
          "name": "stdout",
          "text": [
            "839/839 [==============================] - 14s 16ms/step\n"
          ]
        }
      ]
    },
    {
      "cell_type": "code",
      "source": [
        "# Confusion matrix\n",
        "cm = confusion_matrix(y_test, y_pred_classes)\n",
        "print(cm)"
      ],
      "metadata": {
        "colab": {
          "base_uri": "https://localhost:8080/"
        },
        "id": "lQmbMw-lmH9q",
        "outputId": "3e74890b-297a-4dd5-8d52-902f691f67f6"
      },
      "execution_count": 169,
      "outputs": [
        {
          "output_type": "stream",
          "name": "stdout",
          "text": [
            "[[24628  1418]\n",
            " [  243   551]]\n"
          ]
        }
      ]
    },
    {
      "cell_type": "code",
      "source": [
        "import seaborn as sns"
      ],
      "metadata": {
        "id": "Ov-9o20xmQJa"
      },
      "execution_count": 170,
      "outputs": []
    },
    {
      "cell_type": "code",
      "source": [
        "# Plot confusion matrix\n",
        "plt.figure(figsize=(10, 6))\n",
        "sns.heatmap(cm, annot=True, fmt='d', cmap='Blues')\n",
        "plt.xlabel('Predicted')\n",
        "plt.ylabel('Actual')\n",
        "plt.title('Confusion Matrix')\n",
        "plt.show()"
      ],
      "metadata": {
        "colab": {
          "base_uri": "https://localhost:8080/",
          "height": 564
        },
        "id": "39y0AH8UmLrQ",
        "outputId": "c6d4846d-0874-4ca4-809a-c88e4d16ad6f"
      },
      "execution_count": 171,
      "outputs": [
        {
          "output_type": "display_data",
          "data": {
            "text/plain": [
              "<Figure size 1000x600 with 2 Axes>"
            ],
            "image/png": "[encoded data removed]"
          },
          "metadata": {}
        }
      ]
    },
    {
      "cell_type": "code",
      "source": [
        "from sklearn.metrics import classification_report\n",
        "\n",
        "# Classification report\n",
        "print(classification_report(y_test, y_pred_classes))"
      ],
      "metadata": {
        "colab": {
          "base_uri": "https://localhost:8080/"
        },
        "id": "gLh9abaomTij",
        "outputId": "ffd6a251-0063-4b70-967a-9730021bde5a"
      },
      "execution_count": 184,
      "outputs": [
        {
          "output_type": "stream",
          "name": "stdout",
          "text": [
            "              precision    recall  f1-score   support\n",
            "\n",
            "         0.0       0.99      0.95      0.97     26046\n",
            "         1.0       0.28      0.69      0.40       794\n",
            "\n",
            "    accuracy                           0.94     26840\n",
            "   macro avg       0.64      0.82      0.68     26840\n",
            "weighted avg       0.97      0.94      0.95     26840\n",
            "\n"
          ]
        }
      ]
    },
    {
      "cell_type": "code",
      "source": [
        "# Save the model to a TensorFlow SavedModel format\n",
        "model.save('project_verity_function_2(V3).h5')"
      ],
      "metadata": {
        "colab": {
          "base_uri": "https://localhost:8080/"
        },
        "id": "rEEmZSW2mXP0",
        "outputId": "42cbdab3-59c2-48ef-d8b3-9688296f5cd6"
      },
      "execution_count": 185,
      "outputs": [
        {
          "output_type": "stream",
          "name": "stderr",
          "text": [
            "/usr/local/lib/python3.10/dist-packages/keras/src/engine/training.py:3103: UserWarning: You are saving your model as an HDF5 file via `model.save()`. This file format is considered legacy. We recommend using instead the native Keras format, e.g. `model.save('my_model.keras')`.\n",
            "  saving_api.save_model(\n"
          ]
        }
      ]
    }
  ]
}